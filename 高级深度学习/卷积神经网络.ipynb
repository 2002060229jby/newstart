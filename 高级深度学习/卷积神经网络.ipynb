{
 "cells": [
  {
   "cell_type": "markdown",
   "metadata": {},
   "source": [
    "## 卷积神经网络 循环神经网络"
   ]
  },
  {
   "cell_type": "code",
   "execution_count": null,
   "metadata": {},
   "outputs": [],
   "source": [
    "# 卷积神经网络非常适合处理在空间上有一定关系的数据\n",
    "# 循环神经网络非常适合处理在时间上有一定关系的数据\n",
    "\n",
    "# 卷积神经网络可以理解为空间维度上的参数共享\n",
    "# 循环神经网络可以理解为时间维度上的参数共享"
   ]
  },
  {
   "cell_type": "markdown",
   "metadata": {},
   "source": [
    "#### 建立的出发点：参数共享。"
   ]
  },
  {
   "cell_type": "code",
   "execution_count": null,
   "metadata": {},
   "outputs": [],
   "source": [
    "# 全连接神经网络最大的问题就是参数个数过多，模型不知道该怎么学习参数。图像（空间关联）、文本（时间关联）\n",
    "# 全连接神经网络过于简单粗暴，在很多问题上就容易出现过拟合现象。\n",
    "# 参数集中一下\n",
    "\n",
    "# 卷积神经网络可以处理任意size的输入图像，前提是不引入任何全连接层的情况\n",
    "# 循环神经网络可以处理任意长度的输入数据。"
   ]
  }
 ],
 "metadata": {
  "language_info": {
   "name": "python"
  },
  "orig_nbformat": 4
 },
 "nbformat": 4,
 "nbformat_minor": 2
}
