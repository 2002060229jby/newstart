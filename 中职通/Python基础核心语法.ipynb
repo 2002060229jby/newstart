{
 "cells": [
  {
   "cell_type": "markdown",
   "metadata": {},
   "source": [
    "格式化输出"
   ]
  },
  {
   "cell_type": "code",
   "execution_count": 11,
   "metadata": {},
   "outputs": [
    {
     "name": "stdout",
     "output_type": "stream",
     "text": [
      "我的年龄为001804岁\n",
      "我的名字是  闹闹\n",
      "我的体重是43.30\n"
     ]
    }
   ],
   "source": [
    "age=18\n",
    "print('我的年龄为%04d岁'%age)\n",
    "\n",
    "name='闹闹'\n",
    "print('我的名字是%4s'%name)\n",
    "\n",
    "weight=43.3\n",
    "print('我的体重是%.2f'%weight)"
   ]
  },
  {
   "cell_type": "code",
   "execution_count": 13,
   "metadata": {},
   "outputs": [
    {
     "name": "stdout",
     "output_type": "stream",
     "text": [
      "jby 20 jinhua prgramming single\n",
      "江柏英\n",
      "java go c++ python c\n"
     ]
    }
   ],
   "source": [
    "print('jby',20,'jinhua','prgramming','single')\n",
    "name = input(\"我的名字是\")\n",
    "print(name)\n",
    "print('java','go','c++','python','c')"
   ]
  },
  {
   "cell_type": "code",
   "execution_count": 19,
   "metadata": {},
   "outputs": [
    {
     "name": "stdout",
     "output_type": "stream",
     "text": [
      "my name is jby\n",
      "my id is 0100\n",
      "my weight is 64.00\n",
      "my name is jby, I am 20 years old\n",
      "my name is jby, next year I am 21\n",
      "my name is jby, next year I am 21\n"
     ]
    }
   ],
   "source": [
    "age=20\n",
    "name='jby'\n",
    "weight=64\n",
    "student_id=100\n",
    "print('my name is %s' % name)\n",
    "print('my id is %04d' % student_id)\n",
    "print('my weight is %.2f' % weight)\n",
    "print('my name is %s, I am %d years old' % (name, age))\n",
    "print('my name is %s, next year I am %d' % (name, age+1))\n",
    "print(f'my name is {name}, next year I am {age + 1}')"
   ]
  },
  {
   "cell_type": "code",
   "execution_count": null,
   "metadata": {},
   "outputs": [],
   "source": []
  }
 ],
 "metadata": {
  "kernelspec": {
   "display_name": "Python 3.6.13 ('tensorflow')",
   "language": "python",
   "name": "python3"
  },
  "language_info": {
   "codemirror_mode": {
    "name": "ipython",
    "version": 3
   },
   "file_extension": ".py",
   "mimetype": "text/x-python",
   "name": "python",
   "nbconvert_exporter": "python",
   "pygments_lexer": "ipython3",
   "version": "3.6.13"
  },
  "orig_nbformat": 4,
  "vscode": {
   "interpreter": {
    "hash": "74973848420d399980c11f16a640d467c2e8f2266629d1ddb4e03d028dbfee73"
   }
  }
 },
 "nbformat": 4,
 "nbformat_minor": 2
}
