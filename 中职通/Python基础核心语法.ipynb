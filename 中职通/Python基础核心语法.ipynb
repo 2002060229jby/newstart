{
 "cells": [
  {
   "cell_type": "markdown",
   "metadata": {},
   "source": [
    "格式化输出"
   ]
  },
  {
   "cell_type": "code",
   "execution_count": 11,
   "metadata": {},
   "outputs": [
    {
     "name": "stdout",
     "output_type": "stream",
     "text": [
      "我的年龄为001804岁\n",
      "我的名字是  闹闹\n",
      "我的体重是43.30\n"
     ]
    }
   ],
   "source": [
    "age=18\n",
    "print('我的年龄为%04d岁'%age)\n",
    "\n",
    "name='闹闹'\n",
    "print('我的名字是%4s'%name)\n",
    "\n",
    "weight=43.3\n",
    "print('我的体重是%.2f'%weight)"
   ]
  },
  {
   "cell_type": "code",
   "execution_count": 13,
   "metadata": {},
   "outputs": [
    {
     "name": "stdout",
     "output_type": "stream",
     "text": [
      "jby 20 jinhua prgramming single\n",
      "江柏英\n",
      "java go c++ python c\n"
     ]
    }
   ],
   "source": [
    "print('jby',20,'jinhua','prgramming','single')\n",
    "name = input(\"我的名字是\")\n",
    "print(name)\n",
    "print('java','go','c++','python','c')"
   ]
  },
  {
   "cell_type": "code",
   "execution_count": 19,
   "metadata": {},
   "outputs": [
    {
     "name": "stdout",
     "output_type": "stream",
     "text": [
      "my name is jby\n",
      "my id is 0100\n",
      "my weight is 64.00\n",
      "my name is jby, I am 20 years old\n",
      "my name is jby, next year I am 21\n",
      "my name is jby, next year I am 21\n"
     ]
    }
   ],
   "source": [
    "age=20\n",
    "name='jby'\n",
    "weight=64\n",
    "student_id=100\n",
    "print('my name is %s' % name)\n",
    "print('my id is %04d' % student_id)\n",
    "print('my weight is %.2f' % weight)\n",
    "print('my name is %s, I am %d years old' % (name, age))\n",
    "print('my name is %s, next year I am %d' % (name, age+1))\n",
    "print(f'my name is {name}, next year I am {age + 1}')"
   ]
  },
  {
   "cell_type": "markdown",
   "metadata": {},
   "source": [
    "### eval \n",
    "\n",
    "计算在字符串中的有效python表达式,并返回一个对象"
   ]
  },
  {
   "cell_type": "code",
   "execution_count": 4,
   "metadata": {},
   "outputs": [
    {
     "name": "stdout",
     "output_type": "stream",
     "text": [
      "(100, 200, 30000)\n",
      "[100, 200, 30000]\n",
      "<class 'int'>\n",
      "<class 'float'>\n",
      "<class 'tuple'>\n",
      "<class 'list'>\n"
     ]
    }
   ],
   "source": [
    "list1=[100,200,30000]\n",
    "t1=(100,200,30000)\n",
    "print(tuple(list1))\n",
    "print(list(list1))\n",
    "str2=\"1\"\n",
    "str3='1.1'\n",
    "str4='(100,200,30000)'\n",
    "str5='[100,200,30000]'\n",
    "print(type(eval(str2)))\n",
    "print(type(eval(str3)))\n",
    "print(type(eval(str4)))\n",
    "print(type(eval(str5)))"
   ]
  },
  {
   "cell_type": "code",
   "execution_count": 6,
   "metadata": {},
   "outputs": [
    {
     "data": {
      "text/plain": [
       "13"
      ]
     },
     "execution_count": 6,
     "metadata": {},
     "output_type": "execute_result"
    }
   ],
   "source": [
    "c=10\n",
    "c += 1 + 2\n",
    "c"
   ]
  },
  {
   "cell_type": "code",
   "execution_count": 2,
   "metadata": {},
   "outputs": [
    {
     "name": "stdout",
     "output_type": "stream",
     "text": [
      "你的年龄是18,可以上网\n"
     ]
    }
   ],
   "source": [
    "age=int(input(\"请输入年龄\"))\n",
    "if age >=18 :\n",
    "    print(f\"你的年龄是{age},可以上网\")\n",
    "else:\n",
    "    print(f\"你的年龄是{age},不可以上网\")"
   ]
  },
  {
   "cell_type": "code",
   "execution_count": 3,
   "metadata": {},
   "outputs": [
    {
     "ename": "SyntaxError",
     "evalue": "invalid syntax (<ipython-input-3-4867e1571d48>, line 5)",
     "output_type": "error",
     "traceback": [
      "\u001b[1;36m  File \u001b[1;32m\"<ipython-input-3-4867e1571d48>\"\u001b[1;36m, line \u001b[1;32m5\u001b[0m\n\u001b[1;33m    if(player==0 and computer ==1 )\u001b[0m\n\u001b[1;37m                                   ^\u001b[0m\n\u001b[1;31mSyntaxError\u001b[0m\u001b[1;31m:\u001b[0m invalid syntax\n"
     ]
    }
   ],
   "source": [
    "import random\n",
    "#0-石头 1-剪刀 2-布\n",
    "computer=random.randint(0,2)\n",
    "player = int(input('你出什么'))\n",
    "if(player==0 and computer ==1 )"
   ]
  },
  {
   "cell_type": "code",
   "execution_count": 6,
   "metadata": {},
   "outputs": [
    {
     "data": {
      "text/plain": [
       "4"
      ]
     },
     "execution_count": 6,
     "metadata": {},
     "output_type": "execute_result"
    }
   ],
   "source": [
    "a=1\n",
    "b=2\n",
    "c= a if a>b else b\n",
    "c\n",
    "aa=10\n",
    "bb=6\n",
    "cc= aa-bb if aa-bb>0 else bb-aa\n",
    "cc"
   ]
  },
  {
   "cell_type": "code",
   "execution_count": 13,
   "metadata": {},
   "outputs": [
    {
     "name": "stdout",
     "output_type": "stream",
     "text": [
      "奖励一台iphone\n"
     ]
    }
   ],
   "source": [
    "score = int(input(\"请输入小明的期末成绩\"))\n",
    "if score==100:\n",
    "    print(\"奖励一辆BMW\")\n",
    "elif score>=80 and score <=99:\n",
    "    print(\"奖励一台iphone\")\n",
    "elif score>=60 and score <=79:\n",
    "    print(\"奖励一本参考书\")\n",
    "else:\n",
    "    print(\"什么奖励也没有\")\n"
   ]
  },
  {
   "cell_type": "code",
   "execution_count": 16,
   "metadata": {},
   "outputs": [
    {
     "name": "stdout",
     "output_type": "stream",
     "text": [
      "我一定要嫁给他\n"
     ]
    }
   ],
   "source": [
    "heigh=int(input(\"身高(cm)\"))\n",
    "money=int(input(\"身家(万)\"))\n",
    "face=int(input(\"颜值\"))\n",
    "if heigh >= 180 and money >= 1000 and face >= 5001:\n",
    "    print('我一定要嫁给他')\n",
    "elif heigh >= 180 or money >= 1000 or face >= 5001:\n",
    "    print('嫁吧，比上不足，比下有余')\n",
    "else:\n",
    "    print('不嫁')"
   ]
  },
  {
   "cell_type": "code",
   "execution_count": 2,
   "metadata": {},
   "outputs": [
    {
     "ename": "ValueError",
     "evalue": "invalid literal for int() with base 10: '1.23'",
     "output_type": "error",
     "traceback": [
      "\u001b[1;31m---------------------------------------------------------------------------\u001b[0m",
      "\u001b[1;31mValueError\u001b[0m                                Traceback (most recent call last)",
      "\u001b[1;32m<ipython-input-2-3567f3763b27>\u001b[0m in \u001b[0;36m<module>\u001b[1;34m\u001b[0m\n\u001b[1;32m----> 1\u001b[1;33m \u001b[0mint\u001b[0m\u001b[1;33m(\u001b[0m\u001b[1;34m'1.23'\u001b[0m\u001b[1;33m)\u001b[0m\u001b[1;33m\u001b[0m\u001b[1;33m\u001b[0m\u001b[0m\n\u001b[0m",
      "\u001b[1;31mValueError\u001b[0m: invalid literal for int() with base 10: '1.23'"
     ]
    }
   ],
   "source": [
    "int('1.23')"
   ]
  },
  {
   "cell_type": "code",
   "execution_count": 4,
   "metadata": {},
   "outputs": [
    {
     "data": {
      "text/plain": [
       "4"
      ]
     },
     "execution_count": 4,
     "metadata": {},
     "output_type": "execute_result"
    }
   ],
   "source": [
    "int(4.6)"
   ]
  },
  {
   "cell_type": "code",
   "execution_count": 11,
   "metadata": {},
   "outputs": [
    {
     "name": "stdout",
     "output_type": "stream",
     "text": [
      "-3\n",
      "-3\n",
      "3\n",
      "-3\n"
     ]
    }
   ],
   "source": [
    "# 取余想下取整\n",
    "print(-9//4)\n",
    "print(9//-4)\n",
    "print(-9%4)\n",
    "print(9%-4)"
   ]
  },
  {
   "cell_type": "code",
   "execution_count": 12,
   "metadata": {},
   "outputs": [],
   "source": [
    "a=b=c=10  # 链式赋值\n",
    "a,b,c=10,20,30 # 系列解包赋值\n",
    "a,b=b,a"
   ]
  },
  {
   "cell_type": "code",
   "execution_count": 15,
   "metadata": {},
   "outputs": [
    {
     "data": {
      "text/plain": [
       "'ccdd'"
      ]
     },
     "execution_count": 15,
     "metadata": {},
     "output_type": "execute_result"
    }
   ],
   "source": [
    "a='dd'\n",
    "b='cc'\n",
    "b+=a\n",
    "b"
   ]
  },
  {
   "cell_type": "code",
   "execution_count": 3,
   "metadata": {},
   "outputs": [
    {
     "name": "stdout",
     "output_type": "stream",
     "text": [
      "0.0040000000000000036\n"
     ]
    }
   ],
   "source": [
    "print(1.004%1)"
   ]
  },
  {
   "cell_type": "code",
   "execution_count": 20,
   "metadata": {},
   "outputs": [
    {
     "name": "stdout",
     "output_type": "stream",
     "text": [
      "请输入正确的成绩\n"
     ]
    }
   ],
   "source": [
    "# 1.输入一个百分制成绩\n",
    "score = int(input('输入成绩'))\n",
    "if score>=90 and score<=100:\n",
    "    print('A')\n",
    "elif score>=80 and score<=89:\n",
    "    print('B')\n",
    "elif score>=70 and score<=79:\n",
    "    print('C')\n",
    "elif score>=60 and score<=69:\n",
    "    print('D')\n",
    "elif score>=0 and score<60:\n",
    "    print('E')\n",
    "else:\n",
    "    print(\"请输入正确的成绩\")\n"
   ]
  },
  {
   "cell_type": "code",
   "execution_count": 21,
   "metadata": {},
   "outputs": [
    {
     "name": "stdout",
     "output_type": "stream",
     "text": [
      "4.6\n"
     ]
    }
   ],
   "source": [
    "# 2.数字求和\n",
    "num1 = eval(input(\"请输入数字1\")) #1.2\n",
    "num2 = eval(input(\"请输入数字2\")) #3.4\n",
    "print(num1 + num2)"
   ]
  },
  {
   "cell_type": "code",
   "execution_count": 11,
   "metadata": {},
   "outputs": [
    {
     "name": "stdout",
     "output_type": "stream",
     "text": [
      "是负数\n"
     ]
    }
   ],
   "source": [
    "# 3.编写程序，通过使用 if...elif...else 语句判断数字是正数、负数或零:\n",
    "num = eval(input(\"请输入一个数字\"))\n",
    "if num > 0:\n",
    "    print(\"是正数\")\n",
    "elif num < 0:\n",
    "    print(\"是负数\")\n",
    "elif num == 0:\n",
    "    print(\"是零\")"
   ]
  },
  {
   "cell_type": "code",
   "execution_count": null,
   "metadata": {},
   "outputs": [],
   "source": []
  }
 ],
 "metadata": {
  "kernelspec": {
   "display_name": "Python 3.6.13 ('tensorflow')",
   "language": "python",
   "name": "python3"
  },
  "language_info": {
   "codemirror_mode": {
    "name": "ipython",
    "version": 3
   },
   "file_extension": ".py",
   "mimetype": "text/x-python",
   "name": "python",
   "nbconvert_exporter": "python",
   "pygments_lexer": "ipython3",
   "version": "3.6.13"
  },
  "orig_nbformat": 4,
  "vscode": {
   "interpreter": {
    "hash": "74973848420d399980c11f16a640d467c2e8f2266629d1ddb4e03d028dbfee73"
   }
  }
 },
 "nbformat": 4,
 "nbformat_minor": 2
}
