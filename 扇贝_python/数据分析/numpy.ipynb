{
 "cells": [
  {
   "cell_type": "code",
   "execution_count": 2,
   "metadata": {},
   "outputs": [
    {
     "name": "stdout",
     "output_type": "stream",
     "text": [
      "      ts_code trade_date    open    high     low   close  pre_close  change  \\\n",
      "0   002594.SZ   20220628  347.00  358.80  342.71  352.90     349.69    3.21   \n",
      "1   002594.SZ   20220627  352.07  357.00  348.33  349.69     351.05   -1.36   \n",
      "2   002594.SZ   20220624  352.99  356.28  346.01  351.05     353.50   -2.45   \n",
      "3   002594.SZ   20220623  344.70  354.05  338.00  353.50     339.88   13.62   \n",
      "4   002594.SZ   20220622  342.42  347.63  338.00  339.88     341.00   -1.12   \n",
      "5   002594.SZ   20220621  339.76  341.80  332.20  341.00     342.18   -1.18   \n",
      "6   002594.SZ   20220620  338.08  348.66  335.02  342.18     338.00    4.18   \n",
      "7   002594.SZ   20220617  330.10  341.20  327.07  338.00     336.00    2.00   \n",
      "8   002594.SZ   20220616  335.50  342.70  333.41  336.00     335.00    1.00   \n",
      "9   002594.SZ   20220615  343.97  346.23  332.52  335.00     343.59   -8.59   \n",
      "10  002594.SZ   20220614  342.00  344.79  327.23  343.59     348.80   -5.21   \n",
      "11  002594.SZ   20220613  346.00  358.86  340.60  348.80     348.80    0.00   \n",
      "12  002594.SZ   20220610  321.50  350.00  321.06  348.80     322.41   26.39   \n",
      "13  002594.SZ   20220609  334.03  334.80  321.00  322.41     327.41   -5.00   \n",
      "14  002594.SZ   20220608  318.60  328.06  313.01  327.41     314.89   12.52   \n",
      "15  002594.SZ   20220607  318.00  319.87  311.11  314.89     318.23   -3.34   \n",
      "16  002594.SZ   20220606  304.00  320.47  302.55  318.23     301.02   17.21   \n",
      "17  002594.SZ   20220602  296.00  305.00  295.22  301.02     299.98    1.04   \n",
      "18  002594.SZ   20220601  298.00  304.80  293.12  299.98     295.91    4.07   \n",
      "19  002594.SZ   20220531  300.00  300.96  293.51  295.91     298.12   -2.21   \n",
      "20  002594.SZ   20220530  292.00  299.70  291.08  298.12     288.88    9.24   \n",
      "\n",
      "    pct_chg        vol        amount  \n",
      "0    0.9180  269634.71  9.447959e+06  \n",
      "1   -0.3874  217155.24  7.630685e+06  \n",
      "2   -0.6931  235983.55  8.273168e+06  \n",
      "3    4.0073  323142.26  1.125178e+07  \n",
      "4   -0.3284  186787.83  6.412052e+06  \n",
      "5   -0.3448  197827.39  6.666970e+06  \n",
      "6    1.2367  245415.57  8.405362e+06  \n",
      "7    0.5952  262147.59  8.830739e+06  \n",
      "8    0.2985  190172.45  6.410739e+06  \n",
      "9   -2.5001  303947.87  1.028586e+07  \n",
      "10  -1.4937  404789.34  1.363462e+07  \n",
      "11   0.0000  360681.32  1.257353e+07  \n",
      "12   8.1852  438249.00  1.479062e+07  \n",
      "13  -1.5271  307541.72  1.005064e+07  \n",
      "14   3.9760  290513.40  9.321933e+06  \n",
      "15  -1.0496  200220.89  6.296538e+06  \n",
      "16   5.7172  294757.29  9.260503e+06  \n",
      "17   0.3467  177727.77  5.355774e+06  \n",
      "18   1.3754  216911.75  6.501902e+06  \n",
      "19  -0.7413  177011.19  5.242211e+06  \n",
      "20   3.1986  218523.50  6.485732e+06  \n"
     ]
    }
   ],
   "source": [
    "import tushare as ts\n",
    "from pandas.plotting import register_matplotlib_converters\n",
    "import pandas as pd\n",
    "from datetime import datetime, timedelta\n",
    "\n",
    "MY_TOKEN = '1c8b06446534ae510c8c68e38fc248b99f89ac3814cb55645ae2be72'\n",
    "ts_pro = ts.pro_api(MY_TOKEN)\n",
    "end_date = datetime.today().strftime('%Y%m%d')\n",
    "start_date = (datetime.today() - timedelta(days=30)).strftime('%Y%m%d')\n",
    "df = ts_pro.daily(ts_code='002594.SZ', start_date=start_date, end_date=end_date)\n",
    "print(df)"
   ]
  },
  {
   "cell_type": "code",
   "execution_count": 5,
   "metadata": {},
   "outputs": [
    {
     "name": "stderr",
     "output_type": "stream",
     "text": [
      "d:\\Download\\Appgallery\\Anaconda\\envs\\tensorflow\\lib\\site-packages\\mpl_finance.py:22: DeprecationWarning: \n",
      "\n",
      "  =================================================================\n",
      "\n",
      "   WARNING: `mpl_finance` is deprecated:\n",
      "\n",
      "    Please use `mplfinance` instead (no hyphen, no underscore).\n",
      "\n",
      "    To install: `pip install --upgrade mplfinance` \n",
      "\n",
      "   For more information, see: https://pypi.org/project/mplfinance/\n",
      "\n",
      "  =================================================================\n",
      "\n",
      "  category=DeprecationWarning)\n"
     ]
    },
    {
     "data": {
      "image/png": "[encoded data removed]",
      "text/plain": [
       "<Figure size 432x288 with 1 Axes>"
      ]
     },
     "metadata": {},
     "output_type": "display_data"
    }
   ],
   "source": [
    "import tushare as ts\n",
    "import matplotlib.dates as mdates\n",
    "import matplotlib.pyplot as plt\n",
    "from mpl_finance import candlestick_ohlc\n",
    "from pandas.plotting import register_matplotlib_converters\n",
    "import pandas as pd\n",
    "from datetime import datetime, timedelta\n",
    "\n",
    "ts_pro = ts.pro_api(MY_TOKEN)\n",
    "end_date = datetime.today().strftime('%Y%m%d')\n",
    "start_date = (datetime.today() - timedelta(days=30)).strftime('%Y%m%d')\n",
    "df = ts_pro.daily(ts_code='002594.SZ', start_date=start_date, end_date=end_date)\n",
    "byd = df.set_index('trade_date')\n",
    "byd_trimmed = byd.loc[:, ['open', 'high', 'low', 'close']]\n",
    "byd_trimmed.reset_index(inplace=True)\n",
    "byd_trimmed['trade_date'] = pd.to_datetime(byd_trimmed['trade_date'])\n",
    "byd_trimmed['trade_date'] = byd_trimmed['trade_date'].map(mdates.date2num)\n",
    "\n",
    "ax = plt.subplot()\n",
    "candlestick_ohlc(ax, byd_trimmed.values, width=0.6, colorup='r', colordown='g', alpha=0.8)\n",
    "ax.grid(True)\n",
    "ax.set_axisbelow(True)\n",
    "ax.set_title('BYD Share Price', color='white')\n",
    "ax.figure.set_facecolor('#121212')\n",
    "ax.tick_params(axis='x', colors='white')\n",
    "ax.tick_params(axis='y', colors='white')\n",
    "ax.xaxis_date()\n",
    "plt.xticks(rotation=90)\n",
    "plt.show()"
   ]
  },
  {
   "cell_type": "code",
   "execution_count": 6,
   "metadata": {},
   "outputs": [
    {
     "name": "stdout",
     "output_type": "stream",
     "text": [
      "[1 2 3]\n",
      "<class 'numpy.ndarray'>\n"
     ]
    }
   ],
   "source": [
    "import numpy as np\n",
    "\n",
    "data = np.array([1, 2, 3])\n",
    "print(data)\n",
    "# 输出：[1 2 3]\n",
    "print(type(data))\n",
    "# 输出：<class 'numpy.ndarray'>"
   ]
  },
  {
   "cell_type": "code",
   "execution_count": 7,
   "metadata": {},
   "outputs": [
    {
     "name": "stdout",
     "output_type": "stream",
     "text": [
      "[1. 1. 1.]\n",
      "[0. 0. 0.]\n"
     ]
    }
   ],
   "source": [
    "ones = np.ones(3)\n",
    "print(ones)\n",
    "# 输出：[1. 1. 1.]\n",
    "\n",
    "zeros = np.zeros(3)\n",
    "print(zeros)\n",
    "# 输出：[0. 0. 0.]"
   ]
  },
  {
   "cell_type": "code",
   "execution_count": 8,
   "metadata": {},
   "outputs": [
    {
     "name": "stdout",
     "output_type": "stream",
     "text": [
      "[1 1 1]\n",
      "[0 0 0]\n"
     ]
    }
   ],
   "source": [
    "ones = np.ones(3, dtype='int')\n",
    "print(ones)\n",
    "# 输出：[1 1 1]\n",
    "zeros = np.zeros(3, dtype='int')\n",
    "print(zeros)\n",
    "# 输出：[0 0 0]"
   ]
  },
  {
   "cell_type": "code",
   "execution_count": 9,
   "metadata": {},
   "outputs": [
    {
     "name": "stdout",
     "output_type": "stream",
     "text": [
      "[1 2 3]\n",
      "[1 1 1]\n",
      "[0 0 0]\n"
     ]
    }
   ],
   "source": [
    "import numpy as np\n",
    "ones= np.ones(3,dtype = 'int')\n",
    "arr=np.array([1,2,3])\n",
    "print(arr)\n",
    "print(ones)\n",
    "zeros=np.zeros(3,dtype = 'int')\n",
    "print(zeros)"
   ]
  },
  {
   "cell_type": "code",
   "execution_count": 10,
   "metadata": {},
   "outputs": [
    {
     "name": "stdout",
     "output_type": "stream",
     "text": [
      "[2. 3.]\n"
     ]
    }
   ],
   "source": [
    "data = np.array([1, 2])\n",
    "ones = np.ones(2)\n",
    "print(data + ones)\n",
    "# 输出：[2. 3.]"
   ]
  },
  {
   "cell_type": "code",
   "execution_count": 11,
   "metadata": {},
   "outputs": [
    {
     "name": "stdout",
     "output_type": "stream",
     "text": [
      "[2 3]\n"
     ]
    }
   ],
   "source": [
    "data = np.array([1, 2])\n",
    "print(data + 1)\n",
    "# 输出：[2 3]"
   ]
  },
  {
   "cell_type": "code",
   "execution_count": 12,
   "metadata": {},
   "outputs": [
    {
     "name": "stdout",
     "output_type": "stream",
     "text": [
      "[2, 3]\n"
     ]
    }
   ],
   "source": [
    "data = []\n",
    "for i in [1, 2]:\n",
    "  data.append(i + 1)\n",
    "print(data)\n",
    "# 输出：[2, 3]"
   ]
  },
  {
   "cell_type": "code",
   "execution_count": 13,
   "metadata": {},
   "outputs": [
    {
     "name": "stdout",
     "output_type": "stream",
     "text": [
      "[2. 2. 2.]\n"
     ]
    }
   ],
   "source": [
    "import numpy as np\n",
    "data = np.array([1,2,3])\n",
    "print(data*2/data)"
   ]
  },
  {
   "cell_type": "code",
   "execution_count": 14,
   "metadata": {},
   "outputs": [
    {
     "name": "stdout",
     "output_type": "stream",
     "text": [
      "1\n"
     ]
    }
   ],
   "source": [
    "data = np.array([1, 2, 3])\n",
    "print(data[0])\n",
    "# 输出：1"
   ]
  },
  {
   "cell_type": "code",
   "execution_count": 15,
   "metadata": {},
   "outputs": [
    {
     "name": "stdout",
     "output_type": "stream",
     "text": [
      "[1 2]\n"
     ]
    }
   ],
   "source": [
    "data = np.array([1, 2, 3])\n",
    "print(data[0:2])  # 获取索引为 0 和 1 的元素\n",
    "# 输出：[1 2]"
   ]
  },
  {
   "cell_type": "code",
   "execution_count": 16,
   "metadata": {},
   "outputs": [
    {
     "name": "stdout",
     "output_type": "stream",
     "text": [
      "[1 2]\n",
      "[2 3]\n",
      "[1 2 3]\n"
     ]
    }
   ],
   "source": [
    "data = np.array([1, 2, 3])\n",
    "# 获取前 2 个元素\n",
    "print(data[:2])\n",
    "# 输出：[1 2]\n",
    "\n",
    "# 获取后 2 个元素\n",
    "print(data[-2:])\n",
    "# 输出：[2 3]\n",
    "\n",
    "# 获取所有元素\n",
    "print(data[:])\n",
    "# 输出：[1 2 3]"
   ]
  },
  {
   "cell_type": "code",
   "execution_count": 17,
   "metadata": {},
   "outputs": [
    {
     "name": "stdout",
     "output_type": "stream",
     "text": [
      "[1, 2, 3]\n",
      "[6 2 3]\n"
     ]
    }
   ],
   "source": [
    "# 列表\n",
    "lst_data = [1, 2, 3]\n",
    "lst_data2 = lst_data[:]\n",
    "lst_data2[0] = 6\n",
    "print(lst_data)\n",
    "# 输出：[1, 2, 3]\n",
    "\n",
    "# 多维数组\n",
    "arr_data = np.array([1, 2, 3])\n",
    "arr_data2 = arr_data[:]\n",
    "arr_data2[0] = 6\n",
    "print(arr_data)\n",
    "# 输出：[6 2 3]"
   ]
  },
  {
   "cell_type": "code",
   "execution_count": 18,
   "metadata": {},
   "outputs": [
    {
     "name": "stdout",
     "output_type": "stream",
     "text": [
      "[1 3 5]\n"
     ]
    }
   ],
   "source": [
    "data = np.array([1, 2, 3, 4, 5, 6])\n",
    "print(data[::2])  # 省略前两个参数\n",
    "# 输出：[1 3 5]"
   ]
  },
  {
   "cell_type": "markdown",
   "metadata": {},
   "source": [
    "所以，numpy 中的切片默认不会复制一份副本，而是返回原数据中的一块，被称为视图（View）。如果你确实想要得到一份副本，则需要手动调用 copy() 方法进行复制，例如：arr_data[:].copy()。"
   ]
  },
  {
   "cell_type": "code",
   "execution_count": 19,
   "metadata": {},
   "outputs": [
    {
     "name": "stdout",
     "output_type": "stream",
     "text": [
      "[6 5 4 3 2 1]\n"
     ]
    }
   ],
   "source": [
    "data = np.array([1, 2, 3, 4, 5, 6])\n",
    "print(data[::-1])  # 省略前两个参数\n",
    "# 输出：[6 5 4 3 2 1]"
   ]
  },
  {
   "cell_type": "code",
   "execution_count": 20,
   "metadata": {},
   "outputs": [
    {
     "name": "stdout",
     "output_type": "stream",
     "text": [
      "[1 2 3]\n",
      "[5 6]\n",
      "[6 5 4 3 2 1]\n"
     ]
    }
   ],
   "source": [
    "import numpy as np\n",
    "\n",
    "data = np.array([1, 2, 3, 4, 5, 6])\n",
    "# 打印前 3 个元素\n",
    "print(data[:3])\n",
    "# 打印后 2 个元素\n",
    "print(data[-2:])\n",
    "# 打印反转后的元素\n",
    "print(data[::-1])"
   ]
  },
  {
   "cell_type": "code",
   "execution_count": 22,
   "metadata": {},
   "outputs": [
    {
     "name": "stdout",
     "output_type": "stream",
     "text": [
      "球员1的平均得分为 10.0\n",
      "球员2的平均得分为 10.0\n",
      "球员3的平均得分为 10.0\n",
      "球员3的平均得分为 27\n"
     ]
    }
   ],
   "source": [
    "player1 = np.array([7, 9, 10, 9, 11, 13, 10, 10, 11, 10])\n",
    "player2 = np.array([7, 9, 8, 9, 11, 10, 11, 12, 10, 13])\n",
    "player3 = np.array([3, 7, 10, 3, 6, 30, 10, 7, 11, 13])\n",
    "\n",
    "print('球员1的平均得分为', player1.mean())\n",
    "print('球员2的平均得分为', player2.mean())\n",
    "print('球员3的平均得分为', player3.mean())\n",
    "print('球员3的极差得分为', player3.ptp())"
   ]
  },
  {
   "cell_type": "code",
   "execution_count": 23,
   "metadata": {},
   "outputs": [
    {
     "name": "stdout",
     "output_type": "stream",
     "text": [
      "球员1得分的平均数为 10.0\n",
      "球员2得分的平均数为 10.0\n",
      "球员3得分的平均数为 10.0\n",
      "====================\n",
      "球员1得分的中位数为 10.0\n",
      "球员2得分的中位数为 10.0\n",
      "球员3得分的中位数为 8.5\n",
      "====================\n",
      "球员1得分的标准差为 1.4832396974191326\n",
      "球员2得分的标准差为 1.7320508075688772\n",
      "球员3得分的标准差为 7.362064927722384\n"
     ]
    }
   ],
   "source": [
    "import numpy as np\n",
    "\n",
    "player1 = np.array([7, 9, 10, 9, 11, 13, 10, 10, 11, 10])\n",
    "player2 = np.array([7, 9, 8, 9, 11, 10, 11, 12, 10, 13])\n",
    "player3 = np.array([3, 7, 10, 3, 6, 30, 10, 7, 11, 13])\n",
    "\n",
    "print('球员1得分的平均数为', player1.mean())\n",
    "print('球员2得分的平均数为', player2.mean())\n",
    "print('球员3得分的平均数为', player3.mean())\n",
    "print('====================')\n",
    "print('球员1得分的中位数为', np.median(player1))\n",
    "print('球员2得分的中位数为', np.median(player2))\n",
    "print('球员3得分的中位数为', np.median(player3))\n",
    "print('====================')\n",
    "print('球员1得分的标准差为', player1.std())\n",
    "print('球员2得分的标准差为', player2.std())\n",
    "print('球员3得分的标准差为', player3.std())"
   ]
  },
  {
   "cell_type": "markdown",
   "metadata": {},
   "source": [
    "又来了三位球员供你选择，他们最近 10 场比赛得分情况已帮你存到多维数组当中。请你根据本关所学内容，分析并找出你认为的优秀球员。"
   ]
  },
  {
   "cell_type": "code",
   "execution_count": 24,
   "metadata": {},
   "outputs": [
    {
     "name": "stdout",
     "output_type": "stream",
     "text": [
      "player1\n"
     ]
    }
   ],
   "source": [
    "import numpy as np\n",
    "\n",
    "player1 = np.array([4, 16, 5, 8, 11, 40, 4, 12, 23, 13])\n",
    "player2 = np.array([9, 8, 12, 11, 9, 10, 13, 10, 11, 13])\n",
    "player3 = np.array([4, 6, 8, 5, 6, 7, 6, 5, 8, 6])\n",
    "\n",
    "ans1=player1.mean()\n",
    "ans2=player2.mean()\n",
    "ans3=player3.mean()\n",
    "ans=np.array([ans1,ans2,ans3])\n",
    "ans4=ans.max()\n",
    "\n",
    "std1=player1.std()\n",
    "std2=player2.std()\n",
    "std3=player3.std()\n",
    "std=np.array([std1,std2,std3])\n",
    "std4=std.min()\n",
    "\n",
    "if ans1==ans2 and ans1==ans3:\n",
    "  for i in std:\n",
    "    s=s+1\n",
    "    if i==std4:\n",
    "      print('player'+str(s))\n",
    "\n",
    "else:\n",
    "  for i in range(3):\n",
    "    if ans[i]==ans4:\n",
    "      print('player'+str(i+1))\n"
   ]
  },
  {
   "cell_type": "code",
   "execution_count": 25,
   "metadata": {},
   "outputs": [
    {
     "name": "stdout",
     "output_type": "stream",
     "text": [
      "[[1, 2], [3, 4]]\n",
      "[[1 2]\n",
      " [3 4]]\n"
     ]
    }
   ],
   "source": [
    "# 单层嵌套列表\n",
    "nested_list = [[1, 2], [3, 4]]\n",
    "print(nested_list)\n",
    "# 输出：[[1, 2], [3, 4]]\n",
    "\n",
    "# 二维数组\n",
    "data = np.array(nested_list)\n",
    "print(data)\n",
    "# 输出：\n",
    "# [[1 2]\n",
    "#  [3 4]]"
   ]
  },
  {
   "cell_type": "code",
   "execution_count": 27,
   "metadata": {},
   "outputs": [
    {
     "name": "stdout",
     "output_type": "stream",
     "text": [
      "[[1. 1.]\n",
      " [1. 1.]\n",
      " [1. 1.]]\n",
      "[[0. 0.]\n",
      " [0. 0.]\n",
      " [0. 0.]]\n"
     ]
    }
   ],
   "source": [
    "ones = np.ones((3, 2))\n",
    "print(ones)\n",
    "# 输出：\n",
    "# [[1. 1.]\n",
    "#  [1. 1.]\n",
    "#  [1. 1.]]\n",
    "\n",
    "zeros = np.zeros((3, 2))\n",
    "print(zeros)\n",
    "# 输出：\n",
    "# [[0. 0.]\n",
    "#  [0. 0.]\n",
    "#  [0. 0.]]"
   ]
  },
  {
   "cell_type": "code",
   "execution_count": 28,
   "metadata": {},
   "outputs": [
    {
     "name": "stdout",
     "output_type": "stream",
     "text": [
      "ndim: 2\n",
      "shape: (2, 3)\n",
      "size: 6\n",
      "dtype: int32\n"
     ]
    }
   ],
   "source": [
    "data = np.array([[1, 2, 3], [4, 5, 6]])\n",
    "\n",
    "print('ndim:', data.ndim)\n",
    "print('shape:', data.shape)\n",
    "print('size:', data.size)\n",
    "print('dtype:', data.dtype)\n",
    "# 输出：\n",
    "# ndim: 2\n",
    "# shape: (2, 3)\n",
    "# size: 6\n",
    "# dtype: int64"
   ]
  },
  {
   "cell_type": "code",
   "execution_count": 29,
   "metadata": {},
   "outputs": [
    {
     "name": "stdout",
     "output_type": "stream",
     "text": [
      "data 的行数为： 15\n",
      "data 的元素个数为： 45\n"
     ]
    }
   ],
   "source": [
    "import numpy as np\n",
    "\n",
    "data = np.array([[1, 2, 3], [4, 5, 6], [7, 8, 9], [1, 2, 3], [4, 5, 6],\n",
    "                 [7, 8, 9], [1, 2, 3], [4, 5, 6], [7, 8, 9], [1, 2, 3],\n",
    "                 [4, 5, 6], [7, 8, 9], [1, 2, 3], [4, 5, 6], [7, 8, 9]])\n",
    "\n",
    "print('data 的行数为：', data.shape[0])\n",
    "print('data 的元素个数为：', data.size)"
   ]
  },
  {
   "cell_type": "code",
   "execution_count": 30,
   "metadata": {},
   "outputs": [
    {
     "name": "stdout",
     "output_type": "stream",
     "text": [
      "(3, 2)\n",
      "(2,)\n"
     ]
    }
   ],
   "source": [
    "data = np.array([[1, 2], [3, 4], [5, 6]])\n",
    "ones = np.ones(2)\n",
    "print(data.shape)\n",
    "print(ones.shape)\n",
    "# 输出：\n",
    "# (3, 2)\n",
    "# (2,)"
   ]
  },
  {
   "cell_type": "code",
   "execution_count": 33,
   "metadata": {},
   "outputs": [
    {
     "name": "stdout",
     "output_type": "stream",
     "text": [
      "(3, 2)\n",
      "(3,)\n"
     ]
    },
    {
     "ename": "ValueError",
     "evalue": "operands could not be broadcast together with shapes (3,2) (3,) ",
     "output_type": "error",
     "traceback": [
      "\u001b[1;31m---------------------------------------------------------------------------\u001b[0m",
      "\u001b[1;31mValueError\u001b[0m                                Traceback (most recent call last)",
      "\u001b[1;32m<ipython-input-33-3cddb08d71aa>\u001b[0m in \u001b[0;36m<module>\u001b[1;34m\u001b[0m\n\u001b[0;32m      6\u001b[0m \u001b[1;31m# (3, 2)\u001b[0m\u001b[1;33m\u001b[0m\u001b[1;33m\u001b[0m\u001b[1;33m\u001b[0m\u001b[0m\n\u001b[0;32m      7\u001b[0m \u001b[1;31m# (3,)\u001b[0m\u001b[1;33m\u001b[0m\u001b[1;33m\u001b[0m\u001b[1;33m\u001b[0m\u001b[0m\n\u001b[1;32m----> 8\u001b[1;33m \u001b[0mdata\u001b[0m \u001b[1;33m+\u001b[0m \u001b[0mones\u001b[0m\u001b[1;33m\u001b[0m\u001b[1;33m\u001b[0m\u001b[0m\n\u001b[0m",
      "\u001b[1;31mValueError\u001b[0m: operands could not be broadcast together with shapes (3,2) (3,) "
     ]
    }
   ],
   "source": [
    "data = np.array([[1, 2], [3, 4], [5, 6]])\n",
    "ones = np.ones(3)\n",
    "print(data.shape)\n",
    "print(ones.shape)\n",
    "# 输出：\n",
    "# (3, 2)\n",
    "# (3,)\n",
    "data + ones"
   ]
  },
  {
   "cell_type": "code",
   "execution_count": 34,
   "metadata": {},
   "outputs": [
    {
     "name": "stdout",
     "output_type": "stream",
     "text": [
      "(2, 3)\n",
      "(3,)\n",
      "[[2. 3. 4.]\n",
      " [5. 6. 7.]]\n"
     ]
    }
   ],
   "source": [
    "import numpy as np\n",
    "\n",
    "data = np.array([[1, 2, 3], [4, 5, 6]])\n",
    "ones = np.ones(3)\n",
    "print(data.shape)\n",
    "print(ones.shape)\n",
    "print(data + ones)"
   ]
  },
  {
   "cell_type": "markdown",
   "metadata": {},
   "source": [
    "在一维数组中，axis=0 就代表着它唯一的轴；二维数组中 axis=0 和 axis=1 代表其中的行轴和列轴；在三维数组中，axis=0、axis=1 和 axis=2 分别代表对应的三条轴。"
   ]
  },
  {
   "cell_type": "code",
   "execution_count": 35,
   "metadata": {},
   "outputs": [
    {
     "name": "stdout",
     "output_type": "stream",
     "text": [
      "6\n",
      "[5 6]\n",
      "[2 5 6]\n"
     ]
    }
   ],
   "source": [
    "data = np.array([[1, 2], [5, 3], [4, 6]])\n",
    "\n",
    "# 不指定 axis\n",
    "print(data.max())\n",
    "# 输出：6\n",
    "\n",
    "# axis=0\n",
    "print(data.max(axis=0))\n",
    "# 输出：[5 6]\n",
    "\n",
    "# axis=1\n",
    "print(data.max(axis=1))\n",
    "# 输出：[2 5 6]"
   ]
  },
  {
   "cell_type": "code",
   "execution_count": 36,
   "metadata": {},
   "outputs": [
    {
     "name": "stdout",
     "output_type": "stream",
     "text": [
      "[5 7 9]\n"
     ]
    }
   ],
   "source": [
    "import numpy as np\n",
    "\n",
    "data = np.array([[1, 2, 3], [4, 5, 6]])\n",
    "print(data.sum(axis=0))"
   ]
  },
  {
   "cell_type": "code",
   "execution_count": 37,
   "metadata": {},
   "outputs": [
    {
     "name": "stdout",
     "output_type": "stream",
     "text": [
      "2\n",
      "[1 3 5]\n",
      "[[3 4]\n",
      " [5 6]]\n"
     ]
    }
   ],
   "source": [
    "data = np.array([[1, 2], [3, 4], [5, 6]])\n",
    "\n",
    "print(data[0, 1])\n",
    "# 输出：2\n",
    "\n",
    "print(data[:, 0])\n",
    "# 输出：[1 3 5]\n",
    "\n",
    "print(data[1:3])\n",
    "# 输出：\n",
    "# [[3 4]\n",
    "#  [5 6]]"
   ]
  },
  {
   "cell_type": "code",
   "execution_count": 38,
   "metadata": {},
   "outputs": [
    {
     "name": "stdout",
     "output_type": "stream",
     "text": [
      "[[False False]\n",
      " [False  True]\n",
      " [ True  True]]\n"
     ]
    }
   ],
   "source": [
    "data = np.array([[1, 2], [3, 4], [5, 6]])\n",
    "print(data > 3)"
   ]
  },
  {
   "cell_type": "code",
   "execution_count": 39,
   "metadata": {},
   "outputs": [
    {
     "name": "stdout",
     "output_type": "stream",
     "text": [
      "[4 5 6]\n"
     ]
    }
   ],
   "source": [
    "data = np.array([[1, 2], [3, 4], [5, 6]])\n",
    "print(data[data > 3])\n",
    "# 输出：[4 5 6]"
   ]
  },
  {
   "cell_type": "code",
   "execution_count": 40,
   "metadata": {},
   "outputs": [
    {
     "ename": "ValueError",
     "evalue": "The truth value of an array with more than one element is ambiguous. Use a.any() or a.all()",
     "output_type": "error",
     "traceback": [
      "\u001b[1;31m---------------------------------------------------------------------------\u001b[0m",
      "\u001b[1;31mValueError\u001b[0m                                Traceback (most recent call last)",
      "\u001b[1;32m<ipython-input-40-1c747745c17b>\u001b[0m in \u001b[0;36m<module>\u001b[1;34m\u001b[0m\n\u001b[0;32m      1\u001b[0m \u001b[0mdata\u001b[0m \u001b[1;33m=\u001b[0m \u001b[0mnp\u001b[0m\u001b[1;33m.\u001b[0m\u001b[0marray\u001b[0m\u001b[1;33m(\u001b[0m\u001b[1;33m[\u001b[0m\u001b[1;33m[\u001b[0m\u001b[1;36m1\u001b[0m\u001b[1;33m,\u001b[0m \u001b[1;36m2\u001b[0m\u001b[1;33m]\u001b[0m\u001b[1;33m,\u001b[0m \u001b[1;33m[\u001b[0m\u001b[1;36m3\u001b[0m\u001b[1;33m,\u001b[0m \u001b[1;36m4\u001b[0m\u001b[1;33m]\u001b[0m\u001b[1;33m,\u001b[0m \u001b[1;33m[\u001b[0m\u001b[1;36m5\u001b[0m\u001b[1;33m,\u001b[0m \u001b[1;36m6\u001b[0m\u001b[1;33m]\u001b[0m\u001b[1;33m]\u001b[0m\u001b[1;33m)\u001b[0m\u001b[1;33m\u001b[0m\u001b[1;33m\u001b[0m\u001b[0m\n\u001b[1;32m----> 2\u001b[1;33m \u001b[0mprint\u001b[0m\u001b[1;33m(\u001b[0m\u001b[0mdata\u001b[0m\u001b[1;33m[\u001b[0m\u001b[0mdata\u001b[0m \u001b[1;33m>\u001b[0m \u001b[1;36m3\u001b[0m \u001b[1;32mand\u001b[0m \u001b[0mdata\u001b[0m \u001b[1;33m<\u001b[0m \u001b[1;36m5\u001b[0m\u001b[1;33m]\u001b[0m\u001b[1;33m)\u001b[0m\u001b[1;33m\u001b[0m\u001b[1;33m\u001b[0m\u001b[0m\n\u001b[0m",
      "\u001b[1;31mValueError\u001b[0m: The truth value of an array with more than one element is ambiguous. Use a.any() or a.all()"
     ]
    }
   ],
   "source": [
    "data = np.array([[1, 2], [3, 4], [5, 6]])\n",
    "print(data[data > 3 and data < 5])"
   ]
  },
  {
   "cell_type": "code",
   "execution_count": 41,
   "metadata": {},
   "outputs": [
    {
     "name": "stdout",
     "output_type": "stream",
     "text": [
      "[4]\n"
     ]
    }
   ],
   "source": [
    "data = np.array([[1, 2], [3, 4], [5, 6]])\n",
    "print(data[(data > 3) & (data < 5)])\n",
    "# 输出：[4]"
   ]
  },
  {
   "cell_type": "code",
   "execution_count": 42,
   "metadata": {},
   "outputs": [
    {
     "name": "stdout",
     "output_type": "stream",
     "text": [
      "[1 4 5 6]\n",
      "[2 3 4 5 6]\n"
     ]
    }
   ],
   "source": [
    "data = np.array([[1, 2], [3, 4], [5, 6]])\n",
    "# 大于 3 或者小于 2\n",
    "print(data[(data > 3) | (data < 2)])\n",
    "# 输出：[1 4 5 6]\n",
    "\n",
    "# 大于 3 或者不小于 2（即大于等于 2）\n",
    "print(data[(data > 3) | ~(data < 2)])\n",
    "# 输出：[2 3 4 5 6]"
   ]
  },
  {
   "cell_type": "markdown",
   "metadata": {},
   "source": [
    "：and 改用 &，or 改用 |，not 改用 ~，并且每个条件要用括号括起来。"
   ]
  },
  {
   "cell_type": "code",
   "execution_count": 43,
   "metadata": {},
   "outputs": [
    {
     "name": "stdout",
     "output_type": "stream",
     "text": [
      "[3]\n",
      "[1 2 4 5 6]\n"
     ]
    }
   ],
   "source": [
    "data = np.array([[1, 2], [3, 4], [5, 6]])\n",
    "# 等于 3\n",
    "print(data[data == 3])\n",
    "# 输出：[3]\n",
    "\n",
    "# 不等于 3\n",
    "print(data[data != 3])\n",
    "# 输出：[1 2 4 5 6]"
   ]
  },
  {
   "cell_type": "code",
   "execution_count": 44,
   "metadata": {},
   "outputs": [
    {
     "name": "stdout",
     "output_type": "stream",
     "text": [
      "[55 34 66]\n"
     ]
    }
   ],
   "source": [
    "import numpy as np\n",
    "\n",
    "data = np.array([[23, 12, 55], [7, 34, 66], [8, 16, 27]])\n",
    "print(data[data > data.mean()])"
   ]
  },
  {
   "cell_type": "code",
   "execution_count": 45,
   "metadata": {},
   "outputs": [
    {
     "name": "stdout",
     "output_type": "stream",
     "text": [
      "[1 2 3 4 5 6 7 8 9]\n",
      "[0 1 2 3 4 5 6 7 8 9]\n",
      "[1 3 5 7 9]\n"
     ]
    }
   ],
   "source": [
    "# 生成 1-9 的数组\n",
    "print(np.arange(1, 10))\n",
    "# 输出：[1 2 3 4 5 6 7 8 9]\n",
    "\n",
    "# 生成 0-9 的数组\n",
    "print(np.arange(10))\n",
    "# 输出：[0 1 2 3 4 5 6 7 8 9]\n",
    "\n",
    "# 生成 1-9 的数组，步长为 2\n",
    "print(np.arange(1, 10, 2))\n",
    "# 输出：[1 3 5 7 9]"
   ]
  },
  {
   "cell_type": "markdown",
   "metadata": {},
   "source": [
    "numpy 中的 np.random.rand() 方法和 Python 中 random.random() 方法类似，都是生成 [0, 1) 之间的随机小数。不同的是，numpy 中的 np.random.rand() 方法可以生成多个 [0, 1) 之间的随机小数，只需我们传入要生成的随机数组的形状（shape）即可。"
   ]
  },
  {
   "cell_type": "code",
   "execution_count": 46,
   "metadata": {},
   "outputs": [
    {
     "name": "stdout",
     "output_type": "stream",
     "text": [
      "0.7302655488355075\n",
      "[0.66667064 0.76333643 0.28829018]\n",
      "[[0.27251386 0.25581839 0.00699545]\n",
      " [0.40844575 0.5968214  0.286087  ]]\n"
     ]
    }
   ],
   "source": [
    "# 不传参数时\n",
    "print(np.random.rand())\n",
    "# 输出：0.1392571183916036\n",
    "\n",
    "# 传入一个参数时\n",
    "print(np.random.rand(3))\n",
    "# 输出：[0.7987698  0.52115291 0.70452156]\n",
    "\n",
    "# 传入多个参数时\n",
    "print(np.random.rand(2, 3))\n",
    "# 输出：\n",
    "# [[0.08539006 0.97878203 0.23976172]\n",
    "#  [0.34301963 0.48388704 0.63304024]]"
   ]
  },
  {
   "cell_type": "markdown",
   "metadata": {},
   "source": [
    "同理，numpy 中的 np.random.randint() 方法和 Python 中的 random.randint() 类似，不同之处在于，random.randint(m, n) 生成的是 [m, n] 之间的整数，而 np.random.randint(m, n) 生成的是 [m, n) 之间的整数，这点一定注意要区分。"
   ]
  },
  {
   "cell_type": "code",
   "execution_count": 47,
   "metadata": {},
   "outputs": [
    {
     "name": "stdout",
     "output_type": "stream",
     "text": [
      "2\n",
      "[1 2 4]\n",
      "[[1 0 3]\n",
      " [4 1 0]]\n"
     ]
    }
   ],
   "source": [
    "# 不传入形状时\n",
    "print(np.random.randint(0, 5))\n",
    "# 输出：3\n",
    "\n",
    "# 形状为一维数组时\n",
    "print(np.random.randint(0, 5, 3))\n",
    "# 输出：[4 0 1]\n",
    "\n",
    "# 形状为二维数组时\n",
    "print(np.random.randint(0, 5, (2, 3)))\n",
    "# 输出：\n",
    "# [[0 2 1]\n",
    "#  [4 2 0]]"
   ]
  },
  {
   "cell_type": "code",
   "execution_count": 48,
   "metadata": {},
   "outputs": [],
   "source": [
    "data = np.genfromtxt('data.csv', delimiter=',')"
   ]
  },
  {
   "cell_type": "code",
   "execution_count": 49,
   "metadata": {},
   "outputs": [
    {
     "name": "stdout",
     "output_type": "stream",
     "text": [
      "[0 1 2 3 4 5 6 7 8 9]\n",
      "[[0.21918647 0.43194899 0.54928    0.5497482  0.2466421  0.45084322]\n",
      " [0.49683725 0.60840222 0.09662681 0.67017578 0.26262143 0.84151942]\n",
      " [0.60559887 0.01334056 0.03091871 0.95230238 0.59931639 0.26051882]\n",
      " [0.01826176 0.38935246 0.46425169 0.91694124 0.18165084 0.02279066]\n",
      " [0.12491845 0.50914769 0.65971763 0.18900832 0.33695542 0.8266812 ]\n",
      " [0.17920071 0.91568133 0.30453673 0.16778841 0.64013637 0.00228189]]\n",
      "[59 62  4 47 53 86  9 32 18 74]\n",
      "[[1. 2. 3.]\n",
      " [4. 5. 6.]\n",
      " [7. 8. 9.]]\n"
     ]
    }
   ],
   "source": [
    "import numpy as np\n",
    "\n",
    "print(np.arange(10))\n",
    "print(np.random.rand(6, 6))\n",
    "print(np.random.randint(1, 100, 10))\n",
    "print(np.genfromtxt('data.csv', delimiter=','))"
   ]
  },
  {
   "cell_type": "code",
   "execution_count": 50,
   "metadata": {},
   "outputs": [
    {
     "name": "stdout",
     "output_type": "stream",
     "text": [
      "1.6666666666666665\n"
     ]
    }
   ],
   "source": [
    "predictions = np.array([1, 1, 1])\n",
    "labels = np.array([1, 2, 3])\n",
    "error = (1 / labels.size) * np.sum(np.square(predictions - labels))\n",
    "print(error)\n",
    "# 输出：1.6666666666666665"
   ]
  },
  {
   "cell_type": "code",
   "execution_count": 51,
   "metadata": {},
   "outputs": [
    {
     "name": "stdout",
     "output_type": "stream",
     "text": [
      "5.98\n"
     ]
    }
   ],
   "source": [
    "import numpy as np\n",
    "\n",
    "labels=np.genfromtxt('labels.csv',delimiter=',')\n",
    "predictions=np.genfromtxt('predictions.csv',delimiter=',')\n",
    "\n",
    "error=(1/labels.size)*np.sum(np.square(predictions-labels))\n",
    "print(error)"
   ]
  }
 ],
 "metadata": {
  "kernelspec": {
   "display_name": "Python 3.6.13 ('tensorflow')",
   "language": "python",
   "name": "python3"
  },
  "language_info": {
   "codemirror_mode": {
    "name": "ipython",
    "version": 3
   },
   "file_extension": ".py",
   "mimetype": "text/x-python",
   "name": "python",
   "nbconvert_exporter": "python",
   "pygments_lexer": "ipython3",
   "version": "3.6.13"
  },
  "orig_nbformat": 4,
  "vscode": {
   "interpreter": {
    "hash": "74973848420d399980c11f16a640d467c2e8f2266629d1ddb4e03d028dbfee73"
   }
  }
 },
 "nbformat": 4,
 "nbformat_minor": 2
}
