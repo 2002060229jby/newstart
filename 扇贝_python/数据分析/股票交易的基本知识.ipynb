{
 "cells": [
  {
   "cell_type": "code",
   "execution_count": 3,
   "metadata": {},
   "outputs": [],
   "source": [
    "# 一年以后，公司经营的很不错，但是为了更加快速的发展，需要新的资金投入，寻找新的投资的过程，就叫做 融资"
   ]
  },
  {
   "cell_type": "code",
   "execution_count": 4,
   "metadata": {},
   "outputs": [],
   "source": [
    "# 这时候，另一家公司「食肉集团」表示很有兴趣投资，但在此之前必须要给猫科一个定价，这样才能确定投多少钱以及确认自身的持股比例。这个定价叫做 估值。"
   ]
  },
  {
   "cell_type": "code",
   "execution_count": 5,
   "metadata": {},
   "outputs": [],
   "source": [
    "# 估值分为投前和投后，投前估值 反映的是还没有投资时的价值，投后估值 则是追加投资后的价值。"
   ]
  },
  {
   "cell_type": "code",
   "execution_count": 6,
   "metadata": {},
   "outputs": [],
   "source": [
    "# 经过双方谈判，食肉集团给猫科的估值是投前 1 亿人民币，食肉集团增加投资 2000 万，因此投后估值就变成了 1.2 亿，这之后三方的持股比例是多少了呢？\n",
    "\n",
    "# 我们应该这样计算，投前估值 1 亿，那么意味着李大猫所持有 30% 的股份已经价值 3000 万，张小虎的股份价值 7000 万。再加上食肉集团追加了 2000 万的投资，因此三方所持有的股份价值是：\n",
    "\n",
    "# 李大猫：3000 万\n",
    "# 张小虎：7000 万\n",
    "# 食肉集团：2000 万\n",
    "# 相应的持股比例就是：\n",
    "\n",
    "# 李大猫：3000 万/1.2 亿 = 25%\n",
    "# 张小虎：7000 万/1.2 亿 = 58.3%\n",
    "# 食肉集团：2000 万/1.2 亿 = 16.7%"
   ]
  },
  {
   "cell_type": "code",
   "execution_count": 7,
   "metadata": {},
   "outputs": [],
   "source": [
    "# 又过了三年，猫科的发展非常好，于是公司决定 IPO 也就是上市，上市前公司定价 8 亿元人民币，同时发行价值 2 亿元的股票。\n",
    "\n",
    "# 上市和从食肉集团融资基本原理是一样的，区别在于之前从极少数的投资机构或者公司融资（私募），现在要向广大股民融资（公募），并且股民买到的股份是可以以股票的形式公开交易的。\n",
    "\n",
    "# 当一家公司上市后，公司的价值就不再是估值，而是市值，意思就是股票市场决定的价值。"
   ]
  },
  {
   "cell_type": "code",
   "execution_count": 8,
   "metadata": {},
   "outputs": [],
   "source": [
    "# 股票的价值，是和公司的价值直接挂钩的，一家公司价值 100 亿元，发行了 1 亿股股票，那么每股价值就是 100 元。所以，先有公司价值，才有股票价值。"
   ]
  },
  {
   "cell_type": "code",
   "execution_count": 9,
   "metadata": {},
   "outputs": [],
   "source": [
    "# 为什么非上市公司不需要股票而上市公司一定要有股票呢？道理很简单，非上市公司的股东数量有限，股东持股比例变化也不频繁，所以只要在工商局登记就行。\n",
    "\n",
    "# 但是上市公司有成千上万的股东，大家手上的持股比例每分每秒都在变，这时候就需要有股票这样的权证而非工商登记来证明自己的权益了。"
   ]
  },
  {
   "cell_type": "code",
   "execution_count": 10,
   "metadata": {},
   "outputs": [],
   "source": [
    "# 股价(Price)：公司每一股股票在市场上的价格；\n",
    "# 总股本：公司全部股票的数量，包括在资本市场上流通交易的和在大股东手里没有进行交易的；\n",
    "# 市值(Market Capitalization，简称 Market Cap)：上市公司的总价值，市值 = 股价 × 总股本；\n",
    "# 市盈率(Price Earnings Ratio，简称 P/E 或 PER)：股价相对于每股收益的倍数，也等于公司总市值除以一年净利润的倍数；\n",
    "# 市净率(Price-to-Book Ratio)：股价相对于每股净资产的倍数；\n",
    "# 开盘价(Open)：某种证券在证券交易所每个交易日开市后的第一笔每股买卖成交价格；\n",
    "# 收盘价(Close)：一天交易活动结束前最后一笔交易的成交价格；\n",
    "# 最高价(High)：一天交易活动中成交的最高价；\n",
    "# 最低价(Low)：一天交易活动中成交的最低价。"
   ]
  },
  {
   "cell_type": "code",
   "execution_count": 11,
   "metadata": {},
   "outputs": [],
   "source": [
    "# 对于市盈率，如果以最近一期公司年报中公布的一年净利润计算，就叫静态市盈率，如果以最近的几期季报中公布的季度净利润来推算本年度净利润，就叫做动态市盈率。"
   ]
  },
  {
   "cell_type": "code",
   "execution_count": null,
   "metadata": {},
   "outputs": [],
   "source": [
    "import tushare as ts\n",
    "\n",
    "# 本 token 仅在课程中有效\n",
    "# 在本地环境运行时可以替换成自己的 token\n",
    "MY_TOKEN = '0123456789shanbaycoding'\n",
    "ts_pro = ts.pro_api(MY_TOKEN)\n",
    "\n",
    "daily_basic = ts_pro.daily_basic(trade_date=\"20201110\")\n",
    "print(daily_basic.head())"
   ]
  }
 ],
 "metadata": {
  "kernelspec": {
   "display_name": "Python 3.6.13 ('tensorflow')",
   "language": "python",
   "name": "python3"
  },
  "language_info": {
   "codemirror_mode": {
    "name": "ipython",
    "version": 3
   },
   "file_extension": ".py",
   "mimetype": "text/x-python",
   "name": "python",
   "nbconvert_exporter": "python",
   "pygments_lexer": "ipython3",
   "version": "3.6.13"
  },
  "orig_nbformat": 4,
  "vscode": {
   "interpreter": {
    "hash": "74973848420d399980c11f16a640d467c2e8f2266629d1ddb4e03d028dbfee73"
   }
  }
 },
 "nbformat": 4,
 "nbformat_minor": 2
}
