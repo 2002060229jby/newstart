{
 "cells": [
  {
   "cell_type": "code",
   "execution_count": 1,
   "metadata": {},
   "outputs": [
    {
     "name": "stdout",
     "output_type": "stream",
     "text": [
      "0    2\n",
      "1    4\n",
      "2    6\n",
      "3    8\n",
      "dtype: int64\n"
     ]
    }
   ],
   "source": [
    "import pandas as pd\n",
    "\n",
    "print(pd.Series([2, 4, 6, 8]))"
   ]
  },
  {
   "cell_type": "code",
   "execution_count": 2,
   "metadata": {},
   "outputs": [
    {
     "name": "stdout",
     "output_type": "stream",
     "text": [
      "a    2\n",
      "b    4\n",
      "c    6\n",
      "d    8\n",
      "dtype: int64\n"
     ]
    }
   ],
   "source": [
    "print(pd.Series([2, 4, 6, 8], index=['a', 'b', 'c', 'd']))"
   ]
  },
  {
   "cell_type": "code",
   "execution_count": 3,
   "metadata": {},
   "outputs": [
    {
     "name": "stdout",
     "output_type": "stream",
     "text": [
      "a    2\n",
      "b    4\n",
      "c    6\n",
      "d    8\n",
      "dtype: int64\n"
     ]
    }
   ],
   "source": [
    "print(pd.Series({'a': 2, 'b': 4, 'c': 6, 'd': 8}))"
   ]
  },
  {
   "cell_type": "code",
   "execution_count": 4,
   "metadata": {},
   "outputs": [
    {
     "name": "stdout",
     "output_type": "stream",
     "text": [
      "2\n",
      "4\n"
     ]
    }
   ],
   "source": [
    "s1 = pd.Series([2, 4, 6, 8])\n",
    "s2 = pd.Series({'a': 2, 'b': 4, 'c': 6, 'd': 8})\n",
    "\n",
    "print(s1[0])\n",
    "# 输出：2\n",
    "\n",
    "print(s2['b'])\n",
    "# 输出：4"
   ]
  },
  {
   "cell_type": "code",
   "execution_count": 5,
   "metadata": {},
   "outputs": [
    {
     "name": "stdout",
     "output_type": "stream",
     "text": [
      "辣条    34\n",
      "面包    10\n",
      "可乐    21\n",
      "烤肠    16\n",
      "dtype: int64\n"
     ]
    }
   ],
   "source": [
    "s1 = pd.Series({'辣条': 14, '面包': 7, '可乐': 8, '烤肠': 10})\n",
    "s2 = pd.Series({'辣条': 20, '面包': 3, '可乐': 13, '烤肠': 6})\n",
    "print(s1 + s2)"
   ]
  },
  {
   "cell_type": "code",
   "execution_count": 6,
   "metadata": {},
   "outputs": [
    {
     "name": "stdout",
     "output_type": "stream",
     "text": [
      "可乐     NaN\n",
      "泡面     NaN\n",
      "烤肠     NaN\n",
      "辣条    34.0\n",
      "雪碧     NaN\n",
      "面包    10.0\n",
      "dtype: float64\n"
     ]
    }
   ],
   "source": [
    "import pandas as pd\n",
    "\n",
    "s1 = pd.Series({'辣条': 14, '面包': 7, '可乐': 8, '烤肠': 10})\n",
    "s2 = pd.Series({'辣条': 20, '面包': 3, '雪碧': 13, '泡面': 6})\n",
    "print(s1 + s2)"
   ]
  },
  {
   "cell_type": "code",
   "execution_count": 10,
   "metadata": {},
   "outputs": [
    {
     "name": "stdout",
     "output_type": "stream",
     "text": [
      "可乐     8.0\n",
      "泡面     6.0\n",
      "烤肠    10.0\n",
      "辣条    34.0\n",
      "雪碧    13.0\n",
      "面包    10.0\n",
      "dtype: float64\n",
      "可乐    -8.0\n",
      "泡面     6.0\n",
      "烤肠   -10.0\n",
      "辣条     6.0\n",
      "雪碧    13.0\n",
      "面包    -4.0\n",
      "dtype: float64\n",
      "可乐      0.0\n",
      "泡面      0.0\n",
      "烤肠      0.0\n",
      "辣条    280.0\n",
      "雪碧      0.0\n",
      "面包     21.0\n",
      "dtype: float64\n",
      "可乐    0.000000\n",
      "泡面         inf\n",
      "烤肠    0.000000\n",
      "辣条    1.428571\n",
      "雪碧         inf\n",
      "面包    0.428571\n",
      "dtype: float64\n"
     ]
    }
   ],
   "source": [
    "import pandas as pd\n",
    "\n",
    "s1 = pd.Series({'辣条': 14, '面包': 7, '可乐': 8, '烤肠': 10})\n",
    "s2 = pd.Series({'辣条': 20, '面包': 3, '雪碧': 13, '泡面': 6})\n",
    "print(s2.add(s1, fill_value=0))\n",
    "print(s2.sub(s1, fill_value=0))\n",
    "print(s2.mul(s1, fill_value=0))\n",
    "print(s2.div(s1, fill_value=0))"
   ]
  },
  {
   "cell_type": "code",
   "execution_count": 12,
   "metadata": {},
   "outputs": [
    {
     "name": "stdout",
     "output_type": "stream",
     "text": [
      "   辣条  面包  可乐  烤肠\n",
      "0    14     7     8    10\n",
      "1    20     3    13     6\n"
     ]
    }
   ],
   "source": [
    "import pandas as pd\n",
    "\n",
    "pd.set_option('display.unicode.ambiguous_as_wide', True)\n",
    "pd.set_option('display.unicode.east_asian_width', True)\n",
    "\n",
    "df = pd.DataFrame({'辣条': [14, 20], '面包': [7, 3], '可乐': [8, 13], '烤肠': [10, 6]})\n",
    "print(df)"
   ]
  },
  {
   "cell_type": "markdown",
   "metadata": {},
   "source": [
    "因此需要调用 pd.set_option() 使表格对齐显示。如果你是使用 Jupyter 来运行代码的，Jupyter 会自动渲染出一个表格，则无需这个设置"
   ]
  },
  {
   "cell_type": "code",
   "execution_count": 13,
   "metadata": {},
   "outputs": [
    {
     "name": "stdout",
     "output_type": "stream",
     "text": [
      "            辣条  面包  可乐  烤肠\n",
      "2020-01-01    14     7     8    10\n",
      "2020-01-02    20     3    13     6\n"
     ]
    }
   ],
   "source": [
    "import pandas as pd\n",
    "\n",
    "data = {\n",
    "  '辣条': [14, 20],\n",
    "  '面包': [7, 3],\n",
    "  '可乐': [8, 13],\n",
    "  '烤肠': [10, 6]\n",
    "}\n",
    "df = pd.DataFrame(data, index=['2020-01-01', '2020-01-02'])\n",
    "print(df)"
   ]
  },
  {
   "cell_type": "code",
   "execution_count": 17,
   "metadata": {},
   "outputs": [
    {
     "data": {
      "text/html": [
       "<div>\n",
       "<style scoped>\n",
       "    .dataframe tbody tr th:only-of-type {\n",
       "        vertical-align: middle;\n",
       "    }\n",
       "\n",
       "    .dataframe tbody tr th {\n",
       "        vertical-align: top;\n",
       "    }\n",
       "\n",
       "    .dataframe thead th {\n",
       "        text-align: right;\n",
       "    }\n",
       "</style>\n",
       "<table border=\"1\" class=\"dataframe\">\n",
       "  <thead>\n",
       "    <tr style=\"text-align: right;\">\n",
       "      <th></th>\n",
       "      <th>辣条</th>\n",
       "      <th>面包</th>\n",
       "      <th>可乐</th>\n",
       "      <th>烤肠</th>\n",
       "    </tr>\n",
       "  </thead>\n",
       "  <tbody>\n",
       "    <tr>\n",
       "      <th>0</th>\n",
       "      <td>14</td>\n",
       "      <td>7</td>\n",
       "      <td>8</td>\n",
       "      <td>10</td>\n",
       "    </tr>\n",
       "    <tr>\n",
       "      <th>1</th>\n",
       "      <td>20</td>\n",
       "      <td>3</td>\n",
       "      <td>13</td>\n",
       "      <td>6</td>\n",
       "    </tr>\n",
       "  </tbody>\n",
       "</table>\n",
       "</div>"
      ],
      "text/plain": [
       "   辣条  面包  可乐  烤肠\n",
       "0    14     7     8    10\n",
       "1    20     3    13     6"
      ]
     },
     "execution_count": 17,
     "metadata": {},
     "output_type": "execute_result"
    }
   ],
   "source": [
    "import pandas as pd\n",
    "\n",
    "df = pd.DataFrame({'辣条': [14, 20], '面包': [7, 3], '可乐': [8, 13], '烤肠': [10, 6]})\n",
    "df"
   ]
  },
  {
   "cell_type": "code",
   "execution_count": 18,
   "metadata": {},
   "outputs": [
    {
     "name": "stdout",
     "output_type": "stream",
     "text": [
      "0     8\n",
      "1    13\n",
      "Name: 可乐, dtype: int64\n"
     ]
    }
   ],
   "source": [
    "print(df['可乐'])"
   ]
  },
  {
   "cell_type": "code",
   "execution_count": 19,
   "metadata": {},
   "outputs": [
    {
     "name": "stdout",
     "output_type": "stream",
     "text": [
      "   可乐  辣条\n",
      "0     8    14\n",
      "1    13    20\n"
     ]
    }
   ],
   "source": [
    "print(df[['可乐', '辣条']])"
   ]
  },
  {
   "cell_type": "code",
   "execution_count": 20,
   "metadata": {},
   "outputs": [
    {
     "name": "stdout",
     "output_type": "stream",
     "text": [
      "   辣条  面包  可乐  烤肠\n",
      "0    14     7    18    10\n",
      "1    20     3    23     6\n"
     ]
    }
   ],
   "source": [
    "df['可乐'] = [18, 23]\n",
    "print(df)"
   ]
  },
  {
   "cell_type": "code",
   "execution_count": 21,
   "metadata": {},
   "outputs": [
    {
     "name": "stdout",
     "output_type": "stream",
     "text": [
      "   辣条  面包  可乐  烤肠  糖果\n",
      "0    14     7    18    10     3\n",
      "1    20     3    23     6     5\n"
     ]
    }
   ],
   "source": [
    "df['糖果'] = [3, 5]\n",
    "print(df)"
   ]
  },
  {
   "cell_type": "code",
   "execution_count": 22,
   "metadata": {},
   "outputs": [
    {
     "name": "stdout",
     "output_type": "stream",
     "text": [
      "   辣条  可乐  烤肠  糖果\n",
      "0    14    18    10     3\n",
      "1    20    23     6     5\n"
     ]
    }
   ],
   "source": [
    "df.drop('面包', axis=1, inplace=True)\n",
    "print(df)\n",
    "# 或者 print(df.drop('面包', axis=1))"
   ]
  },
  {
   "cell_type": "markdown",
   "metadata": {},
   "source": [
    "axis 表示针对行或列进行删除，axis = 0 表示删除对应的行，axis = 1 表示删除对应的列，axis 默认为 0。"
   ]
  },
  {
   "cell_type": "code",
   "execution_count": 23,
   "metadata": {},
   "outputs": [
    {
     "name": "stdout",
     "output_type": "stream",
     "text": [
      "            辣条  可乐  烤肠  糖果\n",
      "2020-01-01    14    18    10     3\n",
      "2020-01-02    20    23     6     5\n"
     ]
    }
   ],
   "source": [
    "import pandas as pd\n",
    "\n",
    "pd.set_option('display.unicode.ambiguous_as_wide', True)\n",
    "pd.set_option('display.unicode.east_asian_width', True)\n",
    "\n",
    "data = {\n",
    "  '辣条': [14, 20],\n",
    "  '面包': [7, 3],\n",
    "  '可乐': [8, 13],\n",
    "  '烤肠': [10, 6]\n",
    "}\n",
    "df = pd.DataFrame(data, index=['2020-01-01', '2020-01-02'])\n",
    "df['可乐'] = [18, 23]\n",
    "df['糖果'] = [3, 5]\n",
    "df.drop('面包', axis=1, inplace=True)\n",
    "print(df)"
   ]
  },
  {
   "cell_type": "code",
   "execution_count": 25,
   "metadata": {},
   "outputs": [
    {
     "name": "stdout",
     "output_type": "stream",
     "text": [
      "<class 'pandas.core.frame.DataFrame'>\n"
     ]
    }
   ],
   "source": [
    "import pandas as pd\n",
    "\n",
    "df = pd.read_csv('2019年销售数据.csv')\n",
    "print(type(df))\n",
    "# 输出：<class 'pandas.core.frame.DataFrame'>"
   ]
  },
  {
   "cell_type": "code",
   "execution_count": 28,
   "metadata": {},
   "outputs": [
    {
     "name": "stdout",
     "output_type": "stream",
     "text": [
      "  销售员 团队  第一季度  第二季度  第三季度  第四季度\n",
      "0   刘一    A      6324      5621      6069      6005\n",
      "1   陈二    B      4508      3391      5933      5002\n",
      "2   张三    C      3426      3549      5872      5759\n",
      "3   李四    D      2104      3939      3285      3461\n",
      "4   王五    A      4830      5763      2923      4033\n",
      "  销售员 团队  第一季度  第二季度  第三季度  第四季度\n",
      "0   刘一    A      6324      5621      6069      6005\n",
      "1   陈二    B      4508      3391      5933      5002\n",
      "    销售员 团队  第一季度  第二季度  第三季度  第四季度\n",
      "15  许十六    D      5369      3420      5169      5790\n",
      "16  钱十七    A      6924      5912      5907      5263\n",
      "17  沈十八    B      2733      2649      3402      3164\n",
      "18  韩十九    C      1519      1553      1411      2091\n",
      "19  杨二十    D      3268      5090      3898      4180\n"
     ]
    }
   ],
   "source": [
    "print(df.head())\n",
    "print(df.head(2))\n",
    "print(df.tail())"
   ]
  },
  {
   "cell_type": "code",
   "execution_count": 29,
   "metadata": {},
   "outputs": [
    {
     "name": "stdout",
     "output_type": "stream",
     "text": [
      "<class 'pandas.core.frame.DataFrame'>\n",
      "RangeIndex: 20 entries, 0 to 19\n",
      "Data columns (total 6 columns):\n",
      " #   Column  Non-Null Count  Dtype \n",
      "---  ------  --------------  ----- \n",
      " 0   销售员     20 non-null     object\n",
      " 1   团队      20 non-null     object\n",
      " 2   第一季度    20 non-null     int64 \n",
      " 3   第二季度    20 non-null     int64 \n",
      " 4   第三季度    20 non-null     int64 \n",
      " 5   第四季度    20 non-null     int64 \n",
      "dtypes: int64(4), object(2)\n",
      "memory usage: 1.1+ KB\n",
      "None\n"
     ]
    }
   ],
   "source": [
    "print(df.info())"
   ]
  },
  {
   "cell_type": "code",
   "execution_count": 30,
   "metadata": {},
   "outputs": [
    {
     "name": "stdout",
     "output_type": "stream",
     "text": [
      "          第一季度     第二季度     第三季度     第四季度\n",
      "count    20.000000    20.000000    20.000000    20.000000\n",
      "mean   3969.150000  4252.250000  4309.300000  4284.700000\n",
      "std    1518.736084  1352.492275  1646.188871  1286.032377\n",
      "min    1501.000000  1553.000000  1272.000000  2091.000000\n",
      "25%    2760.000000  3412.750000  3194.500000  3469.250000\n",
      "50%    4162.000000  4392.500000  4536.000000  4120.500000\n",
      "75%    4888.500000  5412.250000  5818.000000  5202.250000\n",
      "max    6924.000000  6176.000000  6499.000000  6683.000000\n"
     ]
    }
   ],
   "source": [
    "print(df.describe())"
   ]
  },
  {
   "cell_type": "code",
   "execution_count": 31,
   "metadata": {},
   "outputs": [],
   "source": [
    "df['总和'] = df['第一季度'] + df['第二季度'] + df['第三季度'] + df['第四季度']"
   ]
  },
  {
   "cell_type": "code",
   "execution_count": 32,
   "metadata": {},
   "outputs": [
    {
     "data": {
      "text/plain": [
       "336308"
      ]
     },
     "execution_count": 32,
     "metadata": {},
     "output_type": "execute_result"
    }
   ],
   "source": [
    "# 总销售额最大值\n",
    "df['总和'].max()\n",
    "\n",
    "# 总销售额最小值\n",
    "df['总和'].min()\n",
    "\n",
    "# 总销售额平均值\n",
    "df['总和'].mean()\n",
    "\n",
    "# 所有人的总销售额求和\n",
    "df['总和'].sum()"
   ]
  },
  {
   "cell_type": "code",
   "execution_count": 33,
   "metadata": {},
   "outputs": [],
   "source": [
    "df.sort_values('总和', ascending=False, inplace=True)"
   ]
  },
  {
   "cell_type": "code",
   "execution_count": 34,
   "metadata": {},
   "outputs": [],
   "source": [
    "df.to_csv('2019年销售数据1.csv', index=False)"
   ]
  },
  {
   "cell_type": "code",
   "execution_count": 35,
   "metadata": {},
   "outputs": [],
   "source": [
    "import pandas as pd\n",
    "\n",
    "df = pd.read_csv('2019年销售数据.csv')  # 导入 csv 文件\n",
    "df['总和'] = df['第一季度'] + df['第二季度'] + df['第三季度'] + df['第四季度']  # 汇总\n",
    "df.sort_values('总和', ascending=False, inplace=True)  # 排序\n",
    "df.to_csv('2019年销售数据1.csv', index=False)  # 导出 csv 文件"
   ]
  },
  {
   "cell_type": "markdown",
   "metadata": {},
   "source": [
    "Excel"
   ]
  },
  {
   "cell_type": "code",
   "execution_count": 45,
   "metadata": {},
   "outputs": [
    {
     "name": "stdout",
     "output_type": "stream",
     "text": [
      "Collecting openpyxl\n",
      "  Downloading openpyxl-3.0.10-py2.py3-none-any.whl (242 kB)\n",
      "Collecting et-xmlfile\n",
      "  Downloading et_xmlfile-1.1.0-py3-none-any.whl (4.7 kB)\n",
      "Installing collected packages: et-xmlfile, openpyxl\n",
      "Successfully installed et-xmlfile-1.1.0 openpyxl-3.0.10\n"
     ]
    }
   ],
   "source": [
    "!pip install openpyxl"
   ]
  },
  {
   "cell_type": "code",
   "execution_count": 46,
   "metadata": {},
   "outputs": [],
   "source": [
    "# 原因：xlrd1.2.0之后的版本不支持xlsx格式，支持xls格式\n",
    "import pandas as pd\n",
    "\n",
    "df = pd.read_excel('2019年销售数据.xlsx',engine='openpyxl')  # 导入 excel 文件\n",
    "df['总和'] = df['第一季度'] + df['第二季度'] + df['第三季度'] + df['第四季度']  # 汇总\n",
    "df.sort_values('总和', ascending=False, inplace=True)  # 排序\n",
    "df.to_excel('2019年销售数据1.xlsx', index=False)  # 导出 excel 文件"
   ]
  },
  {
   "cell_type": "code",
   "execution_count": 49,
   "metadata": {},
   "outputs": [],
   "source": [
    "import pandas as pd\n",
    "\n",
    "df = pd.read_excel('2019年销售数据.xlsx', sheet_name='工作表1',engine='openpyxl')  # 导入工作表1\n",
    "df['总和'] = df['第一季度'] + df['第二季度'] + df['第三季度'] + df['第四季度']  # 汇总\n",
    "df.sort_values('总和', ascending=False, inplace=True)  # 排序\n",
    "df.to_excel('2019年销售数据1.xlsx', index=False, sheet_name='工作表1')  # 导出到工作表1"
   ]
  },
  {
   "cell_type": "code",
   "execution_count": 51,
   "metadata": {},
   "outputs": [
    {
     "data": {
      "text/html": [
       "<div>\n",
       "<style scoped>\n",
       "    .dataframe tbody tr th:only-of-type {\n",
       "        vertical-align: middle;\n",
       "    }\n",
       "\n",
       "    .dataframe tbody tr th {\n",
       "        vertical-align: top;\n",
       "    }\n",
       "\n",
       "    .dataframe thead th {\n",
       "        text-align: right;\n",
       "    }\n",
       "</style>\n",
       "<table border=\"1\" class=\"dataframe\">\n",
       "  <thead>\n",
       "    <tr style=\"text-align: right;\">\n",
       "      <th></th>\n",
       "      <th>销售员</th>\n",
       "      <th>团队</th>\n",
       "      <th>第一季度</th>\n",
       "      <th>第二季度</th>\n",
       "      <th>第三季度</th>\n",
       "      <th>第四季度</th>\n",
       "      <th>总和</th>\n",
       "    </tr>\n",
       "  </thead>\n",
       "  <tbody>\n",
       "    <tr>\n",
       "      <th>3</th>\n",
       "      <td>李四</td>\n",
       "      <td>D</td>\n",
       "      <td>2104</td>\n",
       "      <td>3939</td>\n",
       "      <td>3285</td>\n",
       "      <td>3461</td>\n",
       "      <td>12789</td>\n",
       "    </tr>\n",
       "    <tr>\n",
       "      <th>5</th>\n",
       "      <td>赵六</td>\n",
       "      <td>B</td>\n",
       "      <td>2545</td>\n",
       "      <td>3747</td>\n",
       "      <td>2232</td>\n",
       "      <td>3472</td>\n",
       "      <td>11996</td>\n",
       "    </tr>\n",
       "    <tr>\n",
       "      <th>9</th>\n",
       "      <td>郑十</td>\n",
       "      <td>B</td>\n",
       "      <td>4935</td>\n",
       "      <td>2617</td>\n",
       "      <td>2424</td>\n",
       "      <td>3833</td>\n",
       "      <td>13809</td>\n",
       "    </tr>\n",
       "    <tr>\n",
       "      <th>11</th>\n",
       "      <td>蒋十二</td>\n",
       "      <td>D</td>\n",
       "      <td>4509</td>\n",
       "      <td>3673</td>\n",
       "      <td>4717</td>\n",
       "      <td>3489</td>\n",
       "      <td>16388</td>\n",
       "    </tr>\n",
       "    <tr>\n",
       "      <th>12</th>\n",
       "      <td>毕十三</td>\n",
       "      <td>A</td>\n",
       "      <td>4873</td>\n",
       "      <td>5403</td>\n",
       "      <td>3889</td>\n",
       "      <td>2567</td>\n",
       "      <td>16732</td>\n",
       "    </tr>\n",
       "    <tr>\n",
       "      <th>14</th>\n",
       "      <td>秦十五</td>\n",
       "      <td>C</td>\n",
       "      <td>1501</td>\n",
       "      <td>2238</td>\n",
       "      <td>1272</td>\n",
       "      <td>2265</td>\n",
       "      <td>7276</td>\n",
       "    </tr>\n",
       "    <tr>\n",
       "      <th>17</th>\n",
       "      <td>沈十八</td>\n",
       "      <td>B</td>\n",
       "      <td>2733</td>\n",
       "      <td>2649</td>\n",
       "      <td>3402</td>\n",
       "      <td>3164</td>\n",
       "      <td>11948</td>\n",
       "    </tr>\n",
       "    <tr>\n",
       "      <th>18</th>\n",
       "      <td>韩十九</td>\n",
       "      <td>C</td>\n",
       "      <td>1519</td>\n",
       "      <td>1553</td>\n",
       "      <td>1411</td>\n",
       "      <td>2091</td>\n",
       "      <td>6574</td>\n",
       "    </tr>\n",
       "    <tr>\n",
       "      <th>19</th>\n",
       "      <td>杨二十</td>\n",
       "      <td>D</td>\n",
       "      <td>3268</td>\n",
       "      <td>5090</td>\n",
       "      <td>3898</td>\n",
       "      <td>4180</td>\n",
       "      <td>16436</td>\n",
       "    </tr>\n",
       "  </tbody>\n",
       "</table>\n",
       "</div>"
      ],
      "text/plain": [
       "    销售员 团队  第一季度  第二季度  第三季度  第四季度   总和\n",
       "3     李四    D      2104      3939      3285      3461  12789\n",
       "5     赵六    B      2545      3747      2232      3472  11996\n",
       "9     郑十    B      4935      2617      2424      3833  13809\n",
       "11  蒋十二    D      4509      3673      4717      3489  16388\n",
       "12  毕十三    A      4873      5403      3889      2567  16732\n",
       "14  秦十五    C      1501      2238      1272      2265   7276\n",
       "17  沈十八    B      2733      2649      3402      3164  11948\n",
       "18  韩十九    C      1519      1553      1411      2091   6574\n",
       "19  杨二十    D      3268      5090      3898      4180  16436"
      ]
     },
     "execution_count": 51,
     "metadata": {},
     "output_type": "execute_result"
    }
   ],
   "source": [
    "df = pd.read_excel('2019年销售数据.xlsx', sheet_name='工作表1',engine='openpyxl')  # 导入工作表1\n",
    "df['总和'] = df['第一季度'] + df['第二季度'] + df['第三季度'] + df['第四季度']  # 汇总\n",
    "df[df['总和'] < df['总和'].mean()]"
   ]
  },
  {
   "cell_type": "code",
   "execution_count": 52,
   "metadata": {},
   "outputs": [
    {
     "data": {
      "text/html": [
       "<div>\n",
       "<style scoped>\n",
       "    .dataframe tbody tr th:only-of-type {\n",
       "        vertical-align: middle;\n",
       "    }\n",
       "\n",
       "    .dataframe tbody tr th {\n",
       "        vertical-align: top;\n",
       "    }\n",
       "\n",
       "    .dataframe thead th {\n",
       "        text-align: right;\n",
       "    }\n",
       "</style>\n",
       "<table border=\"1\" class=\"dataframe\">\n",
       "  <thead>\n",
       "    <tr style=\"text-align: right;\">\n",
       "      <th></th>\n",
       "      <th>销售员</th>\n",
       "      <th>团队</th>\n",
       "      <th>第一季度</th>\n",
       "      <th>第二季度</th>\n",
       "      <th>第三季度</th>\n",
       "      <th>第四季度</th>\n",
       "      <th>总和</th>\n",
       "    </tr>\n",
       "  </thead>\n",
       "  <tbody>\n",
       "    <tr>\n",
       "      <th>0</th>\n",
       "      <td>刘一</td>\n",
       "      <td>A</td>\n",
       "      <td>6324</td>\n",
       "      <td>5621</td>\n",
       "      <td>6069</td>\n",
       "      <td>6005</td>\n",
       "      <td>24019</td>\n",
       "    </tr>\n",
       "    <tr>\n",
       "      <th>1</th>\n",
       "      <td>陈二</td>\n",
       "      <td>B</td>\n",
       "      <td>4508</td>\n",
       "      <td>3391</td>\n",
       "      <td>5933</td>\n",
       "      <td>5002</td>\n",
       "      <td>18834</td>\n",
       "    </tr>\n",
       "    <tr>\n",
       "      <th>2</th>\n",
       "      <td>张三</td>\n",
       "      <td>C</td>\n",
       "      <td>3426</td>\n",
       "      <td>3549</td>\n",
       "      <td>5872</td>\n",
       "      <td>5759</td>\n",
       "      <td>18606</td>\n",
       "    </tr>\n",
       "    <tr>\n",
       "      <th>3</th>\n",
       "      <td>李四</td>\n",
       "      <td>D</td>\n",
       "      <td>2104</td>\n",
       "      <td>3939</td>\n",
       "      <td>3285</td>\n",
       "      <td>3461</td>\n",
       "      <td>12789</td>\n",
       "    </tr>\n",
       "    <tr>\n",
       "      <th>4</th>\n",
       "      <td>王五</td>\n",
       "      <td>A</td>\n",
       "      <td>4830</td>\n",
       "      <td>5763</td>\n",
       "      <td>2923</td>\n",
       "      <td>4033</td>\n",
       "      <td>17549</td>\n",
       "    </tr>\n",
       "    <tr>\n",
       "      <th>6</th>\n",
       "      <td>孙七</td>\n",
       "      <td>C</td>\n",
       "      <td>3964</td>\n",
       "      <td>5053</td>\n",
       "      <td>6499</td>\n",
       "      <td>5056</td>\n",
       "      <td>20572</td>\n",
       "    </tr>\n",
       "    <tr>\n",
       "      <th>7</th>\n",
       "      <td>周八</td>\n",
       "      <td>D</td>\n",
       "      <td>5584</td>\n",
       "      <td>6176</td>\n",
       "      <td>5405</td>\n",
       "      <td>6683</td>\n",
       "      <td>23848</td>\n",
       "    </tr>\n",
       "    <tr>\n",
       "      <th>8</th>\n",
       "      <td>吴九</td>\n",
       "      <td>A</td>\n",
       "      <td>2769</td>\n",
       "      <td>5440</td>\n",
       "      <td>5724</td>\n",
       "      <td>4338</td>\n",
       "      <td>18271</td>\n",
       "    </tr>\n",
       "    <tr>\n",
       "      <th>9</th>\n",
       "      <td>郑十</td>\n",
       "      <td>B</td>\n",
       "      <td>4935</td>\n",
       "      <td>2617</td>\n",
       "      <td>2424</td>\n",
       "      <td>3833</td>\n",
       "      <td>13809</td>\n",
       "    </tr>\n",
       "    <tr>\n",
       "      <th>10</th>\n",
       "      <td>冯十一</td>\n",
       "      <td>C</td>\n",
       "      <td>4360</td>\n",
       "      <td>4846</td>\n",
       "      <td>4355</td>\n",
       "      <td>5182</td>\n",
       "      <td>18743</td>\n",
       "    </tr>\n",
       "    <tr>\n",
       "      <th>11</th>\n",
       "      <td>蒋十二</td>\n",
       "      <td>D</td>\n",
       "      <td>4509</td>\n",
       "      <td>3673</td>\n",
       "      <td>4717</td>\n",
       "      <td>3489</td>\n",
       "      <td>16388</td>\n",
       "    </tr>\n",
       "    <tr>\n",
       "      <th>12</th>\n",
       "      <td>毕十三</td>\n",
       "      <td>A</td>\n",
       "      <td>4873</td>\n",
       "      <td>5403</td>\n",
       "      <td>3889</td>\n",
       "      <td>2567</td>\n",
       "      <td>16732</td>\n",
       "    </tr>\n",
       "    <tr>\n",
       "      <th>13</th>\n",
       "      <td>朱十四</td>\n",
       "      <td>B</td>\n",
       "      <td>3338</td>\n",
       "      <td>4965</td>\n",
       "      <td>5800</td>\n",
       "      <td>4061</td>\n",
       "      <td>18164</td>\n",
       "    </tr>\n",
       "    <tr>\n",
       "      <th>15</th>\n",
       "      <td>许十六</td>\n",
       "      <td>D</td>\n",
       "      <td>5369</td>\n",
       "      <td>3420</td>\n",
       "      <td>5169</td>\n",
       "      <td>5790</td>\n",
       "      <td>19748</td>\n",
       "    </tr>\n",
       "    <tr>\n",
       "      <th>16</th>\n",
       "      <td>钱十七</td>\n",
       "      <td>A</td>\n",
       "      <td>6924</td>\n",
       "      <td>5912</td>\n",
       "      <td>5907</td>\n",
       "      <td>5263</td>\n",
       "      <td>24006</td>\n",
       "    </tr>\n",
       "    <tr>\n",
       "      <th>19</th>\n",
       "      <td>杨二十</td>\n",
       "      <td>D</td>\n",
       "      <td>3268</td>\n",
       "      <td>5090</td>\n",
       "      <td>3898</td>\n",
       "      <td>4180</td>\n",
       "      <td>16436</td>\n",
       "    </tr>\n",
       "  </tbody>\n",
       "</table>\n",
       "</div>"
      ],
      "text/plain": [
       "    销售员 团队  第一季度  第二季度  第三季度  第四季度   总和\n",
       "0     刘一    A      6324      5621      6069      6005  24019\n",
       "1     陈二    B      4508      3391      5933      5002  18834\n",
       "2     张三    C      3426      3549      5872      5759  18606\n",
       "3     李四    D      2104      3939      3285      3461  12789\n",
       "4     王五    A      4830      5763      2923      4033  17549\n",
       "6     孙七    C      3964      5053      6499      5056  20572\n",
       "7     周八    D      5584      6176      5405      6683  23848\n",
       "8     吴九    A      2769      5440      5724      4338  18271\n",
       "9     郑十    B      4935      2617      2424      3833  13809\n",
       "10  冯十一    C      4360      4846      4355      5182  18743\n",
       "11  蒋十二    D      4509      3673      4717      3489  16388\n",
       "12  毕十三    A      4873      5403      3889      2567  16732\n",
       "13  朱十四    B      3338      4965      5800      4061  18164\n",
       "15  许十六    D      5369      3420      5169      5790  19748\n",
       "16  钱十七    A      6924      5912      5907      5263  24006\n",
       "19  杨二十    D      3268      5090      3898      4180  16436"
      ]
     },
     "execution_count": 52,
     "metadata": {},
     "output_type": "execute_result"
    }
   ],
   "source": [
    "# 筛选出总和大于 10000 且小于 12000 的\n",
    "df[(df['总和'] > 10000) & (df['总和'] < 12000)]\n",
    "\n",
    "# 筛选出总和小于 5000 或大于 12000 的\n",
    "df[(df['总和'] < 5000) | (df['总和'] > 12000)]"
   ]
  },
  {
   "cell_type": "code",
   "execution_count": 53,
   "metadata": {},
   "outputs": [
    {
     "name": "stdout",
     "output_type": "stream",
     "text": [
      "    销售员 团队  第一季度  第二季度  第三季度  第四季度   总和\n",
      "0     刘一    A      6324      5621      6069      6005  24019\n",
      "6     孙七    C      3964      5053      6499      5056  20572\n",
      "7     周八    D      5584      6176      5405      6683  23848\n",
      "16  钱十七    A      6924      5912      5907      5263  24006\n"
     ]
    }
   ],
   "source": [
    "print(df[df['总和'] > df['总和'].mean() * 1.2])"
   ]
  },
  {
   "cell_type": "code",
   "execution_count": 54,
   "metadata": {},
   "outputs": [
    {
     "data": {
      "text/plain": [
       "0     NaN\n",
       "1     NaN\n",
       "2     NaN\n",
       "3     NaN\n",
       "4     NaN\n",
       "5     NaN\n",
       "6     NaN\n",
       "7     NaN\n",
       "8     NaN\n",
       "9     NaN\n",
       "10    NaN\n",
       "11    NaN\n",
       "12    NaN\n",
       "13    NaN\n",
       "14    NaN\n",
       "15    NaN\n",
       "16    NaN\n",
       "17    NaN\n",
       "18    NaN\n",
       "19    NaN\n",
       "Name: 总和, dtype: category\n",
       "Categories (3, object): ['不合格' < '良好' < '优秀']"
      ]
     },
     "execution_count": 54,
     "metadata": {},
     "output_type": "execute_result"
    }
   ],
   "source": [
    "pd.cut(df['总和'], bins=[0, 1000, 2000, 3000], labels=['不合格', '良好', '优秀'])"
   ]
  },
  {
   "cell_type": "code",
   "execution_count": 55,
   "metadata": {},
   "outputs": [
    {
     "data": {
      "text/plain": [
       "0       优秀\n",
       "1       良好\n",
       "2       良好\n",
       "3     不合格\n",
       "4       良好\n",
       "5     不合格\n",
       "6       优秀\n",
       "7       优秀\n",
       "8       良好\n",
       "9     不合格\n",
       "10      良好\n",
       "11      良好\n",
       "12      良好\n",
       "13      良好\n",
       "14    不合格\n",
       "15      良好\n",
       "16      优秀\n",
       "17    不合格\n",
       "18    不合格\n",
       "19      良好\n",
       "Name: 总和, dtype: category\n",
       "Categories (3, object): ['不合格' < '良好' < '优秀']"
      ]
     },
     "execution_count": 55,
     "metadata": {},
     "output_type": "execute_result"
    }
   ],
   "source": [
    "pd.cut(df['总和'], bins=[0, df['总和'].mean() * 0.9, df['总和'].mean() * 1.2, df['总和'].max()], labels=['不合格', '良好', '优秀'])"
   ]
  },
  {
   "cell_type": "code",
   "execution_count": 64,
   "metadata": {},
   "outputs": [
    {
     "data": {
      "text/html": [
       "<div>\n",
       "<style scoped>\n",
       "    .dataframe tbody tr th:only-of-type {\n",
       "        vertical-align: middle;\n",
       "    }\n",
       "\n",
       "    .dataframe tbody tr th {\n",
       "        vertical-align: top;\n",
       "    }\n",
       "\n",
       "    .dataframe thead th {\n",
       "        text-align: right;\n",
       "    }\n",
       "</style>\n",
       "<table border=\"1\" class=\"dataframe\">\n",
       "  <thead>\n",
       "    <tr style=\"text-align: right;\">\n",
       "      <th></th>\n",
       "      <th>辣条</th>\n",
       "      <th>面包</th>\n",
       "      <th>可乐</th>\n",
       "      <th>烤肠</th>\n",
       "    </tr>\n",
       "  </thead>\n",
       "  <tbody>\n",
       "    <tr>\n",
       "      <th>0</th>\n",
       "      <td>14</td>\n",
       "      <td>7</td>\n",
       "      <td>8</td>\n",
       "      <td>10</td>\n",
       "    </tr>\n",
       "    <tr>\n",
       "      <th>1</th>\n",
       "      <td>20</td>\n",
       "      <td>3</td>\n",
       "      <td>13</td>\n",
       "      <td>6</td>\n",
       "    </tr>\n",
       "  </tbody>\n",
       "</table>\n",
       "</div>"
      ],
      "text/plain": [
       "   辣条  面包  可乐  烤肠\n",
       "0    14     7     8    10\n",
       "1    20     3    13     6"
      ]
     },
     "execution_count": 64,
     "metadata": {},
     "output_type": "execute_result"
    }
   ],
   "source": [
    "import pandas as pd\n",
    "\n",
    "df = pd.DataFrame({'辣条': [14, 20], '面包': [7, 3], '可乐': [8, 13], '烤肠': [10, 6]})\n",
    "df"
   ]
  },
  {
   "cell_type": "code",
   "execution_count": 57,
   "metadata": {},
   "outputs": [
    {
     "name": "stdout",
     "output_type": "stream",
     "text": [
      "辣条    14\n",
      "面包     7\n",
      "可乐     8\n",
      "烤肠    10\n",
      "Name: 0, dtype: int64\n"
     ]
    }
   ],
   "source": [
    "print(df.loc[0])"
   ]
  },
  {
   "cell_type": "code",
   "execution_count": 61,
   "metadata": {},
   "outputs": [
    {
     "name": "stdout",
     "output_type": "stream",
     "text": [
      "辣条    14\n",
      "面包     7\n",
      "可乐     8\n",
      "烤肠    10\n",
      "Name: 2020-01-01, dtype: int64\n"
     ]
    },
    {
     "data": {
      "text/html": [
       "<div>\n",
       "<style scoped>\n",
       "    .dataframe tbody tr th:only-of-type {\n",
       "        vertical-align: middle;\n",
       "    }\n",
       "\n",
       "    .dataframe tbody tr th {\n",
       "        vertical-align: top;\n",
       "    }\n",
       "\n",
       "    .dataframe thead th {\n",
       "        text-align: right;\n",
       "    }\n",
       "</style>\n",
       "<table border=\"1\" class=\"dataframe\">\n",
       "  <thead>\n",
       "    <tr style=\"text-align: right;\">\n",
       "      <th></th>\n",
       "      <th>辣条</th>\n",
       "      <th>面包</th>\n",
       "      <th>可乐</th>\n",
       "      <th>烤肠</th>\n",
       "    </tr>\n",
       "  </thead>\n",
       "  <tbody>\n",
       "    <tr>\n",
       "      <th>2020-01-01</th>\n",
       "      <td>14</td>\n",
       "      <td>7</td>\n",
       "      <td>8</td>\n",
       "      <td>10</td>\n",
       "    </tr>\n",
       "    <tr>\n",
       "      <th>2020-01-02</th>\n",
       "      <td>20</td>\n",
       "      <td>3</td>\n",
       "      <td>13</td>\n",
       "      <td>6</td>\n",
       "    </tr>\n",
       "  </tbody>\n",
       "</table>\n",
       "</div>"
      ],
      "text/plain": [
       "            辣条  面包  可乐  烤肠\n",
       "2020-01-01    14     7     8    10\n",
       "2020-01-02    20     3    13     6"
      ]
     },
     "execution_count": 61,
     "metadata": {},
     "output_type": "execute_result"
    }
   ],
   "source": [
    "import pandas as pd\n",
    "\n",
    "data = {\n",
    "  '辣条': [14, 20],\n",
    "  '面包': [7, 3],\n",
    "  '可乐': [8, 13],\n",
    "  '烤肠': [10, 6]\n",
    "}\n",
    "df = pd.DataFrame(data, index=['2020-01-01', '2020-01-02'])\n",
    "print(df.loc['2020-01-01'])\n",
    "df"
   ]
  },
  {
   "cell_type": "code",
   "execution_count": 62,
   "metadata": {},
   "outputs": [
    {
     "name": "stdout",
     "output_type": "stream",
     "text": [
      "14\n"
     ]
    }
   ],
   "source": [
    "print(df.loc['2020-01-01', '辣条']) # 不能再用数值索引了"
   ]
  },
  {
   "cell_type": "code",
   "execution_count": 65,
   "metadata": {},
   "outputs": [
    {
     "name": "stdout",
     "output_type": "stream",
     "text": [
      "0    14\n",
      "1    20\n",
      "Name: 辣条, dtype: int64\n",
      "辣条    14\n",
      "面包     7\n",
      "可乐     8\n",
      "Name: 0, dtype: int64\n",
      "   辣条  面包  可乐\n",
      "0    14     7     8\n",
      "1    20     3    13\n"
     ]
    }
   ],
   "source": [
    "# 行分片\n",
    "print(df.loc[0:1, '辣条'])\n",
    "\n",
    "# 列分片\n",
    "print(df.loc[0, '辣条':'可乐'])\n",
    "\n",
    "# 同时分片\n",
    "print(df.loc[0:1, '辣条':'可乐'])"
   ]
  },
  {
   "cell_type": "code",
   "execution_count": 66,
   "metadata": {},
   "outputs": [
    {
     "data": {
      "text/html": [
       "<div>\n",
       "<style scoped>\n",
       "    .dataframe tbody tr th:only-of-type {\n",
       "        vertical-align: middle;\n",
       "    }\n",
       "\n",
       "    .dataframe tbody tr th {\n",
       "        vertical-align: top;\n",
       "    }\n",
       "\n",
       "    .dataframe thead th {\n",
       "        text-align: right;\n",
       "    }\n",
       "</style>\n",
       "<table border=\"1\" class=\"dataframe\">\n",
       "  <thead>\n",
       "    <tr style=\"text-align: right;\">\n",
       "      <th></th>\n",
       "      <th>辣条</th>\n",
       "      <th>面包</th>\n",
       "      <th>可乐</th>\n",
       "      <th>烤肠</th>\n",
       "    </tr>\n",
       "  </thead>\n",
       "  <tbody>\n",
       "    <tr>\n",
       "      <th>1</th>\n",
       "      <td>20</td>\n",
       "      <td>3</td>\n",
       "      <td>13</td>\n",
       "      <td>6</td>\n",
       "    </tr>\n",
       "  </tbody>\n",
       "</table>\n",
       "</div>"
      ],
      "text/plain": [
       "   辣条  面包  可乐  烤肠\n",
       "1    20     3    13     6"
      ]
     },
     "execution_count": 66,
     "metadata": {},
     "output_type": "execute_result"
    }
   ],
   "source": [
    "df.loc[df['辣条'] > 15]"
   ]
  },
  {
   "cell_type": "code",
   "execution_count": 67,
   "metadata": {},
   "outputs": [
    {
     "name": "stdout",
     "output_type": "stream",
     "text": [
      "   辣条  面包\n",
      "1    20     3\n"
     ]
    }
   ],
   "source": [
    "print(df.loc[df['辣条'] > 15, ['辣条', '面包']])"
   ]
  },
  {
   "cell_type": "code",
   "execution_count": 69,
   "metadata": {},
   "outputs": [
    {
     "name": "stdout",
     "output_type": "stream",
     "text": [
      "            辣条\n",
      "2020-01-01    14\n",
      "2020-01-02    20\n",
      "2020-01-03    12\n"
     ]
    }
   ],
   "source": [
    "import pandas as pd\n",
    "\n",
    "data = {\n",
    "  '辣条': [14, 20, 12, 15, 17],\n",
    "  '面包': [7, 3, 8, 3, 9],\n",
    "  '可乐': [8, 13, 23, 12, 19],\n",
    "  '烤肠': [10, 6, 21, 24, 18]\n",
    "}\n",
    "df = pd.DataFrame(data, index=['2020-01-01', '2020-01-02', '2020-01-03', '2020-01-04', '2020-01-05'])\n",
    "print(df.iloc[:3,0:1])  # :3 表示 0、1、2 前三个"
   ]
  },
  {
   "cell_type": "code",
   "execution_count": 70,
   "metadata": {},
   "outputs": [
    {
     "name": "stdout",
     "output_type": "stream",
     "text": [
      "            辣条  面包  可乐  烤肠\n",
      "2020-01-01    14     7     8    10\n",
      "2020-01-02    20     3    13     6\n",
      "2020-01-03    12     8    23    21\n",
      "2020-01-04    15     3    12    24\n",
      "2020-01-05    17     9    19    18\n",
      "0              1     1     1     1\n"
     ]
    }
   ],
   "source": [
    "df.loc[0] = 1  # 第一行都改成 1\n",
    "print(df)"
   ]
  },
  {
   "cell_type": "code",
   "execution_count": 73,
   "metadata": {},
   "outputs": [
    {
     "name": "stdout",
     "output_type": "stream",
     "text": [
      "   辣条  面包  可乐  烤肠\n",
      "0     1     1     1     1\n",
      "1    20     3    13     6\n",
      "2    12     8    23    21\n",
      "3    15     3    12    24\n",
      "4    17     9    19    18\n",
      "   辣条  面包  可乐  烤肠\n",
      "0     1     2     3     4\n",
      "1    20     3    13     6\n",
      "2    12     8    23    21\n",
      "3    15     3    12    24\n",
      "4    17     9    19    18\n"
     ]
    }
   ],
   "source": [
    "import pandas as pd\n",
    "\n",
    "data = {\n",
    "  '辣条': [14, 20, 12, 15, 17],\n",
    "  '面包': [7, 3, 8, 3, 9],\n",
    "  '可乐': [8, 13, 23, 12, 19],\n",
    "  '烤肠': [10, 6, 21, 24, 18]\n",
    "}\n",
    "df = pd.DataFrame(data)\n",
    "df.loc[0] = 1  # 第一行都改成 1\n",
    "print(df)\n",
    "df.loc[0] = [1, 2, 3, 4] # 按顺序修改成 1 2 3 4\n",
    "print(df)"
   ]
  },
  {
   "cell_type": "code",
   "execution_count": 74,
   "metadata": {},
   "outputs": [
    {
     "name": "stdout",
     "output_type": "stream",
     "text": [
      "   辣条  面包  可乐  烤肠\n",
      "0     1     2     3     4\n",
      "1    20     3    13     6\n",
      "2     1     1     1     1\n",
      "3     1     2     3     4\n",
      "4    17     9    19    18\n"
     ]
    }
   ],
   "source": [
    "# 添加第三行，全为 1\n",
    "df.loc[2] = 1\n",
    "# 添加第四行，分别为 1 2 3 4\n",
    "df.loc[3] = [1, 2, 3, 4]\n",
    "print(df)"
   ]
  },
  {
   "cell_type": "code",
   "execution_count": 75,
   "metadata": {},
   "outputs": [
    {
     "name": "stdout",
     "output_type": "stream",
     "text": [
      "   辣条  面包  可乐  烤肠\n",
      "1    20     3    13     6\n",
      "2     1     1     1     1\n",
      "3     1     2     3     4\n",
      "4    17     9    19    18\n"
     ]
    }
   ],
   "source": [
    "df.drop(0, inplace=True)  # 删除第一行\n",
    "print(df)\n",
    "# 或者 print(df.drop(0))"
   ]
  },
  {
   "cell_type": "code",
   "execution_count": 82,
   "metadata": {},
   "outputs": [
    {
     "data": {
      "text/plain": [
       "<pandas.core.groupby.generic.DataFrameGroupBy object at 0x000002868A303080>"
      ]
     },
     "execution_count": 82,
     "metadata": {},
     "output_type": "execute_result"
    }
   ],
   "source": [
    "df = pd.read_csv('2019年销售数据1.csv')\n",
    "df.groupby('团队')"
   ]
  },
  {
   "cell_type": "code",
   "execution_count": 83,
   "metadata": {},
   "outputs": [
    {
     "data": {
      "text/html": [
       "<div>\n",
       "<style scoped>\n",
       "    .dataframe tbody tr th:only-of-type {\n",
       "        vertical-align: middle;\n",
       "    }\n",
       "\n",
       "    .dataframe tbody tr th {\n",
       "        vertical-align: top;\n",
       "    }\n",
       "\n",
       "    .dataframe thead th {\n",
       "        text-align: right;\n",
       "    }\n",
       "</style>\n",
       "<table border=\"1\" class=\"dataframe\">\n",
       "  <thead>\n",
       "    <tr style=\"text-align: right;\">\n",
       "      <th></th>\n",
       "      <th>第一季度</th>\n",
       "      <th>第二季度</th>\n",
       "      <th>第三季度</th>\n",
       "      <th>第四季度</th>\n",
       "      <th>总和</th>\n",
       "    </tr>\n",
       "    <tr>\n",
       "      <th>团队</th>\n",
       "      <th></th>\n",
       "      <th></th>\n",
       "      <th></th>\n",
       "      <th></th>\n",
       "      <th></th>\n",
       "    </tr>\n",
       "  </thead>\n",
       "  <tbody>\n",
       "    <tr>\n",
       "      <th>A</th>\n",
       "      <td>25720</td>\n",
       "      <td>28139</td>\n",
       "      <td>24512</td>\n",
       "      <td>22206</td>\n",
       "      <td>100577</td>\n",
       "    </tr>\n",
       "    <tr>\n",
       "      <th>B</th>\n",
       "      <td>18059</td>\n",
       "      <td>17369</td>\n",
       "      <td>19791</td>\n",
       "      <td>19532</td>\n",
       "      <td>74751</td>\n",
       "    </tr>\n",
       "    <tr>\n",
       "      <th>C</th>\n",
       "      <td>14770</td>\n",
       "      <td>17239</td>\n",
       "      <td>19409</td>\n",
       "      <td>20353</td>\n",
       "      <td>71771</td>\n",
       "    </tr>\n",
       "    <tr>\n",
       "      <th>D</th>\n",
       "      <td>20834</td>\n",
       "      <td>22298</td>\n",
       "      <td>22474</td>\n",
       "      <td>23603</td>\n",
       "      <td>89209</td>\n",
       "    </tr>\n",
       "  </tbody>\n",
       "</table>\n",
       "</div>"
      ],
      "text/plain": [
       "      第一季度  第二季度  第三季度  第四季度    总和\n",
       "团队                                                \n",
       "A        25720     28139     24512     22206  100577\n",
       "B        18059     17369     19791     19532   74751\n",
       "C        14770     17239     19409     20353   71771\n",
       "D        20834     22298     22474     23603   89209"
      ]
     },
     "execution_count": 83,
     "metadata": {},
     "output_type": "execute_result"
    }
   ],
   "source": [
    "df.groupby('团队').sum()"
   ]
  },
  {
   "cell_type": "code",
   "execution_count": 84,
   "metadata": {},
   "outputs": [
    {
     "name": "stdout",
     "output_type": "stream",
     "text": [
      "      第一季度  第二季度  第三季度  第四季度    总和\n",
      "团队                                                \n",
      "A        25720     28139     24512     22206  100577\n",
      "D        20834     22298     22474     23603   89209\n",
      "B        18059     17369     19791     19532   74751\n",
      "C        14770     17239     19409     20353   71771\n"
     ]
    }
   ],
   "source": [
    "sum_by_team = df.groupby('团队').sum()\n",
    "sum_by_team.sort_values('总和', ascending=False, inplace=True)\n",
    "print(sum_by_team)"
   ]
  },
  {
   "cell_type": "code",
   "execution_count": 85,
   "metadata": {},
   "outputs": [
    {
     "name": "stdout",
     "output_type": "stream",
     "text": [
      "      第一季度  第二季度  第三季度  第四季度     总和\n",
      "团队                                                 \n",
      "A       5144.0    5627.8    4902.4    4441.2  20115.4\n",
      "B       3611.8    3473.8    3958.2    3906.4  14950.2\n",
      "C       2954.0    3447.8    3881.8    4070.6  14354.2\n",
      "D       4166.8    4459.6    4494.8    4720.6  17841.8\n"
     ]
    }
   ],
   "source": [
    "print(df.groupby('团队').mean())"
   ]
  },
  {
   "cell_type": "code",
   "execution_count": 87,
   "metadata": {},
   "outputs": [
    {
     "name": "stdout",
     "output_type": "stream",
     "text": [
      "      第一季度  第二季度  第三季度  第四季度    总和\n",
      "团队                                                \n",
      "A        25720     28139     24512     22206  100577\n"
     ]
    }
   ],
   "source": [
    "import pandas as pd\n",
    "\n",
    "pd.set_option('display.unicode.ambiguous_as_wide', True)\n",
    "pd.set_option('display.unicode.east_asian_width', True)\n",
    "\n",
    "df = pd.read_csv('2019年销售数据1.csv')\n",
    "sum_by_team=df.groupby('团队').sum()\n",
    "sum_by_team.sort_values('总和',ascending=False,inplace=True)\n",
    "\n",
    "print(sum_by_team.head(1))"
   ]
  },
  {
   "cell_type": "code",
   "execution_count": 88,
   "metadata": {},
   "outputs": [
    {
     "name": "stdout",
     "output_type": "stream",
     "text": [
      "<class 'pandas.core.frame.DataFrame'>\n"
     ]
    }
   ],
   "source": [
    "import pandas as pd\n",
    "\n",
    "df_a = pd.read_csv('2019年团队A销售数据.csv')\n",
    "df_b = pd.read_csv('2019年团队B销售数据.csv')\n",
    "df_c = pd.read_csv('2019年团队C销售数据.csv')\n",
    "df_d = pd.read_csv('2019年团队D销售数据.csv')\n",
    "\n",
    "df = pd.concat([df_a, df_b, df_c, df_d])\n",
    "print(type(df))\n",
    "# 输出：<class 'pandas.core.frame.DataFrame'>"
   ]
  },
  {
   "cell_type": "code",
   "execution_count": 89,
   "metadata": {},
   "outputs": [
    {
     "data": {
      "text/html": [
       "<div>\n",
       "<style scoped>\n",
       "    .dataframe tbody tr th:only-of-type {\n",
       "        vertical-align: middle;\n",
       "    }\n",
       "\n",
       "    .dataframe tbody tr th {\n",
       "        vertical-align: top;\n",
       "    }\n",
       "\n",
       "    .dataframe thead th {\n",
       "        text-align: right;\n",
       "    }\n",
       "</style>\n",
       "<table border=\"1\" class=\"dataframe\">\n",
       "  <thead>\n",
       "    <tr style=\"text-align: right;\">\n",
       "      <th></th>\n",
       "      <th>销售员</th>\n",
       "      <th>团队</th>\n",
       "      <th>第一季度</th>\n",
       "      <th>第二季度</th>\n",
       "      <th>第三季度</th>\n",
       "      <th>第四季度</th>\n",
       "    </tr>\n",
       "  </thead>\n",
       "  <tbody>\n",
       "    <tr>\n",
       "      <th>0</th>\n",
       "      <td>刘一</td>\n",
       "      <td>A</td>\n",
       "      <td>6324</td>\n",
       "      <td>5621</td>\n",
       "      <td>6069</td>\n",
       "      <td>6005</td>\n",
       "    </tr>\n",
       "    <tr>\n",
       "      <th>1</th>\n",
       "      <td>王五</td>\n",
       "      <td>A</td>\n",
       "      <td>4830</td>\n",
       "      <td>5763</td>\n",
       "      <td>2923</td>\n",
       "      <td>4033</td>\n",
       "    </tr>\n",
       "    <tr>\n",
       "      <th>2</th>\n",
       "      <td>吴九</td>\n",
       "      <td>A</td>\n",
       "      <td>2769</td>\n",
       "      <td>5440</td>\n",
       "      <td>5724</td>\n",
       "      <td>4338</td>\n",
       "    </tr>\n",
       "    <tr>\n",
       "      <th>3</th>\n",
       "      <td>毕十三</td>\n",
       "      <td>A</td>\n",
       "      <td>4873</td>\n",
       "      <td>5403</td>\n",
       "      <td>3889</td>\n",
       "      <td>2567</td>\n",
       "    </tr>\n",
       "    <tr>\n",
       "      <th>4</th>\n",
       "      <td>钱十七</td>\n",
       "      <td>A</td>\n",
       "      <td>6924</td>\n",
       "      <td>5912</td>\n",
       "      <td>5907</td>\n",
       "      <td>5263</td>\n",
       "    </tr>\n",
       "    <tr>\n",
       "      <th>0</th>\n",
       "      <td>陈二</td>\n",
       "      <td>B</td>\n",
       "      <td>4508</td>\n",
       "      <td>3391</td>\n",
       "      <td>5933</td>\n",
       "      <td>5002</td>\n",
       "    </tr>\n",
       "    <tr>\n",
       "      <th>1</th>\n",
       "      <td>赵六</td>\n",
       "      <td>B</td>\n",
       "      <td>2545</td>\n",
       "      <td>3747</td>\n",
       "      <td>2232</td>\n",
       "      <td>3472</td>\n",
       "    </tr>\n",
       "    <tr>\n",
       "      <th>2</th>\n",
       "      <td>郑十</td>\n",
       "      <td>B</td>\n",
       "      <td>4935</td>\n",
       "      <td>2617</td>\n",
       "      <td>2424</td>\n",
       "      <td>3833</td>\n",
       "    </tr>\n",
       "    <tr>\n",
       "      <th>3</th>\n",
       "      <td>朱十四</td>\n",
       "      <td>B</td>\n",
       "      <td>3338</td>\n",
       "      <td>4965</td>\n",
       "      <td>5800</td>\n",
       "      <td>4061</td>\n",
       "    </tr>\n",
       "    <tr>\n",
       "      <th>4</th>\n",
       "      <td>沈十八</td>\n",
       "      <td>B</td>\n",
       "      <td>2733</td>\n",
       "      <td>2649</td>\n",
       "      <td>3402</td>\n",
       "      <td>3164</td>\n",
       "    </tr>\n",
       "    <tr>\n",
       "      <th>0</th>\n",
       "      <td>张三</td>\n",
       "      <td>C</td>\n",
       "      <td>3426</td>\n",
       "      <td>3549</td>\n",
       "      <td>5872</td>\n",
       "      <td>5759</td>\n",
       "    </tr>\n",
       "    <tr>\n",
       "      <th>1</th>\n",
       "      <td>孙七</td>\n",
       "      <td>C</td>\n",
       "      <td>3964</td>\n",
       "      <td>5053</td>\n",
       "      <td>6499</td>\n",
       "      <td>5056</td>\n",
       "    </tr>\n",
       "    <tr>\n",
       "      <th>2</th>\n",
       "      <td>冯十一</td>\n",
       "      <td>C</td>\n",
       "      <td>4360</td>\n",
       "      <td>4846</td>\n",
       "      <td>4355</td>\n",
       "      <td>5182</td>\n",
       "    </tr>\n",
       "    <tr>\n",
       "      <th>3</th>\n",
       "      <td>秦十五</td>\n",
       "      <td>C</td>\n",
       "      <td>1501</td>\n",
       "      <td>2238</td>\n",
       "      <td>1272</td>\n",
       "      <td>2265</td>\n",
       "    </tr>\n",
       "    <tr>\n",
       "      <th>4</th>\n",
       "      <td>韩十九</td>\n",
       "      <td>C</td>\n",
       "      <td>1519</td>\n",
       "      <td>1553</td>\n",
       "      <td>1411</td>\n",
       "      <td>2091</td>\n",
       "    </tr>\n",
       "    <tr>\n",
       "      <th>0</th>\n",
       "      <td>李四</td>\n",
       "      <td>D</td>\n",
       "      <td>2104</td>\n",
       "      <td>3939</td>\n",
       "      <td>3285</td>\n",
       "      <td>3461</td>\n",
       "    </tr>\n",
       "    <tr>\n",
       "      <th>1</th>\n",
       "      <td>周八</td>\n",
       "      <td>D</td>\n",
       "      <td>5584</td>\n",
       "      <td>6176</td>\n",
       "      <td>5405</td>\n",
       "      <td>6683</td>\n",
       "    </tr>\n",
       "    <tr>\n",
       "      <th>2</th>\n",
       "      <td>蒋十二</td>\n",
       "      <td>D</td>\n",
       "      <td>4509</td>\n",
       "      <td>3673</td>\n",
       "      <td>4717</td>\n",
       "      <td>3489</td>\n",
       "    </tr>\n",
       "    <tr>\n",
       "      <th>3</th>\n",
       "      <td>许十六</td>\n",
       "      <td>D</td>\n",
       "      <td>5369</td>\n",
       "      <td>3420</td>\n",
       "      <td>5169</td>\n",
       "      <td>5790</td>\n",
       "    </tr>\n",
       "    <tr>\n",
       "      <th>4</th>\n",
       "      <td>杨二十</td>\n",
       "      <td>D</td>\n",
       "      <td>3268</td>\n",
       "      <td>5090</td>\n",
       "      <td>3898</td>\n",
       "      <td>4180</td>\n",
       "    </tr>\n",
       "  </tbody>\n",
       "</table>\n",
       "</div>"
      ],
      "text/plain": [
       "   销售员 团队  第一季度  第二季度  第三季度  第四季度\n",
       "0    刘一    A      6324      5621      6069      6005\n",
       "1    王五    A      4830      5763      2923      4033\n",
       "2    吴九    A      2769      5440      5724      4338\n",
       "3  毕十三    A      4873      5403      3889      2567\n",
       "4  钱十七    A      6924      5912      5907      5263\n",
       "0    陈二    B      4508      3391      5933      5002\n",
       "1    赵六    B      2545      3747      2232      3472\n",
       "2    郑十    B      4935      2617      2424      3833\n",
       "3  朱十四    B      3338      4965      5800      4061\n",
       "4  沈十八    B      2733      2649      3402      3164\n",
       "0    张三    C      3426      3549      5872      5759\n",
       "1    孙七    C      3964      5053      6499      5056\n",
       "2  冯十一    C      4360      4846      4355      5182\n",
       "3  秦十五    C      1501      2238      1272      2265\n",
       "4  韩十九    C      1519      1553      1411      2091\n",
       "0    李四    D      2104      3939      3285      3461\n",
       "1    周八    D      5584      6176      5405      6683\n",
       "2  蒋十二    D      4509      3673      4717      3489\n",
       "3  许十六    D      5369      3420      5169      5790\n",
       "4  杨二十    D      3268      5090      3898      4180"
      ]
     },
     "execution_count": 89,
     "metadata": {},
     "output_type": "execute_result"
    }
   ],
   "source": [
    "df"
   ]
  },
  {
   "cell_type": "code",
   "execution_count": 91,
   "metadata": {},
   "outputs": [
    {
     "name": "stdout",
     "output_type": "stream",
     "text": [
      "   销售员  第一季度  第二季度  第三季度  第四季度\n",
      "0    王五      4830      5763      2923      4033\n",
      "1    吴九      2769      5440      5724      4338\n",
      "2  毕十三      4873      5403      3889      2567\n",
      "3  钱十七      6924      5912      5907      5263\n"
     ]
    }
   ],
   "source": [
    "df1 = pd.read_csv('2019年团队A上半年销售数据.csv')\n",
    "df2 = pd.read_csv('2019年团队A下半年销售数据.csv')\n",
    "df = pd.merge(df1, df2)\n",
    "print(df)"
   ]
  },
  {
   "cell_type": "markdown",
   "metadata": {},
   "source": [
    "可以看到，合并后数据被剔除了，这其实是参数 how 导致的。参数 how 指定了合并的方式，总共有 left、right、outer 和 inner 四种方式可选，默认为 inner"
   ]
  },
  {
   "cell_type": "code",
   "execution_count": 92,
   "metadata": {},
   "outputs": [
    {
     "name": "stdout",
     "output_type": "stream",
     "text": [
      "<class 'pandas.core.frame.DataFrame'>\n",
      "RangeIndex: 250 entries, 0 to 249\n",
      "Data columns (total 7 columns):\n",
      " #   Column  Non-Null Count  Dtype  \n",
      "---  ------  --------------  -----  \n",
      " 0   书名      250 non-null    object \n",
      " 1   评分      250 non-null    float64\n",
      " 2   作者      250 non-null    object \n",
      " 3   出版社     250 non-null    object \n",
      " 4   出版日期    250 non-null    object \n",
      " 5   价格      250 non-null    float64\n",
      " 6   链接      250 non-null    object \n",
      "dtypes: float64(2), object(5)\n",
      "memory usage: 13.8+ KB\n",
      "None\n",
      "=============================\n",
      "             评分        价格\n",
      "count  250.000000  250.000000\n",
      "mean     8.621600   32.933440\n",
      "std      0.362739   30.665026\n",
      "min      8.000000    0.250000\n",
      "25%      8.300000   19.000000\n",
      "50%      8.600000   25.000000\n",
      "75%      8.900000   37.700000\n",
      "max      9.600000  299.000000\n"
     ]
    }
   ],
   "source": [
    "import pandas as pd\n",
    "\n",
    "pd.set_option('display.unicode.ambiguous_as_wide', True)\n",
    "pd.set_option('display.unicode.east_asian_width', True)\n",
    "\n",
    "df = pd.read_csv('https://media-zip1.baydn.com/storage_media_zip/srfeae/dc3fa2c70032c4f4dfd7d878d79eb4da.41767dfc9dd1646b2a9f71527db2125f.csv')\n",
    "df['评分'] = df['评分'].str.replace('分', '').astype('float')\n",
    "df['评分'].fillna(df['评分'].mean().round(1), inplace=True)\n",
    "\n",
    "print(df.info())\n",
    "print('=============================')\n",
    "print(df.describe())\n",
    "\n",
    "df.to_csv('豆瓣图书Top250修正.csv', index=False)"
   ]
  },
  {
   "cell_type": "code",
   "execution_count": null,
   "metadata": {},
   "outputs": [],
   "source": [
    "df.dropna(thresh=5) # 非空值数量小于 5 个时删除这一行，代码就可以这样写：\n",
    "df.dropna(how='all') # 来控制当这一行数据都为 NaN 时才删除这一行。how 默认为 any，表示只要有一个 NaN 就会删除这一行。\n",
    "dropna() #方法的作用是删除所有包含 NaN 的行，执行后上表中数据缺失的那 2 行数据就会被删除。"
   ]
  },
  {
   "cell_type": "code",
   "execution_count": 93,
   "metadata": {},
   "outputs": [
    {
     "name": "stdout",
     "output_type": "stream",
     "text": [
      "  用户名  交易金额\n",
      "0   刘一      25.8\n",
      "1   陈二      15.5\n",
      "2   刘一      56.3\n",
      "3   张三      46.2\n",
      "0   刘一      25.8\n",
      "1   陈二      15.5\n",
      "2   刘一      56.3\n",
      "3   张三      46.2\n"
     ]
    }
   ],
   "source": [
    "import pandas as pd\n",
    "\n",
    "df = pd.DataFrame({'用户名': ['刘一', '陈二', '刘一', '张三'], '交易金额': [25.8, 15.5, 56.3, 46.2]})\n",
    "repeat = pd.concat([df, df])\n",
    "print(repeat)"
   ]
  },
  {
   "cell_type": "code",
   "execution_count": 94,
   "metadata": {},
   "outputs": [
    {
     "name": "stdout",
     "output_type": "stream",
     "text": [
      "  用户名  交易金额\n",
      "0   刘一      25.8\n",
      "1   陈二      15.5\n",
      "2   刘一      56.3\n",
      "3   张三      46.2\n"
     ]
    }
   ],
   "source": [
    "print(repeat.drop_duplicates())"
   ]
  },
  {
   "cell_type": "markdown",
   "metadata": {},
   "source": [
    "subset 参数指定按列去重"
   ]
  },
  {
   "cell_type": "code",
   "execution_count": 95,
   "metadata": {},
   "outputs": [
    {
     "name": "stdout",
     "output_type": "stream",
     "text": [
      "  用户名  交易金额\n",
      "0   刘一      25.8\n",
      "1   陈二      15.5\n",
      "3   张三      46.2\n"
     ]
    }
   ],
   "source": [
    "print(repeat.drop_duplicates(subset=['用户名']))"
   ]
  },
  {
   "cell_type": "markdown",
   "metadata": {},
   "source": [
    "可以看到，按照用户名进行去重刘一的两条记录只剩一条了。去重默认是保留第一条不重复的数据，如果你想保留最后一条不重复的数据，可以传入 keep='last'。"
   ]
  },
  {
   "cell_type": "code",
   "execution_count": 96,
   "metadata": {},
   "outputs": [
    {
     "name": "stdout",
     "output_type": "stream",
     "text": [
      "  用户名  交易金额\n",
      "1   陈二      15.5\n",
      "2   刘一      56.3\n",
      "3   张三      46.2\n"
     ]
    }
   ],
   "source": [
    "print(repeat.drop_duplicates(subset=['用户名'], keep='last'))"
   ]
  },
  {
   "cell_type": "code",
   "execution_count": 97,
   "metadata": {},
   "outputs": [
    {
     "name": "stdout",
     "output_type": "stream",
     "text": [
      "['刘一' '陈二' '张三']\n",
      "3\n"
     ]
    }
   ],
   "source": [
    "print(repeat['用户名'].unique())\n",
    "# 输出：['刘一' '陈二' '张三']\n",
    "\n",
    "print(len(repeat['用户名'].unique()))\n",
    "# 输出：3"
   ]
  },
  {
   "cell_type": "markdown",
   "metadata": {},
   "source": [
    "不重复的个数统计"
   ]
  },
  {
   "cell_type": "code",
   "execution_count": 98,
   "metadata": {},
   "outputs": [
    {
     "name": "stdout",
     "output_type": "stream",
     "text": [
      "3\n"
     ]
    }
   ],
   "source": [
    "print(repeat['用户名'].nunique())\n",
    "# 输出：3"
   ]
  },
  {
   "cell_type": "code",
   "execution_count": 123,
   "metadata": {},
   "outputs": [],
   "source": [
    "df = pd.read_csv('https://media-zip1.baydn.com/storage_media_zip/srfeae/dc3fa2c70032c4f4dfd7d878d79eb4da.41767dfc9dd1646b2a9f71527db2125f.csv')\n",
    "\n",
    "def format_price(x):\n",
    "  return float(x.replace('元', ''))\n",
    "\n",
    "# 报错： AttributeError: 'float' object has no attribute 'replace'\n",
    "# 这是因为原字段中不全为字符串，还存在数值型记录\n",
    "df['价格'] = df['价格'].astype(str)\n",
    "df['价格'] = df['价格'].apply(format_price)\n"
   ]
  },
  {
   "cell_type": "code",
   "execution_count": 130,
   "metadata": {},
   "outputs": [],
   "source": [
    "df['价格'].dtypes\n",
    "df['价格'] = df['价格'].astype(str)\n",
    "df['价格'] = df['价格'].apply(lambda x: float(x.replace('元', '')))"
   ]
  },
  {
   "cell_type": "code",
   "execution_count": 132,
   "metadata": {},
   "outputs": [],
   "source": [
    "format_price = lambda x: float(x.replace('元', ''))\n",
    "df['价格'] = df['价格'].astype(str)\n",
    "df['价格'] = df['价格'].apply(format_price)"
   ]
  }
 ],
 "metadata": {
  "kernelspec": {
   "display_name": "Python 3.6.13 ('tensorflow')",
   "language": "python",
   "name": "python3"
  },
  "language_info": {
   "codemirror_mode": {
    "name": "ipython",
    "version": 3
   },
   "file_extension": ".py",
   "mimetype": "text/x-python",
   "name": "python",
   "nbconvert_exporter": "python",
   "pygments_lexer": "ipython3",
   "version": "3.6.13"
  },
  "orig_nbformat": 4,
  "vscode": {
   "interpreter": {
    "hash": "74973848420d399980c11f16a640d467c2e8f2266629d1ddb4e03d028dbfee73"
   }
  }
 },
 "nbformat": 4,
 "nbformat_minor": 2
}
