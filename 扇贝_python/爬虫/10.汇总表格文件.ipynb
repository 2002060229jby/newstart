{
 "cells": [
  {
   "cell_type": "markdown",
   "metadata": {},
   "source": [
    "合并多个表格文件"
   ]
  },
  {
   "cell_type": "code",
   "execution_count": 6,
   "metadata": {},
   "outputs": [],
   "source": [
    "import csv\n",
    "\n",
    "filenames = ['2019-12-%02d-销售数据.csv' % (i + 1) for i in range(5)]\n",
    "\n",
    "with open('12月销售数据汇总.csv', 'w', newline='') as file:\n",
    "  csv_writer = csv.writer(file)\n",
    "\n",
    "  for filename in filenames:\n",
    "    with open(filename, newline='', encoding='utf-8') as file:\n",
    "      csv_reader = csv.reader(file)\n",
    "      if filename == filenames[0]:  # 第一个文件保留表头\n",
    "        rows = csv_reader\n",
    "      else:\n",
    "        rows = list(csv_reader)[1:]\n",
    "      csv_writer.writerows(rows)"
   ]
  },
  {
   "cell_type": "code",
   "execution_count": null,
   "metadata": {},
   "outputs": [],
   "source": [
    "'''\n",
    "UnicodeDecodeError: 'gbk' codec can't decode byte 0xae in position 18: illegal multibyte sequence\n",
    "'''\n",
    "# 此种错误，可能是要处理的字符串本身不是gbk编码，但是却以gbk编码去解码 。比如，字符串本身是utf-8的，但是却用gbk去解码utf-8的字符串，所以结果不用说，则必然出错。"
   ]
  },
  {
   "cell_type": "markdown",
   "metadata": {},
   "source": [
    "计算购买转化率（买家数/访客数）和客单价（交易额/买家数）"
   ]
  },
  {
   "cell_type": "code",
   "execution_count": 8,
   "metadata": {},
   "outputs": [],
   "source": [
    "with open('12月销售计算数据汇总.csv', 'w', newline='') as file:\n",
    "  csv_writer = csv.writer(file)\n",
    "\n",
    "  with open('12月销售数据汇总.csv', newline='') as file:\n",
    "    csv_reader = csv.reader(file)\n",
    "\n",
    "    for index, row in enumerate(csv_reader):\n",
    "      if index == 0:  # 第一个是表头\n",
    "        csv_writer.writerow(row + ['购买转化率', '客单价'])  # 添加两个新表头\n",
    "      else:\n",
    "        visitors = int(row[2])  # 访客数\n",
    "        buyers = int(row[3])  # 买家数\n",
    "        gmv = int(row[4])  # 交易额\n",
    "        sale_rate = buyers / visitors if visitors else 0  # 购买转化率\n",
    "        pct = gmv / buyers if buyers else 0  # 客单价\n",
    "        csv_writer.writerow(row + [sale_rate, pct])  # 添加购买转化率和客单价"
   ]
  },
  {
   "cell_type": "markdown",
   "metadata": {},
   "source": [
    "Excel 文件的实现方式"
   ]
  },
  {
   "cell_type": "code",
   "execution_count": null,
   "metadata": {},
   "outputs": [],
   "source": [
    "from openpyxl import Workbook, load_workbook\n",
    "\n",
    "filenames = ['2019-12-%02d-销售数据.xlsx' % (i + 1) for i in range(31)]\n",
    "\n",
    "total_wb = Workbook()\n",
    "# 选择默认的工作表\n",
    "total_sheet = total_wb.active\n",
    "# 给工作表重命名\n",
    "total_sheet.title = '销量数据'\n",
    "\n",
    "for filename in filenames:\n",
    "  wb = load_workbook(filename)\n",
    "  sheet = wb.active\n",
    "  for index, row in enumerate(sheet.values):\n",
    "    if filename != filenames[0] and index == 0:  # 跳过非第一个文件的表头\n",
    "      continue\n",
    "    total_sheet.append(row)\n",
    "\n",
    "total_wb.save('12月销售数据汇总.xlsx')\n",
    "\n",
    "clac_wb = Workbook()\n",
    "clac_sheet = clac_wb.active\n",
    "clac_sheet.title = '销量数据'\n",
    "\n",
    "wb = load_workbook('12月销售数据汇总.xlsx')\n",
    "sheet = wb.active\n",
    "\n",
    "for index, row in enumerate(sheet.values):\n",
    "  if index == 0:  # 第一个是表头\n",
    "    clac_sheet.append(row + ('购买转化率', '客单价'))  # 添加两个新表头\n",
    "  else:\n",
    "    visitors = int(row[2])  # 访客数\n",
    "    buyers = int(row[3])  # 买家数\n",
    "    gmv = int(row[4])  # 交易额\n",
    "    sale_rate = buyers / visitors if visitors else 0  # 购买转化率\n",
    "    pct = gmv / buyers if buyers else 0  # 客单价\n",
    "    clac_sheet.append(row + (sale_rate, pct))  # 添加购买转化率和客单价\n",
    "\n",
    "clac_wb.save('12月销售计算数据汇总.xlsx')"
   ]
  },
  {
   "cell_type": "markdown",
   "metadata": {},
   "source": [
    "发送邮件"
   ]
  },
  {
   "cell_type": "markdown",
   "metadata": {},
   "source": [
    "Python 可以帮我们发邮件吗？当然可以！借助强大的第三方模块——yagmail，三行代码即可发送一封邮件"
   ]
  },
  {
   "cell_type": "code",
   "execution_count": 11,
   "metadata": {},
   "outputs": [
    {
     "data": {
      "text/plain": [
       "{}"
      ]
     },
     "execution_count": 11,
     "metadata": {},
     "output_type": "execute_result"
    }
   ],
   "source": [
    "import yagmail\n",
    "\n",
    "yag = yagmail.SMTP(user='2690528565@qq.com', password='zvjmewcvznbddhee', host='smtp.qq.com')\n",
    "yag.send(to=['2690528565@qq.com'], subject='Python 发送邮件', contents='人生苦短，我用 Python')"
   ]
  },
  {
   "cell_type": "code",
   "execution_count": 12,
   "metadata": {},
   "outputs": [],
   "source": [
    "# !pip install yagmail"
   ]
  },
  {
   "cell_type": "code",
   "execution_count": null,
   "metadata": {},
   "outputs": [],
   "source": []
  }
 ],
 "metadata": {
  "kernelspec": {
   "display_name": "Python 3.6.13 ('tensorflow')",
   "language": "python",
   "name": "python3"
  },
  "language_info": {
   "codemirror_mode": {
    "name": "ipython",
    "version": 3
   },
   "file_extension": ".py",
   "mimetype": "text/x-python",
   "name": "python",
   "nbconvert_exporter": "python",
   "pygments_lexer": "ipython3",
   "version": "3.6.13"
  },
  "orig_nbformat": 4,
  "vscode": {
   "interpreter": {
    "hash": "74973848420d399980c11f16a640d467c2e8f2266629d1ddb4e03d028dbfee73"
   }
  }
 },
 "nbformat": 4,
 "nbformat_minor": 2
}
