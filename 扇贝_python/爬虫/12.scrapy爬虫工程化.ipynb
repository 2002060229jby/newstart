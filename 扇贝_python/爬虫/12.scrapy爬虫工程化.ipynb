{
 "cells": [
  {
   "cell_type": "code",
   "execution_count": 2,
   "metadata": {},
   "outputs": [
    {
     "name": "stdout",
     "output_type": "stream",
     "text": [
      "Looking in indexes: https://pypi.doubanio.com/simple/\n",
      "Requirement already satisfied: scrapy in d:\\download\\appgallery\\anaconda\\envs\\tensorflow\\lib\\site-packages (2.6.1)\n",
      "Requirement already satisfied: pyOpenSSL>=16.2.0 in d:\\download\\appgallery\\anaconda\\envs\\tensorflow\\lib\\site-packages (from scrapy) (21.0.0)\n",
      "Requirement already satisfied: queuelib>=1.4.2 in d:\\download\\appgallery\\anaconda\\envs\\tensorflow\\lib\\site-packages (from scrapy) (1.6.2)\n",
      "Requirement already satisfied: tldextract in d:\\download\\appgallery\\anaconda\\envs\\tensorflow\\lib\\site-packages (from scrapy) (3.1.2)\n",
      "Requirement already satisfied: parsel>=1.5.0 in d:\\download\\appgallery\\anaconda\\envs\\tensorflow\\lib\\site-packages (from scrapy) (1.6.0)\n",
      "Requirement already satisfied: cssselect>=0.9.1 in d:\\download\\appgallery\\anaconda\\envs\\tensorflow\\lib\\site-packages (from scrapy) (1.1.0)\n",
      "Requirement already satisfied: service-identity>=16.0.0 in d:\\download\\appgallery\\anaconda\\envs\\tensorflow\\lib\\site-packages (from scrapy) (21.1.0)\n",
      "Requirement already satisfied: Twisted>=17.9.0 in d:\\download\\appgallery\\anaconda\\envs\\tensorflow\\lib\\site-packages (from scrapy) (22.4.0)\n",
      "Requirement already satisfied: zope.interface>=4.1.3 in d:\\download\\appgallery\\anaconda\\envs\\tensorflow\\lib\\site-packages (from scrapy) (5.4.0)\n",
      "Requirement already satisfied: cryptography>=2.0 in d:\\download\\appgallery\\anaconda\\envs\\tensorflow\\lib\\site-packages (from scrapy) (35.0.0)\n",
      "Requirement already satisfied: itemadapter>=0.1.0 in d:\\download\\appgallery\\anaconda\\envs\\tensorflow\\lib\\site-packages (from scrapy) (0.6.0)\n",
      "Requirement already satisfied: w3lib>=1.17.0 in d:\\download\\appgallery\\anaconda\\envs\\tensorflow\\lib\\site-packages (from scrapy) (1.22.0)\n",
      "Requirement already satisfied: itemloaders>=1.0.1 in d:\\download\\appgallery\\anaconda\\envs\\tensorflow\\lib\\site-packages (from scrapy) (1.0.4)\n",
      "Requirement already satisfied: protego>=0.1.15 in d:\\download\\appgallery\\anaconda\\envs\\tensorflow\\lib\\site-packages (from scrapy) (0.2.1)\n",
      "Requirement already satisfied: lxml>=3.5.0 in d:\\download\\appgallery\\anaconda\\envs\\tensorflow\\lib\\site-packages (from scrapy) (4.9.0)\n",
      "Requirement already satisfied: PyDispatcher>=2.0.5 in d:\\download\\appgallery\\anaconda\\envs\\tensorflow\\lib\\site-packages (from scrapy) (2.0.5)\n",
      "Requirement already satisfied: setuptools in d:\\download\\appgallery\\anaconda\\envs\\tensorflow\\lib\\site-packages (from scrapy) (58.0.4)\n",
      "Requirement already satisfied: cffi>=1.12 in d:\\download\\appgallery\\anaconda\\envs\\tensorflow\\lib\\site-packages (from cryptography>=2.0->scrapy) (1.14.6)\n",
      "Requirement already satisfied: jmespath>=0.9.5 in d:\\download\\appgallery\\anaconda\\envs\\tensorflow\\lib\\site-packages (from itemloaders>=1.0.1->scrapy) (0.10.0)\n",
      "Requirement already satisfied: six>=1.6.0 in d:\\download\\appgallery\\anaconda\\envs\\tensorflow\\lib\\site-packages (from parsel>=1.5.0->scrapy) (1.16.0)\n",
      "Requirement already satisfied: pyasn1-modules in d:\\download\\appgallery\\anaconda\\envs\\tensorflow\\lib\\site-packages (from service-identity>=16.0.0->scrapy) (0.2.8)\n",
      "Requirement already satisfied: attrs>=19.1.0 in d:\\download\\appgallery\\anaconda\\envs\\tensorflow\\lib\\site-packages (from service-identity>=16.0.0->scrapy) (21.4.0)\n",
      "Requirement already satisfied: pyasn1 in d:\\download\\appgallery\\anaconda\\envs\\tensorflow\\lib\\site-packages (from service-identity>=16.0.0->scrapy) (0.4.8)\n",
      "Requirement already satisfied: twisted-iocpsupport<2,>=1.0.2 in d:\\download\\appgallery\\anaconda\\envs\\tensorflow\\lib\\site-packages (from Twisted>=17.9.0->scrapy) (1.0.2)\n",
      "Requirement already satisfied: incremental>=21.3.0 in d:\\download\\appgallery\\anaconda\\envs\\tensorflow\\lib\\site-packages (from Twisted>=17.9.0->scrapy) (21.3.0)\n",
      "Requirement already satisfied: constantly>=15.1 in d:\\download\\appgallery\\anaconda\\envs\\tensorflow\\lib\\site-packages (from Twisted>=17.9.0->scrapy) (15.1.0)\n",
      "Requirement already satisfied: Automat>=0.8.0 in d:\\download\\appgallery\\anaconda\\envs\\tensorflow\\lib\\site-packages (from Twisted>=17.9.0->scrapy) (20.2.0)\n",
      "Requirement already satisfied: typing-extensions>=3.6.5 in d:\\download\\appgallery\\anaconda\\envs\\tensorflow\\lib\\site-packages (from Twisted>=17.9.0->scrapy) (3.10.0.2)\n",
      "Requirement already satisfied: hyperlink>=17.1.1 in d:\\download\\appgallery\\anaconda\\envs\\tensorflow\\lib\\site-packages (from Twisted>=17.9.0->scrapy) (21.0.0)\n",
      "Requirement already satisfied: requests>=2.1.0 in d:\\download\\appgallery\\anaconda\\envs\\tensorflow\\lib\\site-packages (from tldextract->scrapy) (2.27.1)\n",
      "Requirement already satisfied: idna in d:\\download\\appgallery\\anaconda\\envs\\tensorflow\\lib\\site-packages (from tldextract->scrapy) (3.3)\n",
      "Requirement already satisfied: requests-file>=1.4 in d:\\download\\appgallery\\anaconda\\envs\\tensorflow\\lib\\site-packages (from tldextract->scrapy) (1.5.1)\n",
      "Requirement already satisfied: filelock>=3.0.8 in d:\\download\\appgallery\\anaconda\\envs\\tensorflow\\lib\\site-packages (from tldextract->scrapy) (3.4.1)\n",
      "Requirement already satisfied: pycparser in d:\\download\\appgallery\\anaconda\\envs\\tensorflow\\lib\\site-packages (from cffi>=1.12->cryptography>=2.0->scrapy) (2.21)\n",
      "Requirement already satisfied: urllib3<1.27,>=1.21.1 in d:\\download\\appgallery\\anaconda\\envs\\tensorflow\\lib\\site-packages (from requests>=2.1.0->tldextract->scrapy) (1.26.7)\n",
      "Requirement already satisfied: certifi>=2017.4.17 in d:\\download\\appgallery\\anaconda\\envs\\tensorflow\\lib\\site-packages (from requests>=2.1.0->tldextract->scrapy) (2021.5.30)\n",
      "Requirement already satisfied: charset-normalizer~=2.0.0 in d:\\download\\appgallery\\anaconda\\envs\\tensorflow\\lib\\site-packages (from requests>=2.1.0->tldextract->scrapy) (2.0.4)\n"
     ]
    }
   ],
   "source": [
    "!pip install scrapy -i https://pypi.doubanio.com/simple/"
   ]
  },
  {
   "cell_type": "code",
   "execution_count": 4,
   "metadata": {},
   "outputs": [],
   "source": [
    "import scrapy\n",
    "\n",
    "# 定义一个类叫做 TitleSpider 继承自 scrapy.Spider\n",
    "class TitleSpider(scrapy.Spider):\n",
    "    name = 'title-spider'\n",
    "    # 设定开始爬取的页面\n",
    "    start_urls = ['https://www.appinn.com/category/windows/']\n",
    "\n",
    "    def parse(self, response):\n",
    "        # 找到所有 article 标签\n",
    "        for article in response.css('article'):\n",
    "            # 解析 article 下面 a 标签里的链接和标题\n",
    "            a = article.css('h2.title a')\n",
    "            if a:\n",
    "                result = {\n",
    "                    'title': a.attrib['title'],\n",
    "                    'url': a.attrib['href'],\n",
    "                }\n",
    "                # 得到结果\n",
    "                yield result\n",
    "\n",
    "        # 解析下一页的链接\n",
    "        next_page = response.css('a.next::attr(href)').get()\n",
    "        if next_page is not None:\n",
    "            # 开始爬下一页，使用 parse 方法解析\n",
    "            yield response.follow(next_page, self.parse)"
   ]
  },
  {
   "cell_type": "code",
   "execution_count": null,
   "metadata": {},
   "outputs": [],
   "source": []
  }
 ],
 "metadata": {
  "kernelspec": {
   "display_name": "Python 3.6.13 ('tensorflow')",
   "language": "python",
   "name": "python3"
  },
  "language_info": {
   "codemirror_mode": {
    "name": "ipython",
    "version": 3
   },
   "file_extension": ".py",
   "mimetype": "text/x-python",
   "name": "python",
   "nbconvert_exporter": "python",
   "pygments_lexer": "ipython3",
   "version": "3.6.13"
  },
  "orig_nbformat": 4,
  "vscode": {
   "interpreter": {
    "hash": "74973848420d399980c11f16a640d467c2e8f2266629d1ddb4e03d028dbfee73"
   }
  }
 },
 "nbformat": 4,
 "nbformat_minor": 2
}
