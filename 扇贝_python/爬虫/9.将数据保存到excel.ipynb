{
 "cells": [
  {
   "cell_type": "markdown",
   "metadata": {},
   "source": [
    "### openpyxl 写文件"
   ]
  },
  {
   "cell_type": "code",
   "execution_count": 7,
   "metadata": {},
   "outputs": [],
   "source": [
    "from openpyxl import Workbook\n",
    "wb=Workbook()\n",
    "sheet=wb.active # 选择默认的工作表\n",
    "sheet.title = '考勤统计表'\n",
    "sheet['A1']='小贝'\n",
    "\n",
    "# 写入一行数据\n",
    "row=['姓名','出勤天数','迟到天数']\n",
    "sheet.append(row)\n",
    "\n",
    "# 写入多行数据时\n",
    "data=[\n",
    "    ['姓名', '出勤天数', '迟到次数'],\n",
    "    ['小贝', 20, 5],\n",
    "    ['闻闻', 22, 0]\n",
    "]\n",
    "for row in data:\n",
    "    sheet.append(row)\n",
    "\n",
    "wb.save('考勤统计.xlsx')"
   ]
  },
  {
   "cell_type": "markdown",
   "metadata": {},
   "source": [
    "### openpyxl 读文件"
   ]
  },
  {
   "cell_type": "code",
   "execution_count": 16,
   "metadata": {},
   "outputs": [
    {
     "name": "stdout",
     "output_type": "stream",
     "text": [
      "['考勤统计表']\n",
      "sheet['A1']: <Cell '考勤统计表'.A1>\n",
      "sheet['A1'].value: 小贝\n",
      "----------\n",
      "小贝\n",
      "None\n",
      "None\n",
      "姓名\n",
      "出勤天数\n",
      "迟到天数\n",
      "姓名\n",
      "出勤天数\n",
      "迟到次数\n",
      "小贝\n",
      "20\n",
      "5\n",
      "闻闻\n",
      "22\n",
      "0\n"
     ]
    }
   ],
   "source": [
    "from openpyxl import load_workbook\n",
    "# 打开 Excel 文件\n",
    "wb=load_workbook('考勤统计.xlsx')\n",
    "# 选择考勤统计表这张工作表\n",
    "sheet=wb['考勤统计表']\n",
    "# 打印出所有工作表名称\n",
    "print(wb.sheetnames)\n",
    "# 输出：['考勤统计表']\n",
    "print(\"sheet['A1']:\",sheet['A1'])\n",
    "print(\"sheet['A1'].value:\",sheet['A1'].value)\n",
    "print('----------')\n",
    "for row in sheet.rows:\n",
    "    for cell in row:\n",
    "        print(cell.value)"
   ]
  },
  {
   "cell_type": "markdown",
   "metadata": {},
   "source": [
    "openpyxl 实战"
   ]
  },
  {
   "cell_type": "code",
   "execution_count": 39,
   "metadata": {},
   "outputs": [
    {
     "name": "stdout",
     "output_type": "stream",
     "text": [
      "红楼梦 9.6 https://book.douban.com/subject/1007305/\n",
      "活着 9.4 https://book.douban.com/subject/4913064/\n",
      "1984 9.4 https://book.douban.com/subject/4820710/\n",
      "百年孤独 9.3 https://book.douban.com/subject/6082808/\n",
      "三体全集 9.5 https://book.douban.com/subject/6518605/\n",
      "飘 9.3 https://book.douban.com/subject/1068920/\n",
      "哈利·波特 9.7 https://book.douban.com/subject/24531956/\n",
      "三国演义（全二册） 9.3 https://book.douban.com/subject/1019568/\n",
      "房思琪的初恋乐园 9.2 https://book.douban.com/subject/27614904/\n",
      "动物农场 9.3 https://book.douban.com/subject/2035179/\n",
      "福尔摩斯探案全集（上中下） 9.3 https://book.douban.com/subject/1040211/\n",
      "白夜行 9.2 https://book.douban.com/subject/10554308/\n",
      "小王子 9.1 https://book.douban.com/subject/1084336/\n",
      "天龙八部 9.2 https://book.douban.com/subject/1255625/\n",
      "安徒生童话故事集 9.2 https://book.douban.com/subject/1046209/\n",
      "撒哈拉的故事 9.2 https://book.douban.com/subject/1060068/\n",
      "杀死一只知更鸟 9.2 https://book.douban.com/subject/6781808/\n",
      "呐喊 9.1 https://book.douban.com/subject/1449351/\n",
      "明朝那些事儿（1-9） 9.2 https://book.douban.com/subject/3674537/\n",
      "沉默的大多数 9.1 https://book.douban.com/subject/1054685/\n",
      "失踪的孩子 9.2 https://book.douban.com/subject/30172069/\n",
      "新名字的故事 9.2 https://book.douban.com/subject/26986954/\n",
      "中国历代政治得失 9.2 https://book.douban.com/subject/1003479/\n",
      "局外人 9.1 https://book.douban.com/subject/4908885/\n",
      "人类简史 9.1 https://book.douban.com/subject/25985021/\n"
     ]
    }
   ],
   "source": [
    "import requests\n",
    "from bs4 import BeautifulSoup\n",
    "\n",
    "headers={\n",
    "    'user-agent': 'Mozilla/5.0 (Windows NT 10.0; Win64; x64) AppleWebKit/537.36 (KHTML, like Gecko) Chrome/103.0.0.0 Safari/537.36',\n",
    "}\n",
    "res=requests.get('https://book.douban.com/top250',headers=headers)\n",
    "soup=BeautifulSoup(res.text,'html.parser')\n",
    "# items=soup.find_all(class_='item')\n",
    "items=soup.select('.item')\n",
    "for i in items:\n",
    "    # tag=i.find(class_='pl2').find('a')\n",
    "    # rating=i.find(class_='rating_nums').text\n",
    "    tag=i.select('.pl2 a')[0] \n",
    "    rating=i.select('.rating_nums')[0].text\n",
    "    \n",
    "    name=tag['title']\n",
    "    link=tag['href']\n",
    "    print(name,rating,link)"
   ]
  },
  {
   "cell_type": "code",
   "execution_count": 41,
   "metadata": {},
   "outputs": [],
   "source": [
    "import time\n",
    "import requests\n",
    "from bs4 import BeautifulSoup\n",
    "from openpyxl import Workbook\n",
    "\n",
    "wb=Workbook()\n",
    "sheet=wb.active\n",
    "sheet.title='豆瓣图书Top250'\n",
    "header=['书名','评分','链接']\n",
    "sheet.append(header)\n",
    "\n",
    "headers={\n",
    "    'user-agent': 'Mozilla/5.0 (Windows NT 10.0; Win64; x64) AppleWebKit/537.36 (KHTML, like Gecko) Chrome/103.0.0.0 Safari/537.36',\n",
    "}\n",
    "res=requests.get('https://book.douban.com/top250',headers=headers)\n",
    "soup=BeautifulSoup(res.text,'html.parser')\n",
    "# items=soup.find_all(class_='item')\n",
    "items=soup.select('.item')\n",
    "for i in items:\n",
    "    # tag=i.find(class_='pl2').find('a')\n",
    "    # rating=i.find(class_='rating_nums').text\n",
    "    tag=i.select('.pl2 a')[0] \n",
    "    rating=i.select('.rating_nums')[0].text\n",
    "    name=tag['title']\n",
    "    link=tag['href']\n",
    "    row=[name,rating,link]\n",
    "    sheet.append(row)\n",
    "\n",
    "wb.save('豆瓣.xlsx')"
   ]
  },
  {
   "cell_type": "markdown",
   "metadata": {},
   "source": [
    "csv 读文件"
   ]
  },
  {
   "cell_type": "code",
   "execution_count": 44,
   "metadata": {},
   "outputs": [
    {
     "name": "stdout",
     "output_type": "stream",
     "text": [
      "['姓名', '出勤天数', '迟到次数']\n",
      "['小贝', '20', '5']\n",
      "['闻闻', '22', '0']\n"
     ]
    }
   ],
   "source": [
    "import csv\n",
    "with open('考勤统计.csv',newline='') as file:\n",
    "    # newline='' 是为了让文件内容中的换行符能被正确解析，建议在用 csv 处理文件时都加上这个参数。\n",
    "    csv_reader = csv.reader(file)\n",
    "    for row in csv_reader:\n",
    "        print(row)"
   ]
  },
  {
   "cell_type": "markdown",
   "metadata": {},
   "source": [
    "csv 写文件"
   ]
  },
  {
   "cell_type": "code",
   "execution_count": 47,
   "metadata": {},
   "outputs": [],
   "source": [
    "import csv\n",
    "with open('考勤统计.csv','a',newline='') as file:\n",
    "    csv_writer = csv.writer(file)\n",
    "    rows=[\n",
    "        ['姓名', '出勤天数', '迟到次数'],\n",
    "        ['小贝', 20, 5],\n",
    "        ['闻闻', 22, 0]\n",
    "    ]\n",
    "    csv_writer.writerows(rows)\n",
    "    # for row in rows:\n",
    "    #     csv_writer.writerow(row)"
   ]
  },
  {
   "cell_type": "code",
   "execution_count": 48,
   "metadata": {},
   "outputs": [],
   "source": [
    "import requests\n",
    "from bs4 import BeautifulSoup\n",
    "import csv\n",
    "\n",
    "with open('豆瓣.csv', 'w', newline='') as file:\n",
    "  csv_writer = csv.writer(file)\n",
    "  # 写入表头\n",
    "  header = ['书名', '评分', '链接']\n",
    "  csv_writer.writerow(header)\n",
    "\n",
    "  headers = {'user-agent': 'Mozilla/5.0 (Macintosh; Intel Mac OS X 10_13_6) AppleWebKit/537.36 (KHTML, like Gecko) Chrome/76.0.3809.132 Safari/537.36'}\n",
    "  res = requests.get('https://book.douban.com/top250', headers=headers)\n",
    "  soup = BeautifulSoup(res.text, 'html.parser')\n",
    "  items = soup.find_all(class_='item')\n",
    "  for i in items:\n",
    "    tag = i.find(class_='pl2').find('a')\n",
    "    rating = i.find(class_='rating_nums').text\n",
    "    name = tag['title']\n",
    "    link = tag['href']\n",
    "    # 写入一行数据\n",
    "    row = [name, rating, link]\n",
    "    csv_writer.writerow(row)"
   ]
  },
  {
   "cell_type": "code",
   "execution_count": null,
   "metadata": {},
   "outputs": [],
   "source": []
  }
 ],
 "metadata": {
  "kernelspec": {
   "display_name": "Python 3.6.13 ('tensorflow')",
   "language": "python",
   "name": "python3"
  },
  "language_info": {
   "codemirror_mode": {
    "name": "ipython",
    "version": 3
   },
   "file_extension": ".py",
   "mimetype": "text/x-python",
   "name": "python",
   "nbconvert_exporter": "python",
   "pygments_lexer": "ipython3",
   "version": "3.6.13"
  },
  "orig_nbformat": 4,
  "vscode": {
   "interpreter": {
    "hash": "74973848420d399980c11f16a640d467c2e8f2266629d1ddb4e03d028dbfee73"
   }
  }
 },
 "nbformat": 4,
 "nbformat_minor": 2
}
