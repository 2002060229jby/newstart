{
 "cells": [
  {
   "cell_type": "code",
   "execution_count": 1,
   "metadata": {},
   "outputs": [
    {
     "name": "stdout",
     "output_type": "stream",
     "text": [
      "步骤 1 结束，耗时 2 毫秒\n",
      "步骤 2 结束，耗时 447 毫秒\n",
      "步骤 3 结束，耗时 2 毫秒\n"
     ]
    }
   ],
   "source": [
    "import time\n",
    "import requests\n",
    "\n",
    "class Adapter(requests.adapters.HTTPAdapter):\n",
    "  def send(self, *args, **kwargs):\n",
    "    global start\n",
    "    print(\n",
    "      \"步骤 1 结束，耗时\",\n",
    "      round((time.time() - start) * 1000),\n",
    "      \"毫秒\"\n",
    "    )\n",
    "    return super().send(*args, **kwargs)\n",
    "\n",
    "s = requests.Session()\n",
    "s.mount(\"https://\", Adapter())\n",
    "start = time.time()\n",
    "r = s.get('https://www.baidu.com')\n",
    "end = time.time()\n",
    "print(\n",
    "  \"步骤 2 结束，耗时\",\n",
    "  round(r.elapsed.total_seconds() * 1000),\n",
    "  \"毫秒\"\n",
    ")\n",
    "print(\n",
    "  \"步骤 3 结束，耗时\",\n",
    "  int((end -start - r.elapsed.total_seconds()) * 1000),\n",
    "  \"毫秒\"\n",
    ")"
   ]
  },
  {
   "cell_type": "code",
   "execution_count": 2,
   "metadata": {},
   "outputs": [],
   "source": [
    "import time\n",
    "import requests\n",
    "# 导入 concurrent.futures 这个包\n",
    "from concurrent import futures\n",
    "\n",
    "urls = [\"https://wpblog.x0y1.com/?p=34\"] * 30\n",
    "# 初始化一个线程池，最大的同时任务数是 5\n",
    "executor = futures.ThreadPoolExecutor(max_workers=5)\n",
    "session = requests.Session()\n",
    "\n",
    "fs = []\n",
    "for url in urls:\n",
    "  # 提交任务到线程池\n",
    "  f = executor.submit(session.get, url)\n",
    "  fs.append(f)\n",
    "\n",
    "# 等待这些任务全部完成\n",
    "futures.wait(fs)\n",
    "# 获取任务的结果\n",
    "result = [f.result().text for f in fs]"
   ]
  },
  {
   "cell_type": "code",
   "execution_count": 3,
   "metadata": {},
   "outputs": [],
   "source": [
    "from bs4 import BeautifulSoup\n",
    "\n",
    "# 解析列表页内容，得到这一页的内容链接\n",
    "def parse_list_page(text):\n",
    "  soup = BeautifulSoup(text, 'html.parser')\n",
    "  tbody = soup.select('table.board-list.tiz > tbody')[0]\n",
    "  urls = []\n",
    "  for tr in tbody:\n",
    "    td = tr.select('td.title_9')[0]\n",
    "    urls.append(td.a.attrs['href'])\n",
    "  return urls"
   ]
  },
  {
   "cell_type": "code",
   "execution_count": 4,
   "metadata": {},
   "outputs": [],
   "source": [
    "# 解析内容页，得到标题和所有帖子内容\n",
    "def parse_content_page(text):\n",
    "  soup = BeautifulSoup(text, 'html.parser')\n",
    "\n",
    "  title = soup.select('span.n-left')[0].text.strip('文章主题:').strip()\n",
    "\n",
    "  content_div = soup.select('div.b-content.corner')[0]\n",
    "  contents = []\n",
    "  for awrap in content_div.select('div.a-wrap.corner'):\n",
    "    content = awrap.p.text\n",
    "    contents.append(content)\n",
    "  return title, contents"
   ]
  },
  {
   "cell_type": "code",
   "execution_count": 5,
   "metadata": {},
   "outputs": [],
   "source": [
    "def convert_content_url(path):\n",
    "  URL_PREFIX = 'http://www.mysmth.net'\n",
    "  path += '?ajax'\n",
    "  return URL_PREFIX + path"
   ]
  },
  {
   "cell_type": "code",
   "execution_count": 6,
   "metadata": {},
   "outputs": [],
   "source": [
    "list_urls = []\n",
    "for i in range(1, 11):\n",
    "  url = 'http://www.mysmth.net/nForum/board/Python?ajax&p='\n",
    "  url += str(i)\n",
    "  list_urls.append(url)"
   ]
  },
  {
   "cell_type": "code",
   "execution_count": 7,
   "metadata": {},
   "outputs": [],
   "source": [
    "import requests\n",
    "from concurrent import futures\n",
    "\n",
    "session = requests.Session()\n",
    "executor = futures.ThreadPoolExecutor(max_workers=5)\n",
    "\n",
    "# 这个函数获取列表页数据，解析出链接，并转换成真实链接\n",
    "def get_content_urls(list_url):\n",
    "  res = session.get(list_url)\n",
    "  content_urls = parse_list_page(res.text)\n",
    "  real_content_urls = []\n",
    "  for url in content_urls:\n",
    "    url = convert_content_url(url)\n",
    "    real_content_urls.append(url)\n",
    "  return real_content_urls\n",
    "\n",
    "# 根据刚刚生成的十个列表页链接，开始提交任务\n",
    "fs = []\n",
    "for list_url in list_urls:\n",
    "  fs.append(executor.submit(get_content_urls, list_url))\n",
    "futures.wait(fs)\n",
    "\n",
    "content_urls = set()\n",
    "for f in fs:\n",
    "  for url in f.result():\n",
    "    content_urls.add(url)"
   ]
  },
  {
   "cell_type": "code",
   "execution_count": 8,
   "metadata": {},
   "outputs": [
    {
     "name": "stdout",
     "output_type": "stream",
     "text": [
      "dict_keys(['用Python可以写手机app吗？', 'import的库Unresolved reference 但运行成功是怎么回事？', '请教，pdf文件转excel用什么库好用？', '怎么用import作为参数啊', '循环条件是一个外部函数，且循环体内还需要用到它', '怎么在嵌入python时使用多进程？', '字典怎么赋值？', 'web开发，python还是php?', '有人熟悉aardio+python嘛？', '多进程读log', '谁知道这个提示什么意思', '求助 pandas', '卸载某个包（比如TensorFlow），或者强制升级pip，报这个错，怎', '求教qq音乐抓取的xhr问', 'numpy 里，两个矩阵直接a*b，是什么意思？', '版面积分变更记录', '求推荐Django初学的教材或者视频，以及进阶之路', '伟大的pytorch，将我的识别率提高到了94%，如何改进呢？', '闲鱼上的二手商品历史成交，从哪里能爬到数据阿？', '用手机或者摄像头扫描一行小字条 (转载)\\xa0\\xa0[查看原文]', '求大佬算一下，这个矩阵的逆矩阵，是多少？谢谢', '突然发现python的logo就是乌克兰国旗', '微信公众号识别用户发来的二维码接口怎么调用？谢谢', '求问一个小白问题逻辑运算', 'D, the Best Programming Language, for Former Python Develop', 'What’s New in PyCharm 2021.3摘要', 'ttkbootstrap给tkinter的仿Bootstrap', '大佬，这种验证码，如何自动识别出来？', '水木Python版推荐使用4个空格作为缩进(转寄) (转载)', 'Python 版版主 hgoldfish 任满卸任 (转载)', '自学完《Python编程:从入门到实践》的第一部分', 'python绘图太慢，有什么办法可以明显提升绘图速度的？', '弱问：random', '本版积分已达积分帽', 'xlrd 的行号，竟然可以是负数？', '有什么版面可以讨论web3.0和nft吗？', 'tf1.5运行，warm_start_from报错，这是什么原因？', '大学学的C++ 没用上 工作后自学python 还能搞个小脚本', 'Matplotlib官网是不是有问', 'python有没有这样的集合类库?', 'anaconda称的已经打包好一些默认库是指什么', 'python提速这事情还有下文吗？', '参加一个笔试。2小时11道题目，我就完成了差不多5，6道，', 'img = numpy.zeros((1080, 1920, 3), numpy.uint8)，这里的3是', '求推荐个好用的语法检查工具', 'pandas dataframe操作为啥这么慢', '求pyqt电子书', '发个 ascii art 大家看看怎么样，是否合适做进版', '[申请] flw 申请 Python/Python的自由天空 版大版主 (转载)\\xa0\\xa0[查看原文]', '推荐个好东西streamlit', '借宝地问一下，这两个~，是如何输入的？', '一定要建虚拟环境吗？', '麻烦OpenCV高手指点一下，为何找图片的位置老是不对？', '如何快速求解正交基 (转载)\\xa0\\xa0[查看原文]', 'win7下python怎么打包', '从官网下载的pycharm.安装时报corrupt image', '把anaconda3卸载了，关于anaconda虚拟环境的古怪问题没搞懂', \"开发跨平台GUI：Delphi's FireMonkey\", 'Re: python入门需要多久？', 'sklearn的书为什么都不喜欢提数据导入模型导出？', '说个比较吐血的调试过程', 'python为什么不支持\"++\"运算符', '没人申请版主吗？', '问个pytorch+cuda的问', '关于Python资源回收问题请教', '请问在visual studio里怎么支持中文字符', '自建web服务器求教', '[申请] dmyk 申请 Python/Python的自由天空 版大版主 (转载)\\xa0\\xa0[查看原文]', '结构化匹配教程', '有哪款PDA扫码器支持pyqt5开发的？', 'pyqtSlot 里on_发送者对象名称_发射信号名称，名称能包含下划线', '弱问 open的r+ w+参数。。', '想学pytorch，识别验证码的，有免费的资料吗？', '命令行中给py文件传递参数失败是怎么回事？', '安卓的扫码PDA用python可以开发应用吗？', 'appium 使用uiautomatorviewer为啥无法定位部分app页面的元素？', 'Python版FAQ(欢迎补充)', '有了解OData的大牛吗？', '看到个QuickPy', '流畅的python哪里可以下载？', 'pyqt5窗体全局格栅布局或者水平布局、垂直布局错乱的解决方法', '大佬，麻烦解释一下logger.info的执行顺序吗？文字发不出来，奇', 'Call Rust from Python', '借宝地问一下，chrome浏览器如何缩放至140%显示啊？', \"OverflowError: (34, 'Numerical result out of range')\", '增加了一个 union 语法', '迁移py2的project到py3，大概会有哪些坑', 'xlrd，如何处理 excel最后几个空行的单元格啊？', 'Re: 学python纪实-2022年6月12日开始', 'Re: 没有自动补全的编译器，纯粹练习熟练度没有意义吧', '通过telnetlib写脚本，怎么发送组合键和pageDN？', '原来for和else 也能搭配，', '有人有空搞验证码自动识别吗？或者给点思路，谢谢', '如何同时用python2和python3', '谁能说说有啥给小学生学的系统性Python课程', '借宝地问一下，csdn的这个“分类专栏”不能修改吗？', '使用logging居然挂死了。。。', 'pycharm如何用正则替换以某字符开头的行？', '请问这个香港银行公会的数据怎么获取到 (转载)\\xa0\\xa0[查看原文]', 'Python有点灵活的无所适从啊', '这个操作怎么理解？', '画界面用什么合适？pyqt还是pyside？', '怎么样按结构体进行数据组织？', 'pycharm2018.1创建的不继承解释器，为何总是9和28？', '网站需要输入短信验证码怎么破？', 'eval 的一个问题(读取上层作用域的局部变量)', 'Windows下的Tray，在Linux下有什么对应物？', '募有缘人一起开发自动交易UI', '请版面尽快产生大版', '请问学了python能找啥样的工作啊？', 'python可以实现平面图形旋转成立体图形吗', '菜鸟求debug。。。', '谁能帮我逆天改命。Pyinstall 遇到UTF-8问题。', 'python程序的print语句，会极大的影响程序执行时间，是为什么？', '求学习cpython编译so的资料', '板油能推荐一本入门书吗？', '状态变为Archived：Unofficial Windows Binaries for Python', '有什么是JAVA能做但Python 做不了的', '这段程序怎么玩？', '有大佬做排程算法和甘特图的吗？我越来越迷茫了，求指点', 'python 能在某个软件的界面固定位置输入数据然后在固定地方读取', '请问怎么能把一个列表里的数字通过弹窗的方式显示出来？', 'Http 403 forbidden', 'm1跑python的程序怎么样', 'Re: [申请] doremy 申请 Python/Python的自由天空 版大版主 (转', '碰到一个字符串的坑', '如何把json转成CSV（相互转换）', '想写个爬虫爬js生成数据表的网页数据，该怎么写？', '你们喜欢用@property吗', '39了，自学屁怂还来得及么？', 'PyQt中的事件及处理函数.pdf', '窗口上有两个按钮，一个写excel文件，一个停止写excel，如何实', '网页不显示latex', '自学python 一年了 为啥我还是没发现类的好处', '求教', 'windows下python.exe的路径带空格，怎么重拉脚本进程？', '自学渣想了好久搞不定，求问', 'python 3.9.11编译有个_ctypes失败了', '你们都用python来做什么', 'Python: Please stop screwing over Linux distros (转载)\\xa0\\xa0[查看原文]', 'remi，纯py写web gui程序', 'python做信号处理有什么合适的库么？', 'Python for Finance公众号推荐', '要在程序中集成一个python点运行环境，需要打包那些文件？', 'numpy包，为何不区分横向量和列向量？', '新手请问win11为什么装不上？求推荐金融用的教程', '有关git的一个问', 'python可以做这样的交互系统吗', '所有.py文件都要import 一些相同的module，如何简单化呢', '小项目=Python的ptqt5开发上位机操作界面', '显卡才2g，纪念一下我将要结束的神经网络学习', 'request爬不到抓包app能抓到的json值，有什么解决办法吗？', '有大神出新书了, 《Python 工匠：案例、技巧与工程实践》', 'python有mvvm模式 状态绑定的ui框架吗', '请教如何查到html对应的url地址？', 'pyqt5输出到textEdit，如何有输出到控制台一样的效果，及时输出', '求个3.7版本离线SELENIUM包', 'IronPython 3.4.0-beta1发布', '加快Python计算速度一般用什么包', '以前还不理解“区分系统python和用户python”的必要性', '一个对象的实例deepcopy后同样的函数，同样的输入，结果不一样', '关于python进行复杂数值计算的性能优化方法', 'ArgumentParser.add_subparsers 怎么能正确显示help信息？', '[转载]一种在源代码里面提供 Python 版本过低的办法', '求教，两台主机之间数据交互用什么机制比较好', '32岁了，学习Python', '[求助]请问pycharm里面怎么设置按回车键跳出括号', '深度学习里面的 loss和acc（损失和准确率），分别是怎么定义的', '路径里明明没有python3 但which到', '阿里云的垃圾 API 搞了很多的依赖', 'python,最近的一个包pydantic特别好.', 'python适合懒人用么？', '请问python有啥比较好的论坛？', '讨教：大佬们，cython的程序c能调用吗？', 'list的排序规则有一事不明。。', 'Ruby on Rails 比Python如何？', 'Re: 这个题库里面的题目和答案能爬虫怕取下来吗', 'Re: 寻找Python爬虫高手，有个好项目', 'requests.request 如何发送中文参数', '这种类似指针的场景怎么解决', 'Python在图像或艺术设计方面', '想找一些开源的项目学习', 'python 使用nuitka编译起来，是不是和C++一样复杂?', '[转载]最近 Python 标准库的变化', '调整 javaboy 的驻版权限', 'Re: pyinstaller报告编码utf8不识别。', '对变量起名困难症患者而言，变量名用中文还是不错的', 'python现在如日中天啊，势不可挡', 'pycharm耗资源吗', 'Ruby版关闭了，现在是并入哪个版了？', 'babypig被取消在Python版的发文权限', 'python小白在文本输出上遇到的问', '大佬，开发一款聊天机器人，该用哪个框架好？', '菜鸟求教。。。。yield', '[转载]PyPI 多个软件包因拼写错误包含后门', 'Python 之父爆料：明年至少令 Python 提速 1 倍！', '怎么才能保持这个弹窗始终在前', '问个pandas dataframe的操作', 'pytorch里，为何允许标量和张量相加？', 'python 操作word表格，用docx，如何合并单元格？', '[转载]Python 项目两位核心开发者仍然留在乌克兰', 'python3.4  32位是不是安装不了openpyxl啊。', '请教一个websocket的问', '借宝地问个验证码的问', 'Python程序发布太大怎么办？', 'jupyter lab居然是网页版的，为啥不单独封一个单独进程呢？', 'pyqt如何图形化设置日期和时间？', '机器学习是用sklearn 这个包怎么样', '这个橡皮圈的粘接点的位置，如何找？', '[求助]sublime怎么样把运行结果栏放到右边？', '想问下linux系统python多核异常处理的问', '为何三种隐藏按钮的方式，在这里全都失效了？', '求抢票刷票软件开发和维护个人或者小团队', '娃在孤独地学python', 'chartdet的可信度怎么太低了吧。', '断断续续学PYTHON用了 1年，想学JAVA了 需要多久能精通，', '有没有判断图A是否为图B一部分的现成库？', 'python QT开发GUI能做产品不？', 'py3和qt用什么版本最成熟和稳定？', '写了个zfinance使用说明书', '求一个存数据的方法', '请教以下，python有没有什么库，可以直接用来做为作为模拟各app', '呦，本版还没有版主啊', 'fastapi 相对 flask 有什么特别的优点吗？', 'Python太乱了', '求解', '恭喜我的深度学习识别率，达到了99.6%', '请教：ubuntu下升级python3.6至3.8或者3.10，有靠谱的方法马？', 'python-conda的问题 (转载)\\xa0\\xa0[查看原文]', '百度翻译只能短句子？', '对python新手最好的工具是pycharm', '求教网页解析的一个find()问', '问两个问', '爬虫+NLP全面分析京东、天猫用户评论数据', 'QtCreator不能直接开发Python程序吗？', 'python代码编译成pyd文件是不就很难破解了？', 'exec这玩意好微妙啊', 'CSDN新的登录技术selenium咋破？', '[视频] Web开发——Django框架', 'python2.7.18安装pip21.3.1时报错，求助！', 'nuitka 生成的exe缺少 module encodings', '一个python目录的问题。', '借人气问个技术问', '有关于作曲的库吗？', '求识别变形 字母数字的好思路，谢谢', 'python能定时间自动运行吗，不打开程序', '[求助]asyncio 问题，求助神鹰', '被 win10 自带 python 摆了一道', 'pyqt5做的界面如何美化？', '服了setuptools的文档了', '[转载]Cython 20周年了', '求支付宝验证码图片，谢谢', 'PyQt中的对话框.pdf', '求教：如何读取脚本后运行', '如何教孩子Python (转载)\\xa0\\xa0[查看原文]', '写excel，竟然少几个字？怎么回事呢？', '【高薪招聘】专职、兼职各2名数据抓取工程师', '做数据展示怎么弄最简单', '有专门用来存储图像的数据库么？', '[转载]macOS 12.3 移除对 Python 2.7 的支持', '这里码农高手多，请教下如何将sql里的数据最方便的展示到网页里\\xa0\\xa0[查看原文]', 'ws.max_row 为何不是返回当前excel文件的实际行数？', '用汇编写扩展', 'python numpy 如何按照行 输出  灰度值？', '二维数组的points[-1, 0]是什么操作？', '推荐新书《Python基础与PyQt可视化编程详解》。', '[公告] 任命 flw 为 Python/Python的自由天空 版大版主 (转载)', '初学者请教一下有什么比较好的python技术社区或者交流渠道？', 'python连数据库真的好复杂  那么多的第三方库是为啥', '高新聘兼职 python量化程序员', '推荐新书《Python编程基础与科学计算》', '求问照片管理软件的技术路线', 'opencv-python，pyqt都是预编译的么？', 'matplotlib画500×500的3d图拖动卡到爆炸', '请问一下python的websocket稳定性怎么样', '弱问....', '做一个跨内网的数据传输服务', 'openpyxl 中设置excel 的单元格格式，让单元格显示毫秒数？', '没有任何基础的小白，入门需要多久？', '大佬， 这个梯度计算公式，是怎么来的？', '求问单位有代理，conda update时候报错', '新手求“python编程从入门到实践第二版中文版“这本书的电子版', '[讨论]Python 官方文档中文翻译项目', '有没有适合小学生学习的书？', '人眼和大脑是如何识别出图片中的干扰线的？', '协程顺序问', '在线求助问'])\n"
     ]
    }
   ],
   "source": [
    "# 获取正文页内容，解析出标题和帖子\n",
    "def get_content(url):\n",
    "  r = session.get(url)\n",
    "  title, contents = parse_content_page(r.text)\n",
    "  return title, contents\n",
    "\n",
    "# 提交解析正文的任务\n",
    "fs = []\n",
    "for url in content_urls:\n",
    "  fs.append(executor.submit(get_content, url))\n",
    "futures.wait(fs)\n",
    "\n",
    "results = {}\n",
    "for f in fs:\n",
    "  title, contents = f.result()\n",
    "  results[title] = contents\n",
    "\n",
    "print(results.keys())"
   ]
  },
  {
   "cell_type": "code",
   "execution_count": null,
   "metadata": {},
   "outputs": [],
   "source": []
  }
 ],
 "metadata": {
  "kernelspec": {
   "display_name": "Python 3.6.13 ('tensorflow')",
   "language": "python",
   "name": "python3"
  },
  "language_info": {
   "codemirror_mode": {
    "name": "ipython",
    "version": 3
   },
   "file_extension": ".py",
   "mimetype": "text/x-python",
   "name": "python",
   "nbconvert_exporter": "python",
   "pygments_lexer": "ipython3",
   "version": "3.6.13"
  },
  "orig_nbformat": 4,
  "vscode": {
   "interpreter": {
    "hash": "74973848420d399980c11f16a640d467c2e8f2266629d1ddb4e03d028dbfee73"
   }
  }
 },
 "nbformat": 4,
 "nbformat_minor": 2
}
