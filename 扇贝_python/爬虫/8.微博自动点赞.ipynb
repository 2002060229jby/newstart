{
 "cells": [
  {
   "cell_type": "markdown",
   "metadata": {},
   "source": [
    "### 爬取步骤分析"
   ]
  },
  {
   "cell_type": "markdown",
   "metadata": {},
   "source": [
    "在 Python 基础课中我们提过 编程思维（Computational Thinking）的概念，有如下四点：\n",
    "\n",
    "- 问题分解：把现实生活中的复杂问题，逐步拆分成容易解决的小问题；\n",
    "- 模式识别：根据已有的知识和经验，找出新问题和以前解决过的问题的相似性；\n",
    "- 抽象思维：将问题里涉及的数据抽象到数据结构（变量、列表、字典等），把数据处理过程可重复执行部分抽象成函数；\n",
    "- 算法设计：根据前三步的分析成果，设计步骤，写出算法，从而解决问题。\n",
    "\n",
    "今天，我们就运用 编程思维 来写一个 自动发微博 的爬虫。"
   ]
  },
  {
   "cell_type": "markdown",
   "metadata": {},
   "source": [
    "我们的目标是 发微博，发微博这件事可以拆成 登录微博 和 发送微博 两件事。接下来我们只需要解决 如何登录微博 和 如何发送微博 即可。将一个庞大且复杂的问题拆分成多个小问题，能让我们对问题有更清晰的认识，每解决一个小问题也会有成就感。将困难分摊开，也就没有那么难了。"
   ]
  },
  {
   "cell_type": "markdown",
   "metadata": {},
   "source": [
    "根据已有的知识和经验，我们需要先成功登录微博，才能以当前账号信息发送微博。因此编写爬虫前，我们可以手动登录微博，记录下当前 cookie，并在爬虫程序内用 session 保留状态信息。\n",
    "\n",
    "发送微博操作属于提交表单，一般都会用到 POST 请求，我们可以在开发者工具中的 Network 里看到。\n",
    "\n",
    "我们也可以直接使用 selenium，但它爬取效率不高，且占资源，我们并不优先考虑它。"
   ]
  },
  {
   "cell_type": "markdown",
   "metadata": {},
   "source": [
    "在写代码的过程中，我们需要思考用哪种数据结构存储数据更加合适，哪部分代码适合抽象成函数等，一点一点地解决每个小问题，最终完成整个爬虫。\n",
    "\n",
    "现在，你应该对微博爬虫有了大体的认识。接下来，我们深入其中，看看爬虫具体要怎么写。"
   ]
  },
  {
   "cell_type": "markdown",
   "metadata": {},
   "source": [
    "我们首先看一下如何登录微博。在这里偷偷告诉你一个小技巧：当我们爬一个网页时，可以先看看该网站有没有手机版。一般手机版的网页爬取数据比较容易，没有那么多的反爬虫限制。"
   ]
  },
  {
   "cell_type": "code",
   "execution_count": null,
   "metadata": {},
   "outputs": [],
   "source": [
    "headers = {\n",
    "  'user-agent': 'Mozilla/5.0 (Macintosh; Intel Mac OS X 10_13_6) AppleWebKit/537.36 (KHTML, like Gecko) Chrome/76.0.3809.132 Safari/537.36',\n",
    "  'cookie': '_T_WM=93695650748; WEIBOCN_FROM=1110005030; SUB=_2A25PyhaRDeRhGeBL7FUQ8S7Pwj2IHXVtNLrZrDV6PUJbktCOLWrCkW1NRsxyVUO8FVopeRv2h9uf6GCVTvPfWv1N; SUBP=0033WrSXqPxfM725Ws9jqgMF55529P9D9Wh4v8o11NG8buTpzWiFwCTy5NHD95QcSKMNeK27e0.pWs4Dqc_hi--fi-z7iKysi--NiK.4i-i2i--ciK.Ri-8si--Xi-zRi-8Wi--fi-z7iKysi--NiK.ci-8si--fi-82iK.7eK-Ne7tt; SSOLoginState=1657693890; MLOGIN=1; M_WEIBOCN_PARAMS=oid%3D4790777764645579%26lfid%3D102803%26luicode%3D20000174; XSRF-TOKEN=fb62db'\n",
    "}"
   ]
  },
  {
   "cell_type": "markdown",
   "metadata": {},
   "source": [
    "除了限制登录和 user-agent 之外，网站还会用一些其他的字段来反爬虫，判断是否为用户的正常访问。为了确保万无一失，我们手动浏览微博，尝试点赞、评论等操作，并逐个检查这些请求对应的 Request Headers（请求头，观察一下有哪些字段重复出现。这些字段很有可能就是我们需要伪装的重点。"
   ]
  },
  {
   "cell_type": "markdown",
   "metadata": {},
   "source": [
    "### 发送微博"
   ]
  },
  {
   "cell_type": "code",
   "execution_count": 5,
   "metadata": {},
   "outputs": [
    {
     "name": "stdout",
     "output_type": "stream",
     "text": [
      "403\n",
      "{'ok': 0, 'errno': '100006', 'msg': '请求非法'}\n"
     ]
    }
   ],
   "source": [
    "import requests\n",
    "\n",
    "# 请求头中固定部分\n",
    "headers = {\n",
    "  'user-agent': 'Mozilla/5.0 (Macintosh; Intel Mac OS X 10_13_6) AppleWebKit/537.36 (KHTML, like Gecko) Chrome/76.0.3809.132 Safari/537.36',\n",
    "  'mweibo-pwa': '1',\n",
    "  'x-requested-with': 'XMLHttpRequest',\n",
    "  'cookie': '_T_WM=93695650748; WEIBOCN_FROM=1110005030; SUB=_2A25PyhaRDeRhGeBL7FUQ8S7Pwj2IHXVtNLrZrDV6PUJbktCOLWrCkW1NRsxyVUO8FVopeRv2h9uf6GCVTvPfWv1N; SUBP=0033WrSXqPxfM725Ws9jqgMF55529P9D9Wh4v8o11NG8buTpzWiFwCTy5NHD95QcSKMNeK27e0.pWs4Dqc_hi--fi-z7iKysi--NiK.4i-i2i--ciK.Ri-8si--Xi-zRi-8Wi--fi-z7iKysi--NiK.ci-8si--fi-82iK.7eK-Ne7tt; SSOLoginState=1657693890; MLOGIN=1; M_WEIBOCN_PARAMS=oid%3D4790777764645579%26lfid%3D102803%26luicode%3D20000174; XSRF-TOKEN=fb62db'\n",
    "}\n",
    "\n",
    "# 使用 session\n",
    "session = requests.Session()\n",
    "session.headers.update(headers)\n",
    "\n",
    "# 发送微博所需请求头\n",
    "compose_headers = {\n",
    "  'origin': 'https://m.weibo.cn/',\n",
    "  'referer': 'https://m.weibo.cn/compose/',\n",
    "  'x-xsrf-token': 'af1140'\n",
    "}\n",
    "\n",
    "# 更新 headers\n",
    "session.headers.update(compose_headers)\n",
    "\n",
    "# 需要发送的微博信息\n",
    "compose_data = {\n",
    "  'content': '本条微博由 Python 发送',\n",
    "  'st': 'af1140'\n",
    "}\n",
    "compose_req = session.post('https://m.weibo.cn/api/statuses/update', data=compose_data)\n",
    "print(compose_req.status_code)\n",
    "print(compose_req.json())\n",
    "# 输出：403"
   ]
  },
  {
   "cell_type": "code",
   "execution_count": 3,
   "metadata": {},
   "outputs": [
    {
     "name": "stdout",
     "output_type": "stream",
     "text": [
      "{'ok': 1, 'data': {'visible': {'type': 0, 'list_id': 0}, 'created_at': 'Wed Jul 13 14:47:56 +0800 2022', 'id': '4790781901280534', 'mid': '4790781901280534', 'can_edit': False, 'show_additional_indication': 0, 'text': '本条微博由 Python 发送 ', 'textLength': 22, 'source': '微博 HTML5 版', 'favorited': False, 'pic_ids': [], 'is_paid': False, 'mblog_vip_type': 0, 'user': {'id': 6577110391, 'screen_name': '小白是个小疯子1573', 'profile_image_url': 'https://tvax3.sinaimg.cn/crop.0.0.996.996.180/007b6SRFly8fsf4a60sr5j30ro0romz4.jpg?KID=imgbed,tva&Expires=1657705677&ssig=gk6sXzgTf6', 'profile_url': 'https://m.weibo.cn/u/6577110391?uid=6577110391', 'statuses_count': 7, 'verified': False, 'verified_type': -1, 'close_blue_v': False, 'description': '', 'gender': 'm', 'mbtype': 0, 'urank': 4, 'mbrank': 0, 'follow_me': False, 'following': False, 'follow_count': 143, 'followers_count': '0', 'followers_count_str': '0', 'cover_image_phone': 'https://tva1.sinaimg.cn/crop.0.0.640.640.640/549d0121tw1egm1kjly3jj20hs0hsq4f.jpg', 'avatar_hd': 'https://wx3.sinaimg.cn/orj480/007b6SRFly8fsf4a60sr5j30ro0romz4.jpg', 'like': False, 'like_me': False, 'badge': {'user_name_certificate': 1}}, 'reposts_count': 0, 'comments_count': 0, 'reprint_cmt_count': 0, 'attitudes_count': 0, 'pending_approval_count': 0, 'isLongText': False, 'mlevel': 0, 'darwin_tags': [], 'mblogtype': 0, 'content_auth': 0, 'comment_manage_info': {'comment_manage_button': 1, 'comment_permission_type': 0, 'approval_comment_type': 0, 'comment_sort_type': 0}, 'pic_num': 0, 'new_comment_style': 0, 'bid': 'LC5Eq5n7M'}}\n"
     ]
    }
   ],
   "source": [
    "import requests\n",
    "\n",
    "# 请求头中固定部分\n",
    "headers = {\n",
    "  'user-agent': 'Mozilla/5.0 (Macintosh; Intel Mac OS X 10_13_6) AppleWebKit/537.36 (KHTML, like Gecko) Chrome/76.0.3809.132 Safari/537.36',\n",
    "  'mweibo-pwa': '1',\n",
    "  'x-requested-with': 'XMLHttpRequest',\n",
    "  'cookie': '_T_WM=93695650748; WEIBOCN_FROM=1110005030; SUB=_2A25PyhaRDeRhGeBL7FUQ8S7Pwj2IHXVtNLrZrDV6PUJbktCOLWrCkW1NRsxyVUO8FVopeRv2h9uf6GCVTvPfWv1N; SUBP=0033WrSXqPxfM725Ws9jqgMF55529P9D9Wh4v8o11NG8buTpzWiFwCTy5NHD95QcSKMNeK27e0.pWs4Dqc_hi--fi-z7iKysi--NiK.4i-i2i--ciK.Ri-8si--Xi-zRi-8Wi--fi-z7iKysi--NiK.ci-8si--fi-82iK.7eK-Ne7tt; SSOLoginState=1657693890; MLOGIN=1; M_WEIBOCN_PARAMS=oid%3D4790777764645579%26lfid%3D102803%26luicode%3D20000174; XSRF-TOKEN=fb62db'\n",
    "}\n",
    "\n",
    "# 使用 session\n",
    "session = requests.Session()\n",
    "session.headers.update(headers)\n",
    "\n",
    "# 获取新 token 所需请求头\n",
    "config_headers = {\n",
    "  'origin': 'https://m.weibo.cn/',\n",
    "  'referer': 'https://m.weibo.cn/'\n",
    "}\n",
    "session.headers.update(config_headers)\n",
    "\n",
    "# 获取 token（x-xsrf-token 及 st 的值）\n",
    "config_req = session.get('https://m.weibo.cn/api/config')\n",
    "config = config_req.json()\n",
    "st = config['data']['st']\n",
    "\n",
    "# 发送微博所需请求头\n",
    "compose_headers = {\n",
    "  'origin': 'https://m.weibo.cn/',\n",
    "  'referer': 'https://m.weibo.cn/compose/',\n",
    "  'x-xsrf-token': st\n",
    "}\n",
    "session.headers.update(compose_headers)\n",
    "\n",
    "# 需要发送的微博信息\n",
    "compose_data = {\n",
    "  'content': '本条微博由 Python 发送',\n",
    "  'st': st\n",
    "}\n",
    "compose_req = session.post('https://m.weibo.cn/api/statuses/update', data=compose_data)\n",
    "print(compose_req.json())\n",
    "# 输出：{'ok': 1, 'data': 省略部分内容...}"
   ]
  },
  {
   "cell_type": "code",
   "execution_count": null,
   "metadata": {},
   "outputs": [],
   "source": [
    "import requests\n",
    "\n",
    "class WeiboSpider:\n",
    "  def __init__(self):\n",
    "    self.session = requests.Session()\n",
    "    self.headers = {\n",
    "      'user-agent': 'Mozilla/5.0 (Macintosh; Intel Mac OS X 10_13_6) AppleWebKit/537.36 (KHTML, like Gecko) Chrome/76.0.3809.132 Safari/537.36',\n",
    "      'mweibo-pwa': '1',\n",
    "      'x-requested-with': 'XMLHttpRequest',\n",
    "      'cookie': '_T_WM=93695650748; WEIBOCN_FROM=1110005030; SUB=_2A25PyhaRDeRhGeBL7FUQ8S7Pwj2IHXVtNLrZrDV6PUJbktCOLWrCkW1NRsxyVUO8FVopeRv2h9uf6GCVTvPfWv1N; SUBP=0033WrSXqPxfM725Ws9jqgMF55529P9D9Wh4v8o11NG8buTpzWiFwCTy5NHD95QcSKMNeK27e0.pWs4Dqc_hi--fi-z7iKysi--NiK.4i-i2i--ciK.Ri-8si--Xi-zRi-8Wi--fi-z7iKysi--NiK.ci-8si--fi-82iK.7eK-Ne7tt; SSOLoginState=1657693890; MLOGIN=1; M_WEIBOCN_PARAMS=oid%3D4790777764645579%26lfid%3D102803%26luicode%3D20000174; XSRF-TOKEN=fb62db'\n",
    "    }\n",
    "    self.session.headers.update(self.headers)\n",
    "\n",
    "  def get_st(self):\n",
    "    config_headers = {\n",
    "      'origin': 'https://m.weibo.cn/',\n",
    "      'referer': 'https://m.weibo.cn/'\n",
    "    }\n",
    "    self.session.headers.update(config_headers)\n",
    "\n",
    "    config_req = self.session.get('https://m.weibo.cn/api/config')\n",
    "    config = config_req.json()\n",
    "    st = config['data']['st']\n",
    "    return st\n",
    "\n",
    "  def compose(self, content, st):\n",
    "    compose_headers = {\n",
    "      'origin': 'https://m.weibo.cn/',\n",
    "      'referer': 'https://m.weibo.cn/compose/',\n",
    "      'x-xsrf-token': st\n",
    "    }\n",
    "    self.session.headers.update(compose_headers)\n",
    "\n",
    "    compose_data = {\n",
    "      'content': content,\n",
    "      'st': st\n",
    "    }\n",
    "    compose_req = self.session.post('https://m.weibo.cn/api/statuses/update', data=compose_data)\n",
    "    print(compose_req.json())\n",
    "\n",
    "  def send(self, content):\n",
    "    st = self.get_st()\n",
    "    self.compose(content, st)\n",
    "\n",
    "weibo = WeiboSpider()\n",
    "weibo.send('本条微博由 Python 发送')"
   ]
  },
  {
   "cell_type": "markdown",
   "metadata": {},
   "source": [
    "可以看到，提示信息是 token校验失败。这个 token 又是什么东西？用来干嘛的？\n",
    "\n",
    "且听我说，token 是令牌的意思，一般用于验证请求来源的可靠性，也属于反爬虫措施。那么这个请求哪里存放了令牌信息呢？\n",
    "\n",
    "聪明的你肯定想到了请求头中的 x-xsrf-token，以及我们刚刚传入的 st 参数了吧！x-xsrf-token 的名字已经暗示了，它携带的就是 token 信息，而 st 参数的值总是和 x-xsrf-token 一致，所以携带的应该也是 token。\n",
    "\n",
    "我们再发一条微博来验证一下，看看 st 有什么规律。"
   ]
  },
  {
   "cell_type": "markdown",
   "metadata": {},
   "source": [
    "看到上面名称为 config 的请求了吗？每隔一段时间，微博会自动向 https://m.weibo.cn/api/config 地址发送 GET 请求，获取新 token 的值。我们之前的程序，可以说是拿着废弃令牌想通过微博这道“城门”。卫兵们自然不会放行了。"
   ]
  },
  {
   "cell_type": "markdown",
   "metadata": {},
   "source": []
  }
 ],
 "metadata": {
  "kernelspec": {
   "display_name": "Python 3.6.13 ('tensorflow')",
   "language": "python",
   "name": "python3"
  },
  "language_info": {
   "codemirror_mode": {
    "name": "ipython",
    "version": 3
   },
   "file_extension": ".py",
   "mimetype": "text/x-python",
   "name": "python",
   "nbconvert_exporter": "python",
   "pygments_lexer": "ipython3",
   "version": "3.6.13"
  },
  "orig_nbformat": 4,
  "vscode": {
   "interpreter": {
    "hash": "74973848420d399980c11f16a640d467c2e8f2266629d1ddb4e03d028dbfee73"
   }
  }
 },
 "nbformat": 4,
 "nbformat_minor": 2
}
