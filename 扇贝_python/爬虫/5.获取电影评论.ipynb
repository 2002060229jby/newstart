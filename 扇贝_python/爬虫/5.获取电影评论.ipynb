{
 "cells": [
  {
   "cell_type": "code",
   "execution_count": 1,
   "metadata": {},
   "outputs": [],
   "source": [
    "import requests\n",
    "from bs4 import BeautifulSoup\n",
    "\n",
    "headers = {\n",
    "  'user-agent': 'Mozilla/5.0 (Macintosh; Intel Mac OS X 10_13_6) AppleWebKit/537.36 (KHTML, like Gecko) Chrome/76.0.3809.132 Safari/537.36'\n",
    "}\n",
    "res = requests.get('http://movie.mtime.com/251525/reviews', headers=headers)\n",
    "soup = BeautifulSoup(res.text, 'html.parser')\n",
    "comments = soup.select('ul.list > li > div.contentBox > p.content')\n",
    "\n",
    "for comment in comments:\n",
    "  print(comment.text)"
   ]
  },
  {
   "cell_type": "markdown",
   "metadata": {},
   "source": [
    "那么，为什么在网页开发者工具中有评论的数据，而网页源代码中就没有呢？"
   ]
  },
  {
   "cell_type": "markdown",
   "metadata": {},
   "source": [
    "那这种实时改变的数据是怎样展现到我们面前的呢？这就是我们今天课程的重点——网页可以通过 API 获取数据，实时更新内容。API 即应用程序接口，它规定了网页与服务器之间可以交互什么数据、通过什么样的方式进行交互。\n",
    "\n",
    "为了找到评论的真正藏身之地，我们得先来看看开发者工具中的 Network。"
   ]
  },
  {
   "cell_type": "markdown",
   "metadata": {},
   "source": [
    "我们还可以点击每一个请求，查看每个请求的详细信息。详细信息里的 Response（响应）里是服务器返回的内容。第一个请求是网页，它的响应是网页源代码，即我们使用 requests.get() 获取到的 res.text 内容。"
   ]
  },
  {
   "cell_type": "markdown",
   "metadata": {},
   "source": [
    "因为一次性加载整个网站很慢，为了提升网页加载速度，有些网站将网站的骨架和内容拆分开，加载骨架后再通过多个请求获取内容，最终组成完整的网站。而有些老的网站或轻量级网站，仍然是一次性返回整个网站的内容，比如豆瓣。"
   ]
  },
  {
   "cell_type": "markdown",
   "metadata": {},
   "source": [
    "### 什么是 XHR"
   ]
  },
  {
   "cell_type": "markdown",
   "metadata": {},
   "source": [
    "XHR 全称 XMLHttpRequest，是浏览器内置的对象。浏览器想要在不刷新网页前提下加载、更新局部内容时，必须通过 XHR 向存放数据的服务器发送请求。"
   ]
  },
  {
   "cell_type": "markdown",
   "metadata": {},
   "source": [
    "接下来，跟上我的操作，我们一起在 XHR 中寻找评论。\n",
    "\n",
    "首先点击 Network 中的 XHR 过滤其他类型的请求。可以看到，仍然有很多的请求，我们要从中找到评论数据。笨一点的方法是一条一条地查看，直到找到评论的数据，但这样耗时又耗力。\n",
    "\n",
    "聪明一点的方法是通过名称来找，既然是评论的数据，请求名称中可能会带有 comment（评论），这样我们就能极大地缩小查找范围。"
   ]
  },
  {
   "cell_type": "markdown",
   "metadata": {},
   "source": [
    "还有一个小技巧是：由于数据是分页加载，我们可以先将请求记录清空，再点击下方分页导航的第 2 页，这样，加载第 2 页评论的请求说不定就会被我们“守株待兔”逮个正着。"
   ]
  },
  {
   "cell_type": "markdown",
   "metadata": {},
   "source": [
    "从图中我们可以看到，时光网规定了需要通过 GET 方法，向 Request URL 发送请求。点击第二页查看电影评论的行为，实际上是浏览器帮我们自动填充查询参数，向时光网获取短影评数据，参数详情为："
   ]
  },
  {
   "cell_type": "markdown",
   "metadata": {},
   "source": [
    "id 为 251525 (movieId=251525) ；\n",
    "第 2 页内容 (pageIndex=2)；\n",
    "每页 20 条 (pageSize=20)。\n",
    "遵循某种规则向指定 URL 发送请求，从而获得相应数据的过程，就是 通过 API 获取数据。\n",
    "\n",
    "下面的 Status Code 是状态码，之前说过，如果是 200，表示成功。其他信息我们无需关注。\n",
    "\n",
    "另外，为了防止被网站反爬，我们还要在 Headers 中观察一下 Request Headers（请求头），有两个参数要注意。"
   ]
  },
  {
   "cell_type": "markdown",
   "metadata": {},
   "source": [
    "user-agent 我们之前已经说过，用途是将爬虫伪装成浏览器；另外一个 referer 字段，字面意思是“发起者，发送人”，用来验证这个请求的发起方是否合法。也就是说，服务器要验证这个请求是由谁发出的，只接受从特写网页上发出该请求，比如这里就是时光网的网址。如果这个字段不加，可能会爬取失败。"
   ]
  },
  {
   "cell_type": "code",
   "execution_count": 2,
   "metadata": {},
   "outputs": [
    {
     "name": "stdout",
     "output_type": "stream",
     "text": [
      "{\"code\":0,\"data\":{\"count\":3317,\"hasMore\":true,\"list\":[{\"nickname\":\"瀛26000\",\"userImage\":\"https://img2.mtime.cn/u/285/2016285/7c677c7f-4503-42e9-a63f-683e9f97148c/128X128.jpg\",\"rating\":\"8.5\",\"content\":\"这是我看过的最有血有肉有人情味还紧跟时代潮流的一版哪吒了，没有金吒木吒只有哪吒，李靖没有让人讨厌的琵琶精小老婆，敖丙也不是奸淫掳掠无恶不作的龙二代，申公豹的口吃设计也承包了一部分笑点，太乙真人的火锅味\",\"memberLevel\":1,\"isTicket\":false,\"userRelation\":0,\"praiseDownCount\":0,\"isPraiseDown\":false,\"userId\":2016285,\"attitude\":0,\"praiseCount\":9,\"isPraise\":false,\"commentCount\":0,\"commentTime\":1564207492,\"mvpType\":1,\"commentId\":225032751,\"title\":null,\"isWantSee\":false,\"location\":null},{\"nickname\":\"王奋斗\",\"userImage\":\"http://img5.mtime.cn/up/2017/05/05/090951.70534399_128X128.jpg\",\"rating\":\"1.0\",\"content\":\"暴力狂，咒骂狂，虐待狂，嘲弄狂，自大狂，却被疯狂地拥趸与吹捧，只因为这些是内心充满狂暴而狂暴又被彻底压抑的人群。通过丑陋的主角、蠢笨的配角，释放了长期被压抑的狂暴，既获得了精神上的胜利，又获得了发泄后\",\"memberLevel\":2,\"isTicket\":false,\"userRelation\":0,\"praiseDownCount\":0,\"isPraiseDown\":false,\"userId\":3775866,\"attitude\":0,\"praiseCount\":8,\"isPraise\":false,\"commentCount\":0,\"commentTime\":1568783360,\"mvpType\":1,\"commentId\":223643316,\"title\":null,\"isWantSee\":false,\"location\":null},{\"nickname\":\"蓝白天下\",\"userImage\":\"http://img5.mtime.cn/up/2019/09/08/090648.13605250_128X128.jpg\",\"rating\":\"4.0\",\"content\":\"不建议14岁以下小朋友观看，内容创意但没有看到主角的努力和积极，画面暴力且像网游模式，哪吒痞气和愤怒对小朋友会有不好影响。作为一部动漫，没有积极乐观努力的主题和思想，画面无美感。\",\"memberLevel\":2,\"isTicket\":false,\"userRelation\":0,\"praiseDownCount\":0,\"isPraiseDown\":false,\"userId\":15778228,\"attitude\":0,\"praiseCount\":8,\"isPraise\":false,\"commentCount\":0,\"commentTime\":1567998395,\"mvpType\":1,\"commentId\":223963062,\"title\":null,\"isWantSee\":false,\"location\":null},{\"nickname\":\"梦舞悠风\",\"userImage\":\"https://img2.mtime.cn/u/135/2352135/cb3a715f-ad71-4ca5-ac67-e1315fac6294/128X128.jpg\",\"rating\":\"1.0\",\"content\":\"这个电影被捧得太高了，剧情、人设、主题、笑点，都有缺点，反而没什么亮眼的优点可以说，即使作为国产也难称优秀。\",\"memberLevel\":0,\"isTicket\":false,\"userRelation\":0,\"praiseDownCount\":0,\"isPraiseDown\":false,\"userId\":2352135,\"attitude\":0,\"praiseCount\":8,\"isPraise\":false,\"commentCount\":22,\"commentTime\":1565116425,\"mvpType\":1,\"commentId\":222864042,\"title\":null,\"isWantSee\":false,\"location\":null},{\"nickname\":\"pnxxumy\",\"userImage\":\"http://img5.mtime.cn/up/2020/02/29/051011.31207153_128X128.jpg\",\"rating\":\"10\",\"content\":\"真心不错啊，没想到国产动画片能做到这么好了——无论是画面、音效，还是故事情节、表演以及4D特效都堪称完美，特别是踢毽子的情节尤其经典……五星好评，为这样的国产动画片点赞！\",\"memberLevel\":3,\"isTicket\":true,\"userRelation\":0,\"praiseDownCount\":0,\"isPraiseDown\":false,\"userId\":14519944,\"attitude\":0,\"praiseCount\":8,\"isPraise\":false,\"commentCount\":1,\"commentTime\":1565021716,\"mvpType\":1,\"commentId\":225070561,\"title\":null,\"isWantSee\":false,\"location\":null},{\"nickname\":\"Mtime的疾风\",\"userImage\":\"http://img32.mtime.cn/up/2013/09/09/114709.69737615_128X128.jpg\",\"rating\":\"1.0\",\"content\":\"台词幼稚粗鄙，形象丑陋恶心，还真没看出来哪一点值得好评？还我一个正统的哪吒！不是什么“吒儿”！囧！！！\",\"memberLevel\":1,\"isTicket\":false,\"userRelation\":0,\"praiseDownCount\":0,\"isPraiseDown\":false,\"userId\":9093588,\"attitude\":0,\"praiseCount\":8,\"isPraise\":false,\"commentCount\":22,\"commentTime\":1564150059,\"mvpType\":1,\"commentId\":223514077,\"title\":null,\"isWantSee\":false,\"location\":null},{\"nickname\":\"林之章0096\",\"userImage\":\"http://img32.mtime.cn/up/2012/08/27/140916.87296390_128X128.jpg\",\"rating\":\"5.8\",\"content\":\"抱歉，非常无聊，不知道无畏的好评从哪里来，从头到尾全部都是无聊和低级，虽然要支持国漫，不过确实跟欧美动画差了很多。全片只有效果，幽默很低俗，感人的地方很低级，没有真正走心，非常肤浅。国产动画一如既往的\",\"memberLevel\":1,\"isTicket\":false,\"userRelation\":0,\"praiseDownCount\":0,\"isPraiseDown\":false,\"userId\":4003214,\"attitude\":0,\"praiseCount\":7,\"isPraise\":false,\"commentCount\":0,\"commentTime\":1570892996,\"mvpType\":1,\"commentId\":223848681,\"title\":null,\"isWantSee\":false,\"location\":null},{\"nickname\":\"海伦娜\",\"userImage\":\"https://img2.mtime.cn/u/1486/1231486/d02f2fee-1ec5-4db3-8d17-74b39464d03e/128X128.jpg\",\"rating\":\"8.0\",\"content\":\"对里头的一条深有同感，一个是申公豹的结巴、一个是娃娃音的壮汉，低级笑料抖的让人生理不适。经不起推敲这点如同很多好莱坞票房大热的电影一样，妇联四的时间轴也经不起推敲，可不妨碍他成为经典。能够引起这么激烈\",\"memberLevel\":0,\"isTicket\":false,\"userRelation\":0,\"praiseDownCount\":0,\"isPraiseDown\":false,\"userId\":1231486,\"attitude\":0,\"praiseCount\":7,\"isPraise\":false,\"commentCount\":1,\"commentTime\":1565229689,\"mvpType\":1,\"commentId\":225074250,\"title\":null,\"isWantSee\":false,\"location\":null},{\"nickname\":\"M_1508221453140451322\",\"userImage\":\"http://img32.mtime.cn/up/2015/08/22/145316.38564557_128X128.jpg\",\"rating\":\"9.0\",\"content\":\"可以作为一部儿童教育题材范本推广，如果每个家长都像哪吒的父母对待孩子耐心宽容，给予爱的方式不是溺爱而是以身作则晓之以理动之以情，如果每个老师都能像太乙真人有真正的教育情怀传授知识和为人之道，如果每个同\",\"memberLevel\":3,\"isTicket\":true,\"userRelation\":0,\"praiseDownCount\":0,\"isPraiseDown\":false,\"userId\":16142895,\"attitude\":0,\"praiseCount\":7,\"isPraise\":false,\"commentCount\":0,\"commentTime\":1565200671,\"mvpType\":1,\"commentId\":222866311,\"title\":null,\"isWantSee\":false,\"location\":null},{\"nickname\":\"秦岭深处\",\"userImage\":\"https://img2.mtime.cn/u/1/1532001/0453e2ff-1371-44b1-be20-2445fbe6e466/128X128.jpg\",\"rating\":\"3.0\",\"content\":\"各种丑，各种致敬周星驰，国漫被吹捧的也太高了吧。\",\"memberLevel\":1,\"isTicket\":false,\"userRelation\":0,\"praiseDownCount\":0,\"isPraiseDown\":false,\"userId\":1532001,\"attitude\":0,\"praiseCount\":7,\"isPraise\":false,\"commentCount\":9,\"commentTime\":1564959770,\"mvpType\":1,\"commentId\":225068917,\"title\":null,\"isWantSee\":false,\"location\":null},{\"nickname\":\"芥色\",\"userImage\":\"http://img5.mtime.cn/up/2018/06/18/163217.89095454_128X128.jpg\",\"rating\":\"6.7\",\"content\":\"觉得就很一般呀，虽然节奏挺紧的但剧情就牵强，很多地方的画面质感感觉也挺一般的。剧情和人物设计不如大圣，画面设计和质感不如大鱼海棠，算不了国漫巅峰吧。一直在吹的CP感觉也就那样，YY的多实际没啥，不过藕\",\"memberLevel\":1,\"isTicket\":false,\"userRelation\":0,\"praiseDownCount\":0,\"isPraiseDown\":false,\"userId\":3931904,\"attitude\":0,\"praiseCount\":7,\"isPraise\":false,\"commentCount\":6,\"commentTime\":1564795095,\"mvpType\":1,\"commentId\":222804784,\"title\":null,\"isWantSee\":false,\"location\":null},{\"nickname\":\"国庆电播小弟\",\"userImage\":\"http://img5.mtime.cn/up/2016/10/16/122219.90672917_128X128.jpg\",\"rating\":\"6.0\",\"content\":\"饶舌配音与不合时宜的尴尬笑点，让我对这部电影没有多少好感。\",\"memberLevel\":3,\"isTicket\":false,\"userRelation\":0,\"praiseDownCount\":0,\"isPraiseDown\":false,\"userId\":8782954,\"attitude\":0,\"praiseCount\":7,\"isPraise\":false,\"commentCount\":8,\"commentTime\":1564769683,\"mvpType\":1,\"commentId\":225055222,\"title\":null,\"isWantSee\":false,\"location\":null},{\"nickname\":\"李小毛\",\"userImage\":\"http://img5.mtime.cn/up/2019/07/30/164653.53651380_128X128.jpg\",\"rating\":\"7.0\",\"content\":\"过誉之作，搞笑部分太过刻意生硬，太乙的塑料普通话，申公豹的口吃，都好尬，还有屎尿屁出现的频率也太高了，以为是传统剧情，等着削骨还父削肉还母后狠狠感动一把，结果就一句，爹妈谢谢你们…虽然父子线也很感人…\",\"memberLevel\":1,\"isTicket\":false,\"userRelation\":0,\"praiseDownCount\":0,\"isPraiseDown\":false,\"userId\":3486393,\"attitude\":0,\"praiseCount\":7,\"isPraise\":false,\"commentCount\":4,\"commentTime\":1564473470,\"mvpType\":1,\"commentId\":223526555,\"title\":null,\"isWantSee\":false,\"location\":null},{\"nickname\":\"喋血情枭\",\"userImage\":\"http://img32.mtime.cn/up/2014/09/05/213342.20546498_128X128.jpg\",\"rating\":\"6.1\",\"content\":\"我命由我不由天！看的过程中我实在是频频忍不住想屏摄发朋友圈，给影片的主创人员点赞！没想到国产动画也能拍的如此震撼了，把哪吒的故事讲的精彩绝伦，画面剧情都是一流，故事发展自然，角色塑造毫不突兀。我要给这\",\"memberLevel\":1,\"isTicket\":false,\"userRelation\":0,\"praiseDownCount\":0,\"isPraiseDown\":false,\"userId\":4014845,\"attitude\":0,\"praiseCount\":7,\"isPraise\":false,\"commentCount\":12,\"commentTime\":1564453237,\"mvpType\":1,\"commentId\":222745991,\"title\":null,\"isWantSee\":false,\"location\":null},{\"nickname\":\"烟雨\",\"userImage\":\"http://img5.mtime.cn/up/2016/12/21/194635.12028549_128X128.jpg\",\"rating\":\"9.9\",\"content\":\"喜欢\",\"memberLevel\":1,\"isTicket\":false,\"userRelation\":0,\"praiseDownCount\":0,\"isPraiseDown\":false,\"userId\":3644835,\"attitude\":0,\"praiseCount\":7,\"isPraise\":false,\"commentCount\":0,\"commentTime\":1564187890,\"mvpType\":1,\"commentId\":223515202,\"title\":null,\"isWantSee\":false,\"location\":null},{\"nickname\":\"错误修正处\",\"userImage\":\"https://img2.mtime.cn/u/1814/2091814/358906fd-362f-4ade-8d6a-56b13d30cf5a/128X128.jpg\",\"rating\":\"9.0\",\"content\":\"好看，既感动又激动的电影\",\"memberLevel\":1,\"isTicket\":false,\"userRelation\":0,\"praiseDownCount\":0,\"isPraiseDown\":false,\"userId\":2091814,\"attitude\":0,\"praiseCount\":7,\"isPraise\":false,\"commentCount\":0,\"commentTime\":1564128847,\"mvpType\":1,\"commentId\":222686026,\"title\":null,\"isWantSee\":false,\"location\":null},{\"nickname\":\"老幸运lucky\",\"userImage\":\"http://img5.mtime.cn/up/2018/10/04/001813.32917370_128X128.jpg\",\"rating\":\"1.0\",\"content\":\"太不要脸了，还没下线\",\"memberLevel\":1,\"isTicket\":false,\"userRelation\":0,\"praiseDownCount\":0,\"isPraiseDown\":false,\"userId\":6107766,\"attitude\":0,\"praiseCount\":6,\"isPraise\":false,\"commentCount\":4,\"commentTime\":1570246100,\"mvpType\":1,\"commentId\":223783742,\"title\":null,\"isWantSee\":false,\"location\":null},{\"nickname\":\"舒克\",\"userImage\":\"https://img2.mtime.cn/u/1671/103671/b7425839-e8dc-4858-959a-da37254d0f43/128X128.jpg\",\"rating\":\"6.0\",\"content\":\"说实话，也就是玩的“颠覆”、“恶搞”、仿好莱坞那几个套路，整个片子尚显稚嫩，生生将哪吒弄成一个贻害乡里的小恶魔，以为“创新”，其实无趣！\",\"memberLevel\":3,\"isTicket\":false,\"userRelation\":0,\"praiseDownCount\":0,\"isPraiseDown\":false,\"userId\":103671,\"attitude\":0,\"praiseCount\":6,\"isPraise\":false,\"commentCount\":8,\"commentTime\":1566748060,\"mvpType\":2,\"commentId\":223055204,\"title\":null,\"isWantSee\":false,\"location\":null},{\"nickname\":\"Lv9Cocoa\",\"userImage\":\"http://img32.mtime.cn/up/2015/02/23/151945.87313047_128X128.jpg\",\"rating\":\"3.6\",\"content\":\"官僚思想。嘴遁。低级趣味。\",\"memberLevel\":1,\"isTicket\":true,\"userRelation\":0,\"praiseDownCount\":0,\"isPraiseDown\":false,\"userId\":13035203,\"attitude\":0,\"praiseCount\":6,\"isPraise\":false,\"commentCount\":5,\"commentTime\":1566293454,\"mvpType\":1,\"commentId\":225115691,\"title\":null,\"isWantSee\":false,\"location\":null},{\"nickname\":\"影友\",\"userImage\":\"https://img2.mtime.cn/images/default/head.gif\",\"rating\":\"5.5\",\"content\":\"真的很一般。模仿功夫熊猫的痕迹重。配音不太好，好多表情不是很到位。\",\"memberLevel\":0,\"isTicket\":false,\"userRelation\":0,\"praiseDownCount\":0,\"isPraiseDown\":false,\"userId\":1214538,\"attitude\":0,\"praiseCount\":6,\"isPraise\":false,\"commentCount\":9,\"commentTime\":1565956319,\"mvpType\":1,\"commentId\":223780887,\"title\":null,\"isWantSee\":false,\"location\":null}],\"auditingList\":[]},\"msg\":\"\",\"requestId\":\"62ce3fb3a54f8e8f5a76bd666f417cf6\"}\n"
     ]
    }
   ],
   "source": [
    "import requests\n",
    "\n",
    "headers = {\n",
    "  'user-agent': 'Mozilla/5.0 (Macintosh; Intel Mac OS X 10_13_6) AppleWebKit/537.36 (KHTML, like Gecko) Chrome/76.0.3809.132 Safari/537.36',\n",
    "  'referer': 'http://movie.mtime.com/'\n",
    "}\n",
    "res = requests.get('http://front-gateway.mtime.com/library/movie/comment.api?tt=1641893701852&movieId=251525&pageIndex=2&pageSize=20&orderType=1', headers=headers)\n",
    "print(res.text)"
   ]
  },
  {
   "cell_type": "markdown",
   "metadata": {},
   "source": [
    "链接中的 tt=1641893701852&movieId=251525&pageIndex=2&pageSize=20&orderType=1，可以拆分成一个字典："
   ]
  },
  {
   "cell_type": "code",
   "execution_count": null,
   "metadata": {},
   "outputs": [],
   "source": [
    "params = {\n",
    "  \"tt\": \"1641893701852\",\n",
    "  \"movieId\": \"251525\",\n",
    "  \"pageIndex\": \"2\",\n",
    "  \"pageSize\": \"20\",\n",
    "  \"orderType\": \"1\"\n",
    "}\n",
    "\n",
    "res = requests.get(\n",
    "  'http://front-gateway.mtime.com/library/movie/comment.api',\n",
    "  params=params,\n",
    "  headers=headers\n",
    ")"
   ]
  },
  {
   "cell_type": "markdown",
   "metadata": {},
   "source": [
    "五个参数中，movieId pageIndex pageSize 的意义我们可以根据字面意思猜到，应该分别代表 电影在时光网中的 ID，评论的第x页 和 每页评论数。\n",
    "\n",
    "电影的页面地址  中的 251525 和 movieId 的值一致，可以作为佐证。\n",
    "\n",
    "那剩下的 orderType 和 tt 是什么？\n",
    "\n",
    "orderType 字面意思是排序方式，而我们发现，短影评页的右上方的确是有这个选项的。值为 1 代表的应该就是按最热排序。"
   ]
  },
  {
   "cell_type": "markdown",
   "metadata": {},
   "source": [
    "剩下的 tt 参数，如果对编程不熟悉，可能毫无头绪。老师只能通过经验判断可能是 Unix 时间戳，依据有三个：\n",
    "\n",
    "以 15、16、17 开头，是长整数，与当下时间戳的开头值相符；\n",
    "字母 t 本身也可能和 time（时间）有关；\n",
    "多次尝试刷新网页，重复发起请求，发现 tt 的值每次都在变大，非常像时间的增长。\n",
    "提示：Unix 时间戳是指格林威治时间 1970 年 01 月 01 日 00 时 00 分 00 秒起至现在的总秒数。在 Python 基础课第 22 关已经学过了相关模块 time 的使用，同学们可以复习一下。\n",
    "\n",
    "老师在分析网页时，请求中的 tt 的值是 1641893701852（到你学的时候数值肯定又不一样了），为了验证这个数字是不是时间戳，老师试着调用 time 模块，打印了下当前的时间戳，两两对比："
   ]
  },
  {
   "cell_type": "code",
   "execution_count": 3,
   "metadata": {},
   "outputs": [
    {
     "name": "stdout",
     "output_type": "stream",
     "text": [
      "1657684062.7475836\n"
     ]
    }
   ],
   "source": [
    "import time\n",
    "print(time.time())\n",
    "# 输出：1641896195.016945"
   ]
  },
  {
   "cell_type": "markdown",
   "metadata": {},
   "source": [
    "两个数字的前几位几乎一模一样！那几乎可以肯定 tt 就是时间戳了。我们知道，python 打印出的当前时间是以秒为单位，整数部分一共 10 位，而 tt 的值 1641893701852 是 13 位，那单位可能是毫秒。"
   ]
  },
  {
   "cell_type": "markdown",
   "metadata": {},
   "source": [
    "果然，就是老师当时解析网页请求的时间。\n",
    "\n",
    "获取评论的请求为什么要带上当前的时间戳？具体原因老师也不知道，可能是为了验证请求是否过期——如果当前时间戳与服务器时间差距过大，服务器可能认为是非法的过期请求，从而拒绝返回结果（猜想而已）。"
   ]
  },
  {
   "cell_type": "code",
   "execution_count": 4,
   "metadata": {},
   "outputs": [
    {
     "name": "stdout",
     "output_type": "stream",
     "text": [
      "{\"code\":0,\"data\":{\"count\":3317,\"hasMore\":true,\"list\":[{\"nickname\":\"瀛26000\",\"userImage\":\"https://img2.mtime.cn/u/285/2016285/7c677c7f-4503-42e9-a63f-683e9f97148c/128X128.jpg\",\"rating\":\"8.5\",\"content\":\"这是我看过的最有血有肉有人情味还紧跟时代潮流的一版哪吒了，没有金吒木吒只有哪吒，李靖没有让人讨厌的琵琶精小老婆，敖丙也不是奸淫掳掠无恶不作的龙二代，申公豹的口吃设计也承包了一部分笑点，太乙真人的火锅味\",\"memberLevel\":1,\"isTicket\":false,\"userRelation\":0,\"praiseDownCount\":0,\"isPraiseDown\":false,\"userId\":2016285,\"attitude\":0,\"praiseCount\":9,\"isPraise\":false,\"commentCount\":0,\"commentTime\":1564207492,\"mvpType\":1,\"commentId\":225032751,\"title\":null,\"isWantSee\":false,\"location\":null},{\"nickname\":\"王奋斗\",\"userImage\":\"http://img5.mtime.cn/up/2017/05/05/090951.70534399_128X128.jpg\",\"rating\":\"1.0\",\"content\":\"暴力狂，咒骂狂，虐待狂，嘲弄狂，自大狂，却被疯狂地拥趸与吹捧，只因为这些是内心充满狂暴而狂暴又被彻底压抑的人群。通过丑陋的主角、蠢笨的配角，释放了长期被压抑的狂暴，既获得了精神上的胜利，又获得了发泄后\",\"memberLevel\":2,\"isTicket\":false,\"userRelation\":0,\"praiseDownCount\":0,\"isPraiseDown\":false,\"userId\":3775866,\"attitude\":0,\"praiseCount\":8,\"isPraise\":false,\"commentCount\":0,\"commentTime\":1568783360,\"mvpType\":1,\"commentId\":223643316,\"title\":null,\"isWantSee\":false,\"location\":null},{\"nickname\":\"蓝白天下\",\"userImage\":\"http://img5.mtime.cn/up/2019/09/08/090648.13605250_128X128.jpg\",\"rating\":\"4.0\",\"content\":\"不建议14岁以下小朋友观看，内容创意但没有看到主角的努力和积极，画面暴力且像网游模式，哪吒痞气和愤怒对小朋友会有不好影响。作为一部动漫，没有积极乐观努力的主题和思想，画面无美感。\",\"memberLevel\":2,\"isTicket\":false,\"userRelation\":0,\"praiseDownCount\":0,\"isPraiseDown\":false,\"userId\":15778228,\"attitude\":0,\"praiseCount\":8,\"isPraise\":false,\"commentCount\":0,\"commentTime\":1567998395,\"mvpType\":1,\"commentId\":223963062,\"title\":null,\"isWantSee\":false,\"location\":null},{\"nickname\":\"梦舞悠风\",\"userImage\":\"https://img2.mtime.cn/u/135/2352135/cb3a715f-ad71-4ca5-ac67-e1315fac6294/128X128.jpg\",\"rating\":\"1.0\",\"content\":\"这个电影被捧得太高了，剧情、人设、主题、笑点，都有缺点，反而没什么亮眼的优点可以说，即使作为国产也难称优秀。\",\"memberLevel\":0,\"isTicket\":false,\"userRelation\":0,\"praiseDownCount\":0,\"isPraiseDown\":false,\"userId\":2352135,\"attitude\":0,\"praiseCount\":8,\"isPraise\":false,\"commentCount\":22,\"commentTime\":1565116425,\"mvpType\":1,\"commentId\":222864042,\"title\":null,\"isWantSee\":false,\"location\":null},{\"nickname\":\"pnxxumy\",\"userImage\":\"http://img5.mtime.cn/up/2020/02/29/051011.31207153_128X128.jpg\",\"rating\":\"10\",\"content\":\"真心不错啊，没想到国产动画片能做到这么好了——无论是画面、音效，还是故事情节、表演以及4D特效都堪称完美，特别是踢毽子的情节尤其经典……五星好评，为这样的国产动画片点赞！\",\"memberLevel\":3,\"isTicket\":true,\"userRelation\":0,\"praiseDownCount\":0,\"isPraiseDown\":false,\"userId\":14519944,\"attitude\":0,\"praiseCount\":8,\"isPraise\":false,\"commentCount\":1,\"commentTime\":1565021716,\"mvpType\":1,\"commentId\":225070561,\"title\":null,\"isWantSee\":false,\"location\":null},{\"nickname\":\"Mtime的疾风\",\"userImage\":\"http://img32.mtime.cn/up/2013/09/09/114709.69737615_128X128.jpg\",\"rating\":\"1.0\",\"content\":\"台词幼稚粗鄙，形象丑陋恶心，还真没看出来哪一点值得好评？还我一个正统的哪吒！不是什么“吒儿”！囧！！！\",\"memberLevel\":1,\"isTicket\":false,\"userRelation\":0,\"praiseDownCount\":0,\"isPraiseDown\":false,\"userId\":9093588,\"attitude\":0,\"praiseCount\":8,\"isPraise\":false,\"commentCount\":22,\"commentTime\":1564150059,\"mvpType\":1,\"commentId\":223514077,\"title\":null,\"isWantSee\":false,\"location\":null},{\"nickname\":\"林之章0096\",\"userImage\":\"http://img32.mtime.cn/up/2012/08/27/140916.87296390_128X128.jpg\",\"rating\":\"5.8\",\"content\":\"抱歉，非常无聊，不知道无畏的好评从哪里来，从头到尾全部都是无聊和低级，虽然要支持国漫，不过确实跟欧美动画差了很多。全片只有效果，幽默很低俗，感人的地方很低级，没有真正走心，非常肤浅。国产动画一如既往的\",\"memberLevel\":1,\"isTicket\":false,\"userRelation\":0,\"praiseDownCount\":0,\"isPraiseDown\":false,\"userId\":4003214,\"attitude\":0,\"praiseCount\":7,\"isPraise\":false,\"commentCount\":0,\"commentTime\":1570892996,\"mvpType\":1,\"commentId\":223848681,\"title\":null,\"isWantSee\":false,\"location\":null},{\"nickname\":\"海伦娜\",\"userImage\":\"https://img2.mtime.cn/u/1486/1231486/d02f2fee-1ec5-4db3-8d17-74b39464d03e/128X128.jpg\",\"rating\":\"8.0\",\"content\":\"对里头的一条深有同感，一个是申公豹的结巴、一个是娃娃音的壮汉，低级笑料抖的让人生理不适。经不起推敲这点如同很多好莱坞票房大热的电影一样，妇联四的时间轴也经不起推敲，可不妨碍他成为经典。能够引起这么激烈\",\"memberLevel\":0,\"isTicket\":false,\"userRelation\":0,\"praiseDownCount\":0,\"isPraiseDown\":false,\"userId\":1231486,\"attitude\":0,\"praiseCount\":7,\"isPraise\":false,\"commentCount\":1,\"commentTime\":1565229689,\"mvpType\":1,\"commentId\":225074250,\"title\":null,\"isWantSee\":false,\"location\":null},{\"nickname\":\"M_1508221453140451322\",\"userImage\":\"http://img32.mtime.cn/up/2015/08/22/145316.38564557_128X128.jpg\",\"rating\":\"9.0\",\"content\":\"可以作为一部儿童教育题材范本推广，如果每个家长都像哪吒的父母对待孩子耐心宽容，给予爱的方式不是溺爱而是以身作则晓之以理动之以情，如果每个老师都能像太乙真人有真正的教育情怀传授知识和为人之道，如果每个同\",\"memberLevel\":3,\"isTicket\":true,\"userRelation\":0,\"praiseDownCount\":0,\"isPraiseDown\":false,\"userId\":16142895,\"attitude\":0,\"praiseCount\":7,\"isPraise\":false,\"commentCount\":0,\"commentTime\":1565200671,\"mvpType\":1,\"commentId\":222866311,\"title\":null,\"isWantSee\":false,\"location\":null},{\"nickname\":\"秦岭深处\",\"userImage\":\"https://img2.mtime.cn/u/1/1532001/0453e2ff-1371-44b1-be20-2445fbe6e466/128X128.jpg\",\"rating\":\"3.0\",\"content\":\"各种丑，各种致敬周星驰，国漫被吹捧的也太高了吧。\",\"memberLevel\":1,\"isTicket\":false,\"userRelation\":0,\"praiseDownCount\":0,\"isPraiseDown\":false,\"userId\":1532001,\"attitude\":0,\"praiseCount\":7,\"isPraise\":false,\"commentCount\":9,\"commentTime\":1564959770,\"mvpType\":1,\"commentId\":225068917,\"title\":null,\"isWantSee\":false,\"location\":null},{\"nickname\":\"芥色\",\"userImage\":\"http://img5.mtime.cn/up/2018/06/18/163217.89095454_128X128.jpg\",\"rating\":\"6.7\",\"content\":\"觉得就很一般呀，虽然节奏挺紧的但剧情就牵强，很多地方的画面质感感觉也挺一般的。剧情和人物设计不如大圣，画面设计和质感不如大鱼海棠，算不了国漫巅峰吧。一直在吹的CP感觉也就那样，YY的多实际没啥，不过藕\",\"memberLevel\":1,\"isTicket\":false,\"userRelation\":0,\"praiseDownCount\":0,\"isPraiseDown\":false,\"userId\":3931904,\"attitude\":0,\"praiseCount\":7,\"isPraise\":false,\"commentCount\":6,\"commentTime\":1564795095,\"mvpType\":1,\"commentId\":222804784,\"title\":null,\"isWantSee\":false,\"location\":null},{\"nickname\":\"国庆电播小弟\",\"userImage\":\"http://img5.mtime.cn/up/2016/10/16/122219.90672917_128X128.jpg\",\"rating\":\"6.0\",\"content\":\"饶舌配音与不合时宜的尴尬笑点，让我对这部电影没有多少好感。\",\"memberLevel\":3,\"isTicket\":false,\"userRelation\":0,\"praiseDownCount\":0,\"isPraiseDown\":false,\"userId\":8782954,\"attitude\":0,\"praiseCount\":7,\"isPraise\":false,\"commentCount\":8,\"commentTime\":1564769683,\"mvpType\":1,\"commentId\":225055222,\"title\":null,\"isWantSee\":false,\"location\":null},{\"nickname\":\"李小毛\",\"userImage\":\"http://img5.mtime.cn/up/2019/07/30/164653.53651380_128X128.jpg\",\"rating\":\"7.0\",\"content\":\"过誉之作，搞笑部分太过刻意生硬，太乙的塑料普通话，申公豹的口吃，都好尬，还有屎尿屁出现的频率也太高了，以为是传统剧情，等着削骨还父削肉还母后狠狠感动一把，结果就一句，爹妈谢谢你们…虽然父子线也很感人…\",\"memberLevel\":1,\"isTicket\":false,\"userRelation\":0,\"praiseDownCount\":0,\"isPraiseDown\":false,\"userId\":3486393,\"attitude\":0,\"praiseCount\":7,\"isPraise\":false,\"commentCount\":4,\"commentTime\":1564473470,\"mvpType\":1,\"commentId\":223526555,\"title\":null,\"isWantSee\":false,\"location\":null},{\"nickname\":\"喋血情枭\",\"userImage\":\"http://img32.mtime.cn/up/2014/09/05/213342.20546498_128X128.jpg\",\"rating\":\"6.1\",\"content\":\"我命由我不由天！看的过程中我实在是频频忍不住想屏摄发朋友圈，给影片的主创人员点赞！没想到国产动画也能拍的如此震撼了，把哪吒的故事讲的精彩绝伦，画面剧情都是一流，故事发展自然，角色塑造毫不突兀。我要给这\",\"memberLevel\":1,\"isTicket\":false,\"userRelation\":0,\"praiseDownCount\":0,\"isPraiseDown\":false,\"userId\":4014845,\"attitude\":0,\"praiseCount\":7,\"isPraise\":false,\"commentCount\":12,\"commentTime\":1564453237,\"mvpType\":1,\"commentId\":222745991,\"title\":null,\"isWantSee\":false,\"location\":null},{\"nickname\":\"烟雨\",\"userImage\":\"http://img5.mtime.cn/up/2016/12/21/194635.12028549_128X128.jpg\",\"rating\":\"9.9\",\"content\":\"喜欢\",\"memberLevel\":1,\"isTicket\":false,\"userRelation\":0,\"praiseDownCount\":0,\"isPraiseDown\":false,\"userId\":3644835,\"attitude\":0,\"praiseCount\":7,\"isPraise\":false,\"commentCount\":0,\"commentTime\":1564187890,\"mvpType\":1,\"commentId\":223515202,\"title\":null,\"isWantSee\":false,\"location\":null},{\"nickname\":\"错误修正处\",\"userImage\":\"https://img2.mtime.cn/u/1814/2091814/358906fd-362f-4ade-8d6a-56b13d30cf5a/128X128.jpg\",\"rating\":\"9.0\",\"content\":\"好看，既感动又激动的电影\",\"memberLevel\":1,\"isTicket\":false,\"userRelation\":0,\"praiseDownCount\":0,\"isPraiseDown\":false,\"userId\":2091814,\"attitude\":0,\"praiseCount\":7,\"isPraise\":false,\"commentCount\":0,\"commentTime\":1564128847,\"mvpType\":1,\"commentId\":222686026,\"title\":null,\"isWantSee\":false,\"location\":null},{\"nickname\":\"老幸运lucky\",\"userImage\":\"http://img5.mtime.cn/up/2018/10/04/001813.32917370_128X128.jpg\",\"rating\":\"1.0\",\"content\":\"太不要脸了，还没下线\",\"memberLevel\":1,\"isTicket\":false,\"userRelation\":0,\"praiseDownCount\":0,\"isPraiseDown\":false,\"userId\":6107766,\"attitude\":0,\"praiseCount\":6,\"isPraise\":false,\"commentCount\":4,\"commentTime\":1570246100,\"mvpType\":1,\"commentId\":223783742,\"title\":null,\"isWantSee\":false,\"location\":null},{\"nickname\":\"舒克\",\"userImage\":\"https://img2.mtime.cn/u/1671/103671/b7425839-e8dc-4858-959a-da37254d0f43/128X128.jpg\",\"rating\":\"6.0\",\"content\":\"说实话，也就是玩的“颠覆”、“恶搞”、仿好莱坞那几个套路，整个片子尚显稚嫩，生生将哪吒弄成一个贻害乡里的小恶魔，以为“创新”，其实无趣！\",\"memberLevel\":3,\"isTicket\":false,\"userRelation\":0,\"praiseDownCount\":0,\"isPraiseDown\":false,\"userId\":103671,\"attitude\":0,\"praiseCount\":6,\"isPraise\":false,\"commentCount\":8,\"commentTime\":1566748060,\"mvpType\":2,\"commentId\":223055204,\"title\":null,\"isWantSee\":false,\"location\":null},{\"nickname\":\"Lv9Cocoa\",\"userImage\":\"http://img32.mtime.cn/up/2015/02/23/151945.87313047_128X128.jpg\",\"rating\":\"3.6\",\"content\":\"官僚思想。嘴遁。低级趣味。\",\"memberLevel\":1,\"isTicket\":true,\"userRelation\":0,\"praiseDownCount\":0,\"isPraiseDown\":false,\"userId\":13035203,\"attitude\":0,\"praiseCount\":6,\"isPraise\":false,\"commentCount\":5,\"commentTime\":1566293454,\"mvpType\":1,\"commentId\":225115691,\"title\":null,\"isWantSee\":false,\"location\":null},{\"nickname\":\"影友\",\"userImage\":\"https://img2.mtime.cn/images/default/head.gif\",\"rating\":\"5.5\",\"content\":\"真的很一般。模仿功夫熊猫的痕迹重。配音不太好，好多表情不是很到位。\",\"memberLevel\":0,\"isTicket\":false,\"userRelation\":0,\"praiseDownCount\":0,\"isPraiseDown\":false,\"userId\":1214538,\"attitude\":0,\"praiseCount\":6,\"isPraise\":false,\"commentCount\":9,\"commentTime\":1565956319,\"mvpType\":1,\"commentId\":223780887,\"title\":null,\"isWantSee\":false,\"location\":null}],\"auditingList\":[]},\"msg\":\"\",\"requestId\":\"62ce40ade9dbc2433f1da654b5f1d48e\"}\n"
     ]
    }
   ],
   "source": [
    "import requests\n",
    "import time\n",
    "\n",
    "headers = {\n",
    "  'user-agent': 'Mozilla/5.0 (Macintosh; Intel Mac OS X 10_13_6) AppleWebKit/537.36 (KHTML, like Gecko) Chrome/76.0.3809.132 Safari/537.36',\n",
    "  'referer': 'http://movie.mtime.com/'\n",
    "}\n",
    "\n",
    "params = {\n",
    "  # 将当前时间戳转为毫秒后取整，作为 tt 的值\n",
    "  \"tt\": \"{}\".format(int(time.time() * 1000)),\n",
    "  \"movieId\": \"251525\",\n",
    "  \"pageIndex\": \"2\",\n",
    "  \"pageSize\": \"20\",\n",
    "  \"orderType\": \"1\"\n",
    "}\n",
    "\n",
    "res = requests.get(\n",
    "  'http://front-gateway.mtime.com/library/movie/comment.api',\n",
    "  params=params,\n",
    "  headers=headers)\n",
    "print(res.text)"
   ]
  },
  {
   "cell_type": "code",
   "execution_count": 5,
   "metadata": {},
   "outputs": [
    {
     "name": "stdout",
     "output_type": "stream",
     "text": [
      "<class 'str'>\n"
     ]
    }
   ],
   "source": [
    "print(type(res.text)) #所以，从打印结果上看，res.text 是多层级的字典吗？并不是，只是长得像字典的字符串罢了，我们可以验证一下\n",
    "# 输出：<class 'str'> "
   ]
  },
  {
   "cell_type": "markdown",
   "metadata": {},
   "source": [
    "这种长得像字典的字符串，是一种名为 JSON 的数据格式。我们需要将其转换成真正的 字典/列表，才能从中提取出评论数据。所以，接下来我们学习 JSON 来将其转换成字典/列表。"
   ]
  },
  {
   "cell_type": "markdown",
   "metadata": {},
   "source": [
    "### 什么是 JSON"
   ]
  },
  {
   "cell_type": "markdown",
   "metadata": {},
   "source": [
    "JSON（JavaScript Object Notation）是一种轻量级的数据交换格式。 易于人阅读和编写，同时也易于机器解析和生成。\n",
    "\n",
    "JSON 建构于两种结构：键值对的集合 和 值的有序列表，分别对应 Python 里的字典和列表，这些都是常见的数据结构。大部分现代计算机语言都支持 JSON，所以 JSON 是在编程语言之间通用的数据格式。\n",
    "\n",
    "JSON 本质上就是一个字符串，只是该字符串符合特定的格式要求。也就是说，我们将字典、列表等用字符串的形式写出来就是 JSON，就像下面这样："
   ]
  },
  {
   "cell_type": "code",
   "execution_count": null,
   "metadata": {},
   "outputs": [],
   "source": [
    "# 字典\n",
    "dict = {'price': 233}\n",
    "\n",
    "# JSON\n",
    "json = '{\"price\": 233}'\n",
    "\n",
    "# 列表\n",
    "list = ['x', 'y', 'z']\n",
    "\n",
    "# JSON\n",
    "json = '[\"x\", \"y\", \"z\"]'\n",
    "Tips：Python 字符串使用单引号或双引号没有区别，但 JSON 中，字符串必须使用英文的双引号来包裹。"
   ]
  },
  {
   "cell_type": "markdown",
   "metadata": {},
   "source": [
    "你可能会有疑问，为什么不直接写成字典或列表，而非要写成 JSON 呢？这是因为不同编程语言的数据结构是不一样的，Python 的字典和列表在别的语言中可能并不写成这样。\n",
    "\n",
    "而 JSON 是一种标准，规定了基本数据结构的写法，不同的编程语言拿到后解析成自己对应的数据结构即可。JSON 就像普通话，而不同语言的数据结构是方言。普通话是大家都能听懂的，而方言不能。"
   ]
  },
  {
   "cell_type": "markdown",
   "metadata": {},
   "source": [
    "### 如何解析 JSON"
   ]
  },
  {
   "cell_type": "markdown",
   "metadata": {},
   "source": [
    "JSON 响应内容的介绍如下，通过调用 json() 方法即可对响应内容解码，当然内容必须得是 JSON 格式的，否则将会报错。"
   ]
  },
  {
   "cell_type": "code",
   "execution_count": 6,
   "metadata": {},
   "outputs": [
    {
     "name": "stdout",
     "output_type": "stream",
     "text": [
      "<class 'dict'>\n"
     ]
    }
   ],
   "source": [
    "import requests\n",
    "import time\n",
    "\n",
    "headers = {\n",
    "  'user-agent': 'Mozilla/5.0 (Macintosh; Intel Mac OS X 10_13_6) AppleWebKit/537.36 (KHTML, like Gecko) Chrome/76.0.3809.132 Safari/537.36',\n",
    "  'referer': 'http://movie.mtime.com/'\n",
    "}\n",
    "params = {\n",
    "  # 将当前时间戳转为毫秒后取整，作为 tt 的值\n",
    "  \"tt\": \"{}\".format(int(time.time() * 1000)),\n",
    "  \"movieId\": \"251525\",\n",
    "  \"pageIndex\": \"2\",\n",
    "  \"pageSize\": \"20\",\n",
    "  \"orderType\": \"1\"\n",
    "}\n",
    "\n",
    "res = requests.get(\n",
    "  'http://front-gateway.mtime.com/library/movie/comment.api',\n",
    "  params=params,\n",
    "  headers=headers)\n",
    "  \n",
    "print(type(res.json()))\n",
    "# 输出：<class 'dict'>"
   ]
  },
  {
   "cell_type": "code",
   "execution_count": 11,
   "metadata": {},
   "outputs": [
    {
     "name": "stdout",
     "output_type": "stream",
     "text": [
      "这是我看过的最有血有肉有人情味还紧跟时代潮流的一版哪吒了，没有金吒木吒只有哪吒，李靖没有让人讨厌的琵琶精小老婆，敖丙也不是奸淫掳掠无恶不作的龙二代，申公豹的口吃设计也承包了一部分笑点，太乙真人的火锅味\n",
      "瀛26000\n"
     ]
    }
   ],
   "source": [
    "result = res.json()\n",
    "print(result['data']['list'][0]['content'])\n",
    "print(result['data']['list'][0]['nickname'])"
   ]
  },
  {
   "cell_type": "code",
   "execution_count": 13,
   "metadata": {},
   "outputs": [
    {
     "name": "stdout",
     "output_type": "stream",
     "text": [
      "用户： 二哈排骨精\n",
      "评论： 10年磨一剑，干翻迪斯尼\n",
      "用户： JackieChen\n",
      "评论： 一般般的动画电影，水军吹捧过头就不好了。真当有些人看了那么多年美漫和日漫 白看的？真当我们没见识？\n",
      "用户： 麻匪118\n",
      "评论： 中国式家庭典型代表，全村人的希望敖丙和我儿子再淘气也小可爱哪吒，史上最人性李靖，最可怜龙王，最接地气太乙金仙，最像男孩子的哪吒，哈哈哈，完美，必须二刷！\n",
      "用户： 龚大叔\n",
      "评论： 那些觉得不好看的，我只有用四川话回你：你晓得个锤子\n",
      "用户： 天狼星上的眼镜猴\n",
      "评论： 好好教育孩子，否则天雷来劈渣儿的时候都没人帮忙\n",
      "用户： 银瞳\n",
      "评论： 厅不错 音效画面都好 也没有小孩吵 电话响 问剧情 在国内看动画很久没有这么好的观影体验了 武戏分镜动作设计可圈可点 特别是江山图里四个人冻成冰球的段落很惊喜 可惜文戏让人如坐针毡 开场不到10分钟段\n",
      "用户： jass\n",
      "评论： 中国动画史上最悲怆的一幕：哪吒愤而举剑，割喉自杀。 今天的哪吒喊着 我命由我不由天，有点为赋新词强说愁的意思。艺术作品脱离了大时代背景，永远不可能成为真正意义上的经典。\n",
      "用户： 心亦恋\n",
      "评论： 休说苍天不由人，我命由我不由天。 视觉盛宴催旧泪，国漫希望谱新篇。\n",
      "用户： 路见很平\n",
      "评论： 都在说好，看了不过如此，风格不统一，过于糅杂，台词也尬得要命，从头到尾不舒服看不下去，编剧想让NPC怎样就怎样，完全不管人的行事逻辑，就最后的特效还行。总体不如同门的大圣归来，更不如彩条屋最出彩的大护\n",
      "用户： 苗乐乐MiuMiu\n",
      "评论： 每次大热电影出现都是言过其实了，跟风吹的人不必跟风黑的人少。故事上基本是胡编乱造毁名著，情感上可取的地方是没有过分煽情，但又有时幽默的不是地方，情感的拿捏比电影技术本身难多了。这个电影放到好莱坞水准衡\n",
      "用户： 浪子回头金不换\n",
      "评论： 前两天有位好友推荐看，加上这两天多方媒体好评报导，特别是时光网评分达到8.4，好奇释然，去了影院一观。看到了国产动画的进步，但是3D效果没做好，达不到真正的3D效果。剧情普通，没有惊喜感，从头看到尾令\n",
      "用户： M_1504121653263072768\n",
      "评论： 没想到一年多之后重返电影院看的第一部电影是国产动画片，还是一部这么好看的片子，好看到什么程度呢，我刚走出影厅，听到隔壁影厅哪吒的声音，我居然想溜进去再看一遍！整个故事情节编的好“圆”，没有觉得一丝多余\n",
      "用户： Lyadz\n",
      "评论： 删掉那个反复出现的娘娘腔还能再加0.5分\n",
      "用户： SebMia\n",
      "评论： 前半小时让人坐立不安，过分刻意网络化的对白让人出戏，目的性太强的想把观众逗笑反而把剧作水准拉下了一个层次。角色配音上，语调生硬，缺乏温度，尤其夫人的配音，实在是干瘪突兀。但后半段影片渐入佳境，最后的几\n",
      "用户： Phillip-科卢基\n",
      "评论： 个人看过的最好的国产动画，同类型里远超大圣，力压白蛇、侠岚。期待封神宇宙崛起\n",
      "用户： jack1980\n",
      "评论： 这个预告片，感觉故事有点老套狗血，跟从前的为大义自刎有很大出入，这让我有点接受不了，与其这样，不如单独设计一个新的形象，借哪吒的壳而不用哪吒的魂，还不如不用\n",
      "用户： naro\n",
      "评论： 我选择看十遍宝莲灯回血。。这尼玛还能冠军，現在這些编剧简直毫无价值观和幽默感，粗鄙的台词毫无逻辑的人物刻画(特别是母亲和神仙)各种不合时宜下三路又无趣的梗还反复出现，更不要提人物感情的逻辑转化等于没有\n",
      "用户： 卡卡罗特\n",
      "评论： 刚刚看完，比我预想中的好很多，没想到中国动画制作已经进步到这个地步了，光看画面特效已经接近好莱坞级别了。全片节奏也不错，有笑点，打斗非常丰富，人设不错，性格较饱满。缺点，故事算不上那么有趣，不过也还能\n",
      "用户： 暗夜清灵\n",
      "评论： 关在府里无事干，翻墙捣瓦摔瓶罐。 来来回回千百遍，小爷也是很疲倦。 我是小妖怪，逍遥又自在。 杀人不眨眼，吃人不放盐。 一口七八个，肚子要撑破。 茅房要拉屎，想起忘带纸。 生活你全是泪，没死就得活受罪\n",
      "用户： 涉抄无显\n",
      "评论： 适合高中及以下年龄段观看，而且全场多处尬场\n"
     ]
    }
   ],
   "source": [
    "import requests\n",
    "import time\n",
    "\n",
    "headers = {\n",
    "  'user-agent': 'Mozilla/5.0 (Macintosh; Intel Mac OS X 10_13_6) AppleWebKit/537.36 (KHTML, like Gecko) Chrome/76.0.3809.132 Safari/537.36',\n",
    "  'referer': 'http://movie.mtime.com/'\n",
    "}\n",
    "params = {\n",
    "  # 将当前时间戳转为毫秒后取整，作为 tt 的值\n",
    "  \"tt\": \"{}\".format(int(time.time() * 1000)),\n",
    "  \"movieId\": \"251525\",\n",
    "  \"pageIndex\": \"1\",\n",
    "  \"pageSize\": \"20\",\n",
    "  \"orderType\": \"1\"\n",
    "}\n",
    "\n",
    "res = requests.get(\n",
    "  'http://front-gateway.mtime.com/library/movie/comment.api',\n",
    "  params=params,\n",
    "  headers=headers)\n",
    "\n",
    "comment_list = res.json()['data']['list']\n",
    "for i in comment_list:\n",
    "  print(\"用户：\", i['nickname'])\n",
    "  print(\"评论：\", i['content'])"
   ]
  },
  {
   "cell_type": "markdown",
   "metadata": {},
   "source": [
    "爬取多页"
   ]
  },
  {
   "cell_type": "code",
   "execution_count": 15,
   "metadata": {},
   "outputs": [
    {
     "name": "stdout",
     "output_type": "stream",
     "text": [
      "用户： 二哈排骨精\n",
      "评论： 10年磨一剑，干翻迪斯尼\n",
      "用户： JackieChen\n",
      "评论： 一般般的动画电影，水军吹捧过头就不好了。真当有些人看了那么多年美漫和日漫 白看的？真当我们没见识？\n",
      "用户： 麻匪118\n",
      "评论： 中国式家庭典型代表，全村人的希望敖丙和我儿子再淘气也小可爱哪吒，史上最人性李靖，最可怜龙王，最接地气太乙金仙，最像男孩子的哪吒，哈哈哈，完美，必须二刷！\n",
      "用户： 龚大叔\n",
      "评论： 那些觉得不好看的，我只有用四川话回你：你晓得个锤子\n",
      "用户： 天狼星上的眼镜猴\n",
      "评论： 好好教育孩子，否则天雷来劈渣儿的时候都没人帮忙\n",
      "用户： 银瞳\n",
      "评论： 厅不错 音效画面都好 也没有小孩吵 电话响 问剧情 在国内看动画很久没有这么好的观影体验了 武戏分镜动作设计可圈可点 特别是江山图里四个人冻成冰球的段落很惊喜 可惜文戏让人如坐针毡 开场不到10分钟段\n",
      "用户： jass\n",
      "评论： 中国动画史上最悲怆的一幕：哪吒愤而举剑，割喉自杀。 今天的哪吒喊着 我命由我不由天，有点为赋新词强说愁的意思。艺术作品脱离了大时代背景，永远不可能成为真正意义上的经典。\n",
      "用户： 心亦恋\n",
      "评论： 休说苍天不由人，我命由我不由天。 视觉盛宴催旧泪，国漫希望谱新篇。\n",
      "用户： 路见很平\n",
      "评论： 都在说好，看了不过如此，风格不统一，过于糅杂，台词也尬得要命，从头到尾不舒服看不下去，编剧想让NPC怎样就怎样，完全不管人的行事逻辑，就最后的特效还行。总体不如同门的大圣归来，更不如彩条屋最出彩的大护\n",
      "用户： 苗乐乐MiuMiu\n",
      "评论： 每次大热电影出现都是言过其实了，跟风吹的人不必跟风黑的人少。故事上基本是胡编乱造毁名著，情感上可取的地方是没有过分煽情，但又有时幽默的不是地方，情感的拿捏比电影技术本身难多了。这个电影放到好莱坞水准衡\n",
      "用户： 浪子回头金不换\n",
      "评论： 前两天有位好友推荐看，加上这两天多方媒体好评报导，特别是时光网评分达到8.4，好奇释然，去了影院一观。看到了国产动画的进步，但是3D效果没做好，达不到真正的3D效果。剧情普通，没有惊喜感，从头看到尾令\n",
      "用户： M_1504121653263072768\n",
      "评论： 没想到一年多之后重返电影院看的第一部电影是国产动画片，还是一部这么好看的片子，好看到什么程度呢，我刚走出影厅，听到隔壁影厅哪吒的声音，我居然想溜进去再看一遍！整个故事情节编的好“圆”，没有觉得一丝多余\n",
      "用户： Lyadz\n",
      "评论： 删掉那个反复出现的娘娘腔还能再加0.5分\n",
      "用户： SebMia\n",
      "评论： 前半小时让人坐立不安，过分刻意网络化的对白让人出戏，目的性太强的想把观众逗笑反而把剧作水准拉下了一个层次。角色配音上，语调生硬，缺乏温度，尤其夫人的配音，实在是干瘪突兀。但后半段影片渐入佳境，最后的几\n",
      "用户： Phillip-科卢基\n",
      "评论： 个人看过的最好的国产动画，同类型里远超大圣，力压白蛇、侠岚。期待封神宇宙崛起\n",
      "用户： jack1980\n",
      "评论： 这个预告片，感觉故事有点老套狗血，跟从前的为大义自刎有很大出入，这让我有点接受不了，与其这样，不如单独设计一个新的形象，借哪吒的壳而不用哪吒的魂，还不如不用\n",
      "用户： naro\n",
      "评论： 我选择看十遍宝莲灯回血。。这尼玛还能冠军，現在這些编剧简直毫无价值观和幽默感，粗鄙的台词毫无逻辑的人物刻画(特别是母亲和神仙)各种不合时宜下三路又无趣的梗还反复出现，更不要提人物感情的逻辑转化等于没有\n",
      "用户： 卡卡罗特\n",
      "评论： 刚刚看完，比我预想中的好很多，没想到中国动画制作已经进步到这个地步了，光看画面特效已经接近好莱坞级别了。全片节奏也不错，有笑点，打斗非常丰富，人设不错，性格较饱满。缺点，故事算不上那么有趣，不过也还能\n",
      "用户： 暗夜清灵\n",
      "评论： 关在府里无事干，翻墙捣瓦摔瓶罐。 来来回回千百遍，小爷也是很疲倦。 我是小妖怪，逍遥又自在。 杀人不眨眼，吃人不放盐。 一口七八个，肚子要撑破。 茅房要拉屎，想起忘带纸。 生活你全是泪，没死就得活受罪\n",
      "用户： 涉抄无显\n",
      "评论： 适合高中及以下年龄段观看，而且全场多处尬场\n",
      "用户： 瀛26000\n",
      "评论： 这是我看过的最有血有肉有人情味还紧跟时代潮流的一版哪吒了，没有金吒木吒只有哪吒，李靖没有让人讨厌的琵琶精小老婆，敖丙也不是奸淫掳掠无恶不作的龙二代，申公豹的口吃设计也承包了一部分笑点，太乙真人的火锅味\n",
      "用户： 王奋斗\n",
      "评论： 暴力狂，咒骂狂，虐待狂，嘲弄狂，自大狂，却被疯狂地拥趸与吹捧，只因为这些是内心充满狂暴而狂暴又被彻底压抑的人群。通过丑陋的主角、蠢笨的配角，释放了长期被压抑的狂暴，既获得了精神上的胜利，又获得了发泄后\n",
      "用户： 蓝白天下\n",
      "评论： 不建议14岁以下小朋友观看，内容创意但没有看到主角的努力和积极，画面暴力且像网游模式，哪吒痞气和愤怒对小朋友会有不好影响。作为一部动漫，没有积极乐观努力的主题和思想，画面无美感。\n",
      "用户： 梦舞悠风\n",
      "评论： 这个电影被捧得太高了，剧情、人设、主题、笑点，都有缺点，反而没什么亮眼的优点可以说，即使作为国产也难称优秀。\n",
      "用户： pnxxumy\n",
      "评论： 真心不错啊，没想到国产动画片能做到这么好了——无论是画面、音效，还是故事情节、表演以及4D特效都堪称完美，特别是踢毽子的情节尤其经典……五星好评，为这样的国产动画片点赞！\n",
      "用户： Mtime的疾风\n",
      "评论： 台词幼稚粗鄙，形象丑陋恶心，还真没看出来哪一点值得好评？还我一个正统的哪吒！不是什么“吒儿”！囧！！！\n",
      "用户： 林之章0096\n",
      "评论： 抱歉，非常无聊，不知道无畏的好评从哪里来，从头到尾全部都是无聊和低级，虽然要支持国漫，不过确实跟欧美动画差了很多。全片只有效果，幽默很低俗，感人的地方很低级，没有真正走心，非常肤浅。国产动画一如既往的\n",
      "用户： 海伦娜\n",
      "评论： 对里头的一条深有同感，一个是申公豹的结巴、一个是娃娃音的壮汉，低级笑料抖的让人生理不适。经不起推敲这点如同很多好莱坞票房大热的电影一样，妇联四的时间轴也经不起推敲，可不妨碍他成为经典。能够引起这么激烈\n",
      "用户： M_1508221453140451322\n",
      "评论： 可以作为一部儿童教育题材范本推广，如果每个家长都像哪吒的父母对待孩子耐心宽容，给予爱的方式不是溺爱而是以身作则晓之以理动之以情，如果每个老师都能像太乙真人有真正的教育情怀传授知识和为人之道，如果每个同\n",
      "用户： 秦岭深处\n",
      "评论： 各种丑，各种致敬周星驰，国漫被吹捧的也太高了吧。\n",
      "用户： 芥色\n",
      "评论： 觉得就很一般呀，虽然节奏挺紧的但剧情就牵强，很多地方的画面质感感觉也挺一般的。剧情和人物设计不如大圣，画面设计和质感不如大鱼海棠，算不了国漫巅峰吧。一直在吹的CP感觉也就那样，YY的多实际没啥，不过藕\n",
      "用户： 国庆电播小弟\n",
      "评论： 饶舌配音与不合时宜的尴尬笑点，让我对这部电影没有多少好感。\n",
      "用户： 李小毛\n",
      "评论： 过誉之作，搞笑部分太过刻意生硬，太乙的塑料普通话，申公豹的口吃，都好尬，还有屎尿屁出现的频率也太高了，以为是传统剧情，等着削骨还父削肉还母后狠狠感动一把，结果就一句，爹妈谢谢你们…虽然父子线也很感人…\n",
      "用户： 喋血情枭\n",
      "评论： 我命由我不由天！看的过程中我实在是频频忍不住想屏摄发朋友圈，给影片的主创人员点赞！没想到国产动画也能拍的如此震撼了，把哪吒的故事讲的精彩绝伦，画面剧情都是一流，故事发展自然，角色塑造毫不突兀。我要给这\n",
      "用户： 烟雨\n",
      "评论： 喜欢\n",
      "用户： 错误修正处\n",
      "评论： 好看，既感动又激动的电影\n",
      "用户： 老幸运lucky\n",
      "评论： 太不要脸了，还没下线\n",
      "用户： 舒克\n",
      "评论： 说实话，也就是玩的“颠覆”、“恶搞”、仿好莱坞那几个套路，整个片子尚显稚嫩，生生将哪吒弄成一个贻害乡里的小恶魔，以为“创新”，其实无趣！\n",
      "用户： Lv9Cocoa\n",
      "评论： 官僚思想。嘴遁。低级趣味。\n",
      "用户： 影友\n",
      "评论： 真的很一般。模仿功夫熊猫的痕迹重。配音不太好，好多表情不是很到位。\n",
      "用户： 电闸\n",
      "评论： 很多人眼里的电影就是会动的画，精彩靠炫酷，娱乐靠屎尿屁。笑点尴尬、台词低幼、人物线性，哪吒这么容易发挥的角色竟然没有留下任何东西。最最基本的，哪吒应该中途悟到人性，自己决定去转变命运，在最后面临一次终\n",
      "用户： pandora\n",
      "评论： 太多时间浪费在编段子上了\n",
      "用户： 纯洁的莫金卡\n",
      "评论： 配音是短板，其他都很棒\n",
      "用户： blackhello\n",
      "评论： 把尴尬的笑点和四川口音去掉会更好。不要为了搞笑而搞笑。\n",
      "用户： AlanJsj\n",
      "评论： 从一开始《大圣归来》到后面《大鱼海棠》再到《白蛇》都宣传国漫之光。虽说国漫从90年代开始堕落，可能是日漫美漫实在强大，但也还有《宝莲灯》这棵独苗，不是上述三部所能撼动的。但今天看了《哪吒》，确实对得起\n",
      "用户： t_na\n",
      "评论： 从大鱼海棠到白蛇再到哪吒… 中途错过了别的国产动漫 但是看过的这三部每一部都带给我深深的震撼和印象！国产动漫新高度 越来越好看和细腻… 点赞 全程无尿点 每一个人物都刻画的精细到位…情感细腻 故事线清\n",
      "用户： 怪事\n",
      "评论： 其实内容并不新鲜，都是多年以前漫画界的现成元素，但哪吒为什么评价高，其实很简单，故事说得流畅合理，符合戏剧的各个段位高潮设计。这不但是动画界，这是中国电影界多少所谓大师级导演都没办法做好的事情。\n",
      "用户： 頭面人物\n",
      "评论： 过誉的合格作品，如果讲中国古典神话，不应该照搬大量西方现代化玩笑；如果讲《封神演义》的故事，不应该除了名字其他都毫无瓜葛；剧情仍旧是傻燃傻搞笑，中心思想用嘴讲，制作与特效与四五年前的顶级国产动画片比并\n",
      "用户： 玄烨\n",
      "评论： 我想给0分来吸引你们注意，这个0分不是给电影的，而是特么的我不知道你们的片头有没有一个广告讲的一个乐队听众无精打采，然后乐队直接把插头扔到水里电到听众都激动起来的这个片头。我真的想骂人，作为一个动画电\n",
      "用户： Dwarf\n",
      "评论： 画面和配乐都很不错，人物形象立体丰富，期待后续。\n",
      "用户： God4\n",
      "评论： 原生游戏CG即视感，丑陋+低俗，“别人的看法都是狗屁”，注定了这片子也是“狗屁”。\n",
      "用户： 风动浮云\n",
      "评论： 国漫达到这个水准，相当赞了。有趣的细节也不少。\n",
      "用户： nara1229\n",
      "评论： 我命由我不由天 是魔是仙我自己说了算 居然看哭了.... 继流浪地球后第二部给满分的国产片\n",
      "用户： 飞辕残雪\n",
      "评论： 现在的动画片真是越来越适合大人观看了 国产动画片又一部巅峰之作 彩蛋中提到20年下一步姜子牙封神 也很期待 希望继续突破 带领国产动画片崛起\n",
      "用户： 胡净豆\n",
      "评论： 中国影史上最好的动画片出现了！\n",
      "用户： 明天晴天\n",
      "评论： 吹爆！大圣归来和白蛇缘起是优秀，哪吒才是国漫崛起。 这些动画画风更符合咱们对神话世界的想象，皮克斯和梦工厂有对手了。\n",
      "用户： 神骑SM女侠\n",
      "评论： 就吹死你们把\n",
      "用户： 角落12\n",
      "评论： 剧情改编的很不错 打斗也很精彩 值得一看\n",
      "用户： 楚翰彻\n",
      "评论： 有进步但是还不够，这似乎也是目前国漫在前进过程中的新瓶颈了，人设惊艳但剧作中庸，尤其是实现人物弧光之后，后者只是成为了展示特效的工具。在情绪上建立了几个真正坚实的戏剧时刻，但随即又用笑料和直白台词消解\n",
      "用户： DoDoBaLaLa\n",
      "评论： 电影不错，可以说比《大圣归来》又提升了一个档次！但是预告片做的非常一般，会对一些对此片有兴趣的潜在观众产生一些不必要的负面影响\n",
      "用户： 天能TENET\n",
      "评论： 画面和剧本都属国漫中的上乘水平，燃点泪点兼备(李靖换命符泪崩，哪吒顶海又燃爆），人物塑造也很难得的做到了多面性。只是不满意于大量尴尬无趣强行为搞笑而搞笑的地方。\n",
      "用户： Davych\n",
      "评论： 垃圾电影，一个多月也不下画，强行催谷骗票房！就为了破什么烂国内记录！垃圾！\n",
      "用户： 136****6086_8216276\n",
      "评论： 看那些盲目打10分的，我用1分中和一下。\n",
      "用户： 神秘的L君\n",
      "评论： 标准中国式段子电影，笑点和泪点永远都是那么尴尬，不知道有啥好吹捧的\n",
      "用户： 老幸运lucky\n",
      "评论： 除了画面一无是处！不是票房高就代表牛逼。。。\n",
      "用户： 愚子\n",
      "评论： “成为你自己”是人生哲学里永恒的一课，它大概可以分为几个阶段：1、你不知道自己是谁，只能任由旁人评判（妖怪）。2、父母/老师告诉你你是谁（灵珠）。3、陌生人告诉你你是谁（魔丸）。4、自己决定自己是谁（\n",
      "用户： 自由彼岸\n",
      "评论： 剧情蛮无聊的。\n",
      "用户： KOMMRR2\n",
      "评论： 如果家儿也是2岁也这么淘气，如果你夫妻俩也为企业日夜坚守，如果你也有这样如山的压力这般期许。如果你没有说过一句辛苦，我愿意用自己的所有换孩子一个可以选择的未来。 有个人用电影说出了你咬着牙不能说的，让\n",
      "用户： 生化工兵\n",
      "评论： 总体水平很高，是真的看完会觉得爽的电影，确实是国产动画可喜的进步。\n",
      "用户： 小糯米Nba76p\n",
      "评论： 太好看了，这是我唯一一部看了三遍还看不够的电影。赞！\n",
      "用户： september077\n",
      "评论： 人物亮眼设置多，画风唯美有创意，可我独爱这版输出价值观，不活在别人口中，我们命运自己决定，说来轻巧几人能看破做到！母慈子孝作品太多，父爱也可顶半边天，他不是工作狂不是赚钱机器，他也用行动证明爱孩子不是\n",
      "用户： shokyo\n",
      "评论： 充满了中二思想和反社会人格。虽然有王侯将相宁有种乎的中国传统叛逆因子，而且也在最后试图与社会和解，但不是通过对个人反叛造成的伤害后的反悔，也不是通过人性本善的普世化认知做到的，反而是唯我独尊力挽狂澜用\n",
      "用户： yangbaitu\n",
      "评论： 完成度不输于顶级好莱坞大片👍\n",
      "用户： bobo143\n",
      "评论： 哪吒为什么好看，一部分原因可能是期待。假设以后的姜子牙质量上一个台阶，再做出几个代表性的角色，比如杨戬、雷震子等等，封神体系就可能成功建立起来，就像当年钢铁侠开启了漫威宇宙！不是没有好的故事体系，而是\n",
      "用户： 光影穿梭使者\n",
      "评论： 视觉可圈可点，但人设未免太过夸张，笑料尴尬，剧情受众局限。\n",
      "用户： lclc0101\n",
      "评论： 很难看\n",
      "用户： 輝灬Zi\n",
      "评论： 不愧新标杆！国产动画片再接再厉\n",
      "用户： M_1402282112044935563\n",
      "评论： 很多人评论说故事还是差了点，运用商业手法而已。我倒是觉得代入感非常强，能把一个如此简单的故事让人看得下去，并且有笑有泪，情绪跌宕起伏，就已经说明导演会讲故事了。\n",
      "用户： 千叶静\n",
      "评论： 哎只能说我真的不吃这一口，小哪吒出生那场戏就非常creepy，性格也很招人嫌，我当它欲扬先抑但是直到最后都在着力表现这个小孩怎么讨厌，没有拿出哪怕一点时间稍微展示他可爱的一面(如果有的话)。就这样还怪\n",
      "用户： 柴大发888\n",
      "评论： 又燃又炸又感人。国漫的技术提升的挺高\n",
      "用户： x28sai\n",
      "评论： 有些缺点，有些不如意，不影响我给他10分。因为现在这个阶段是起步阶段，批评只会打死整个行业，没有一点用处。批评的人站的太矮，眼睛太小。\n",
      "用户： 小伟爱电影\n",
      "评论： 在大圣归来之后明显感觉到中国的动漫作品进步了不少，除了画质越来越精良之外，故事核心也越发适合当下人的口味。虽然在喜剧元素的设计上有的地方确显尴尬，但节奏把握还可以，确实是近年来的好国漫。\n",
      "用户： 156****0582_8308224\n",
      "评论： 人心中成见是一座大山。每个人心中都有一个哪吒，我的命我自己说了算。\n",
      "用户： Loxeddove\n",
      "评论： 只有认真讲故事的人才值得被铭记。高票房背后是走出固有思想，创造出新的故事线和情感思想。哪吒颠覆性的人设，敖丙黑化挣扎的人物情感使得剧情充满了冲突与矛盾，使得最后的高潮来的热血喷张。影片的笑料十足也是广\n",
      "用户： 为了忘却的纪念\n",
      "评论： 让我特别喜欢的是影片加重了亲情部分的描绘，李靖夫妇的形象非常丰满。不满意的地方是有些故意搞笑的桥段和人物真的可以去掉。没必要，真的没必要。 最后想说的是，最最无知和愚昧，让人恨的牙痒痒的的就是认准死理\n",
      "用户： 药乐师\n",
      "评论： 看过最好的国漫动画，没有失望。近几年国产动画步步摸索、品质逐升，哪吒的问世可谓再创巅峰，从人设到台词都有极大改善，堪称高水准良心之作。我只看到有一群人在为国漫动画默默努力、探索前行，却总有人要吹毛求疵\n",
      "用户： iFilm\n",
      "评论： 本着被骗的心态去电影院看这部国产动画。 慢慢的观看过程中我逐渐被影片的剧情感动，导演想说的很多，而且交代的非常清楚。所谓相由心生，而导演偏不，偏要剑走偏锋，亦正亦邪的哪咤成功了。 电影特效更是让我感动\n",
      "用户： 给爷爷我跪下\n",
      "评论： 这电影别看预告片，看预告我差点以为是一部烂片，看了正片发现我被打脸了。\n",
      "用户： 家雀儿\n",
      "评论： 妥妥儿的国漫之光，四人在图里打架那场戏效果赞爆\n",
      "用户： 王道之狗\n",
      "评论： 为什么我会喜欢这么讨厌这么皮长的又丑的熊孩子？？？\n",
      "用户： 139****8223_52951173\n",
      "评论： 不认命，就是哪吒的命。也是自己的命\n",
      "用户： 步伐不停\n",
      "评论： 比近年的口碑国产动画都要好看了。定位很精准，它完全不装，也不是好莱坞式英雄剧作，一是完全做成了喜剧动画，一个是他是中国传统优秀电影表达，真的是非常感人了。它也有人物了，喜感颠覆的太乙真人，男主哪吒可能\n",
      "用户： 菜鸟\n",
      "评论： 当年上影版的胖管家变成3D的了，就像遇到了老熟人的感觉； 太乙真人变成个胖师傅的设定让人感觉很搞笑但是接受起来很舒服； 哪吒的混天绫和火尖枪一起跳舞那段和上影版哪吒化身莲花之躯的时候动作一模一样，有多\n",
      "用户： 叁鹊伊\n",
      "评论： 完美的存在，超越好莱坞的存在，神话世界超越漫威DC宇宙可期\n",
      "用户： 留校察看\n",
      "评论： 丑萌丑萌的小哪吒，强推！ 哪吒、白蛇、大圣……非常期待中国的神话宇宙！\n",
      "用户： 吴带当风\n",
      "评论： 又是一部傻逼骗钱国漫\n",
      "用户： 时光網草映轩\n",
      "评论： 几乎是目前国漫最高水准之作，剧情十分精彩，笑点密集，而且部分情节不适宜儿童，追求体验的尽量点映首映观影，延后的孩子场谁看谁知道……李靖的情节我看得酸鼻子，最后的时候前排两个妹子擦眼泪了。必须要拿《大圣\n",
      "用户： 大西洋两岸\n",
      "评论： 电影票又花不出去，看评价后对狮子王毫无兴趣于是带我妈看了安利漫天的这个。比只有一半剧情的大圣和剧情人设都弱且弱智的白蛇是好，虽然剧情人设都很套路，笑点也只有2个，泪点和流浪地球差不多，看完之后也不会有\n",
      "用户： 朝三暮四郎\n",
      "评论： 本来憋着不想去看的，但胃口越吊越大。这其实就是家庭的故事成长的故事，作为父亲我产生了共鸣，孩子成长有烦恼，父亲则愿意为孩子担当，给我上了深刻的一课。\n",
      "用户： carole_968384612\n",
      "评论： 国漫崛起不是吹的。不仅仅是画风，以前的国漫电影都是低趣版的，吵吵闹闹没有什么正能量，而这部影片恰恰有很多让人深层次思考的东西，这就是一个巨大的进步\n"
     ]
    }
   ],
   "source": [
    "import requests\n",
    "import time\n",
    "\n",
    "headers = {\n",
    "  'user-agent': 'Mozilla/5.0 (Macintosh; Intel Mac OS X 10_13_6) AppleWebKit/537.36 (KHTML, like Gecko) Chrome/76.0.3809.132 Safari/537.36',\n",
    "  'referer': 'http://movie.mtime.com/'\n",
    "}\n",
    "\n",
    "for num in range(1, 6):\n",
    "  params = {\n",
    "    \"tt\": \"{}\".format(int(time.time() * 1000)),\n",
    "    \"movieId\": \"251525\",\n",
    "    \"pageIndex\": \"{}\".format(num),\n",
    "    \"pageSize\": \"20\",\n",
    "    \"orderType\": \"1\"\n",
    "  }\n",
    "\n",
    "  res = requests.get(\n",
    "    'http://front-gateway.mtime.com/library/movie/comment.api',\n",
    "    params=params,\n",
    "    headers=headers)\n",
    "\n",
    "  comment_list = res.json()['data']['list']\n",
    "  for i in comment_list:\n",
    "    print(\"用户：\", i['nickname'])\n",
    "    print(\"评论：\", i['content'])\n",
    "  \n",
    "  # 暂停一下，防止爬取太快被封\n",
    "  time.sleep(1)"
   ]
  },
  {
   "cell_type": "markdown",
   "metadata": {},
   "source": [
    "上面的代码获取了前 5 页的评论数据，如果我们需要，只要控制好爬取速度防止被封，完全可以将所有的短影评全部爬取下来。\n",
    "\n",
    "除了评论之外，我们还能爬取某部电影的演员信息、评分等，只要掌握规律，想要的数据都可以得到。\n",
    "\n",
    "如果你对电影的数据不感兴趣，你可以通过所学知识爬取你所感兴趣的网站。比如爬取租房网站，看看你所在地的房租是什么样的水平，哪里的房租最划算。爬取微博明星的评论，分析出哪些是水军等等。\n",
    "\n",
    "虽然各个网站千差万别，但爬虫的基本思路与方法都是一样的。至此，动态网页的爬虫你已经掌握，大部分网站已经拦不住你，你可以爬取你想要的任何数据了。"
   ]
  },
  {
   "cell_type": "markdown",
   "metadata": {},
   "source": [
    "除了更改 API 链接的 pageIndex 参数来翻页，我们还可以更改 pageSize 参数来增加每页数据，加快爬取速度。\n",
    "\n",
    "比如将 pageNo 设为 2，pageSize 设为30，意思就每 30 条评论为一页，展现第 2 页。那我们就可以一次性获取第 31 到 60 条评论。\n",
    "\n",
    "但是， pageSize 不能太大，否则可能会出错：可能不会返回内容，也可能只返回预设的上限数量，也可能会变成默认的 pageSize，每页数据反而更少。\n",
    "\n",
    "接下来，请你根据讲解所学知识自己爬一遍评论，同时修改 pageSize 的值为 50，再获取前 3 页的用户昵称和评论试试。"
   ]
  },
  {
   "cell_type": "markdown",
   "metadata": {},
   "source": []
  }
 ],
 "metadata": {
  "kernelspec": {
   "display_name": "Python 3.6.13 ('tensorflow')",
   "language": "python",
   "name": "python3"
  },
  "language_info": {
   "codemirror_mode": {
    "name": "ipython",
    "version": 3
   },
   "file_extension": ".py",
   "mimetype": "text/x-python",
   "name": "python",
   "nbconvert_exporter": "python",
   "pygments_lexer": "ipython3",
   "version": "3.6.13"
  },
  "orig_nbformat": 4,
  "vscode": {
   "interpreter": {
    "hash": "74973848420d399980c11f16a640d467c2e8f2266629d1ddb4e03d028dbfee73"
   }
  }
 },
 "nbformat": 4,
 "nbformat_minor": 2
}
