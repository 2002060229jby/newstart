{
 "cells": [
  {
   "cell_type": "markdown",
   "metadata": {},
   "source": [
    "# 网页基础"
   ]
  },
  {
   "cell_type": "markdown",
   "metadata": {},
   "source": [
    "网页的本质是 HTML 文档。当我们用浏览器打开某个网页的时候，服务器会将 HTML 文档响应给浏览器。浏览器接收到 HTML 文档后，会解析文档内容，并用适合人类阅读的方式呈现出来。"
   ]
  },
  {
   "cell_type": "markdown",
   "metadata": {},
   "source": [
    "爬虫充当了浏览器的角色，需要向服务器发送请求，并解析服务器作出的响应，也就是解析 HTML 文档内容，并从中提取数据。"
   ]
  },
  {
   "cell_type": "markdown",
   "metadata": {},
   "source": [
    "HTML 全称 Hyper Text Markup Language，翻译过来是 超文本标记语言，是计算机语言的一种，由 元素 构成"
   ]
  },
  {
   "cell_type": "code",
   "execution_count": 1,
   "metadata": {},
   "outputs": [
    {
     "data": {
      "text/plain": [
       "'\\np（paragraph，段落）元素：\\n<p>Web 真好玩！</p>\\n'"
      ]
     },
     "execution_count": 1,
     "metadata": {},
     "output_type": "execute_result"
    }
   ],
   "source": [
    "'''\n",
    "如果想让这段话显示在网页中，我们需要将它封装成一个 p（paragraph，段落）元素：\n",
    "<p>Web 真好玩！</p>\n",
    "'''"
   ]
  },
  {
   "cell_type": "code",
   "execution_count": 2,
   "metadata": {},
   "outputs": [],
   "source": [
    "# p 元素由三大部分组成：\n",
    "\n",
    "# 开始标签：一对尖括号（即键盘上的小于号 < 和大于号 >）中间包裹着元素名称；\n",
    "# 元素内容：页面中用户可以看到的内容；\n",
    "# 结束标签：与开始标签类似，区别在于元素名称前有一个斜杠 /。"
   ]
  },
  {
   "cell_type": "code",
   "execution_count": 3,
   "metadata": {},
   "outputs": [],
   "source": [
    "# 元素内容和结束标签和我们之前看到的元素没什么差别；区别在于，a 元素的开始标签中有许多额外信息。这些信息就是元素的 属性。"
   ]
  },
  {
   "cell_type": "code",
   "execution_count": 4,
   "metadata": {},
   "outputs": [],
   "source": [
    "# 元素的 属性 需要写在开始标签中，写成 属性名称=\"属性值\" 形式。注意，HTML 中属性值两边必须为 英文双引号。如果一个元素有多个属性，属性与属性之间需要用一个空格隔开。"
   ]
  },
  {
   "cell_type": "code",
   "execution_count": null,
   "metadata": {},
   "outputs": [],
   "source": [
    " a 元素用于描述超链接，必须提供可跳转 URL，因此它具有 href（hypertext reference，超文本引用）属性。而没有这项功能的元素，比如 p 元素、h 系列元素等，也就不具有 href 属性。"
   ]
  },
  {
   "cell_type": "code",
   "execution_count": null,
   "metadata": {},
   "outputs": [],
   "source": [
    "拓展：target 属性的值决定了当用户点击超链接时，跳转到指定 URL 的方式。target 属性默认值为 _self，表示在当前页面打开链接。课程中超链接 target 属性值为 _blank，表示会在浏览器新标签页打开。"
   ]
  },
  {
   "cell_type": "code",
   "execution_count": null,
   "metadata": {},
   "outputs": [],
   "source": [
    "除了 href 这类特殊的属性，元素也有一些共同属性，最常见的就是 class、id 和 style。\n",
    "\n",
    "class 和 id 都是用来标识元素的。区别在于，class 用于标识某一类元素，在一份 HTML 文档中可以重复出现；而 id 用于标识具体的某一个元素，其值在整个 HTML 文档中是 唯一 的。你可以理解为：整个 HTML 文档是一所学校，class 是元素所在班级，id 是元素的学号。班级里可以有很多的人，但学号是全学校唯一的。"
   ]
  },
  {
   "cell_type": "code",
   "execution_count": null,
   "metadata": {},
   "outputs": [],
   "source": [
    "style 属性则能够为元素设置样式，相当于在 HTML 中内嵌了一部分 CSS 代码。借助 style 属性，我们可以为 h1 元素加上一些样式，让它看起来和 p 元素差不多，也能够调整 p 元素的样式，让它看起来像个标题，就像这样：\n",
    "<h1 style=\"font-size: 1rem; font-weight: normal; margin-block-start: 1rem; margin-block-end: 1rem; margin: 0;\">加上样式后，一级标题看起来可以像段落正文</h1>\n",
    "<p>是不是很神奇呢？</p>"
   ]
  },
  {
   "cell_type": "markdown",
   "metadata": {},
   "source": [
    "image图片"
   ]
  },
  {
   "cell_type": "code",
   "execution_count": null,
   "metadata": {},
   "outputs": [],
   "source": [
    "HTML 中用 img（image）元素 来描述图片。img 元素有两个特殊属性，一个是 src（source）图片来源属性，值是图片资源对应的 URL；另一个是 alt（alternative text，用于替换的文本）属性。"
   ]
  },
  {
   "cell_type": "code",
   "execution_count": null,
   "metadata": {},
   "outputs": [],
   "source": [
    "alt 属性功能比较特殊。当用户因为某些原因无法查看图片，比如网络连接速度慢、src 属性或属性值出现错误，或者用户正在使用屏幕阅读器时，浏览器会读取 alt 属性值，作为图片内容的替代信息展示给用户。并且 alt 的值可以为空，此时将由提供网页的服务器决定如何处理图片失效问题。"
   ]
  },
  {
   "cell_type": "markdown",
   "metadata": {},
   "source": [
    "### 空元素"
   ]
  },
  {
   "cell_type": "markdown",
   "metadata": {},
   "source": [
    "这是因为，有些元素并不需要提供文本内容，自然不需要元素内容。既然没有元素内容，索性连用于包裹内容的结束标签都不需要了。这类只有开始标签的元素叫做 空元素。"
   ]
  },
  {
   "cell_type": "markdown",
   "metadata": {},
   "source": [
    "除了 img 元素，HTML 中还有许多空元素。它们有的是用于描述网页基本信息的，有的则是服务于网页内容排版的，比如换行符 br（break）元素、水平分割线 hr（horizontal，水平的）元素。我们来用一个简单的例子感受下 br 元素和 hr 元素的渲染效果吧。"
   ]
  },
  {
   "cell_type": "markdown",
   "metadata": {},
   "source": [
    "浏览器在解析 HTML 文档时，会忽略所有多余空格、换行符。也就是说，只要元素的书写符合语法规范，你可以把文档所有内容压缩为一行："
   ]
  },
  {
   "cell_type": "markdown",
   "metadata": {},
   "source": [
    "压缩后的 HTML 代码虽然可读性大打折扣，但同时，文件体积也缩小了许多。如此一来，你从互联网上访问（下载）这个网页时，耗费的流量就会更少，加载时间也会更短。"
   ]
  },
  {
   "cell_type": "markdown",
   "metadata": {},
   "source": [
    "而这种特性带来一个问题：有时我们希望在网页中插入一些“多余”的空白、换行，而这部分内容会被浏览器无情地删除，这该怎么办呢？\n",
    "\n",
    "为解决这一问题，HTML 中引入了能表示空格的 &nbsp;（no-break space）字符，以及表示分割不同部分内容的换行元素。我们来用下面这个练习，体会一下直接输入空格和插入空格符号的渲染差异。"
   ]
  },
  {
   "cell_type": "code",
   "execution_count": null,
   "metadata": {},
   "outputs": [],
   "source": [
    "提示：&amp;nbsp; 中的 amp; 表示转义，类似于 Python 字符串中的转义符号 \\。你可以尝试一下删除 amp;，看看此时浏览器的渲染结果是什么样子。"
   ]
  },
  {
   "cell_type": "code",
   "execution_count": null,
   "metadata": {},
   "outputs": [],
   "source": [
    "老师在 p 元素中间 嵌套 了一个 code 元素。code 元素顾名思义，是用来描述代码的。浏览器在渲染时会默认选择一套代码专用字体，让代码内容看起来更像代码。比如你在 Python 课程中看到的 print()，以及爬虫课中看到的 <br>，都是用 code 元素描述的。"
   ]
  },
  {
   "cell_type": "code",
   "execution_count": null,
   "metadata": {},
   "outputs": [],
   "source": [
    "code 元素只能承载一行代码。如果想在网页中描述多行代码，需要配合 pre（preformatted text，预渲染的文本）元素使用，在此不展开讲解。感兴趣的同学可以通过检查代码练习的 代码编辑区域 自行探索哦。"
   ]
  },
  {
   "cell_type": "code",
   "execution_count": null,
   "metadata": {},
   "outputs": [],
   "source": [
    "<p>在 Python 中我们可以使用 <code>list()</code>、<code>str()</code> 等函数转换变量的类型。</p>\n",
    "\n",
    "<!-- 结束标签缺失 -->\n",
    "<p>在 Python 中我们可以使用 <code>list()</code>、<code>str()</code> 等函数转换变量的类型。</p>\n",
    "\n",
    "<!-- 不同元素的标签交叉出现 -->\n",
    "<p>在 Python 中我们可以使用 <code>list()</code>、<code>str()</code> 等函数转换变量的类型。</p>\n",
    "\n",
    "<!--\n",
    "  为了让你更清晰地看到被浏览器渲染为 code 元素的内容\n",
    "  我为页面中的 code 元素添加了天蓝色的底色\n",
    "-->\n",
    "<style>code{background-color: skyblue;}</style>"
   ]
  },
  {
   "cell_type": "code",
   "execution_count": null,
   "metadata": {},
   "outputs": [],
   "source": [
    "将鼠标指针放到 有序列表素材 中，当指针变成类似于大写字母“I”形状时，点击鼠标右键，检查该行文字内容；"
   ]
  },
  {
   "cell_type": "code",
   "execution_count": null,
   "metadata": {},
   "outputs": [],
   "source": [
    "有序列表由外层 ol（ordered lists，有序列表）元素 和内层 li（list item，列表项）元素 构成"
   ]
  },
  {
   "cell_type": "code",
   "execution_count": null,
   "metadata": {},
   "outputs": [],
   "source": [
    "序列表则是由外层 ul（unordered lists，无序列表）元素 和内层 li 元素构成的。"
   ]
  },
  {
   "cell_type": "code",
   "execution_count": null,
   "metadata": {},
   "outputs": [],
   "source": [
    "第一行的 !<DOCTYPE html> 表明该文件是 HTML 文档，便于浏览器正确解析，没有实际含义。"
   ]
  },
  {
   "cell_type": "code",
   "execution_count": null,
   "metadata": {},
   "outputs": [],
   "source": [
    "DOCTYPE 之后的整个网页内容都包裹在 html 元素 中，这是约定俗成的格式。如此一来，网页内所有元素都是 html 元素的子元素，整个 HTML 文档像树一样开枝散叶，结构清晰明朗。因此，html 元素也被称为 根元素。"
   ]
  },
  {
   "cell_type": "markdown",
   "metadata": {},
   "source": [
    "再往内部看，网页根元素最粗壮的两个分支，一个叫 head 元素，另一个叫 body 元素。它们分别是网页的 网页头 和 网页体。"
   ]
  },
  {
   "cell_type": "markdown",
   "metadata": {},
   "source": [
    "用 title 元素 设置网页标题，这个标题将显示在浏览器标签页上，也会作为收藏时的描述文字；\n",
    "用 meta 元素 设置网页元信息，这些信息包括网页使用什么样的字符编码方式、样式、整体布局，还包含页面描述信息和面向搜索引擎的搜索关键字等等。\n"
   ]
  },
  {
   "cell_type": "markdown",
   "metadata": {},
   "source": [
    "head 元素中还有许多 link 元素 和 script 元素，它们负责将 HTML 文档与对应的 CSS 样式、JavaScript 代码文件关联起来。仔细观察这些元素中的元素内容或 href 属性的值，就能够了解这个网页用到了哪些技术。\n",
    "·"
   ]
  },
  {
   "cell_type": "markdown",
   "metadata": {},
   "source": []
  }
 ],
 "metadata": {
  "kernelspec": {
   "display_name": "Python 3.6.13 ('tensorflow')",
   "language": "python",
   "name": "python3"
  },
  "language_info": {
   "codemirror_mode": {
    "name": "ipython",
    "version": 3
   },
   "file_extension": ".py",
   "mimetype": "text/x-python",
   "name": "python",
   "nbconvert_exporter": "python",
   "pygments_lexer": "ipython3",
   "version": "3.6.13"
  },
  "orig_nbformat": 4,
  "vscode": {
   "interpreter": {
    "hash": "74973848420d399980c11f16a640d467c2e8f2266629d1ddb4e03d028dbfee73"
   }
  }
 },
 "nbformat": 4,
 "nbformat_minor": 2
}
