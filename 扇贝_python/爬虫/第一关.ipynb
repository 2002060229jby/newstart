{
 "cells": [
  {
   "cell_type": "markdown",
   "metadata": {},
   "source": [
    "##### requests"
   ]
  },
  {
   "cell_type": "code",
   "execution_count": 2,
   "metadata": {},
   "outputs": [
    {
     "data": {
      "text/plain": [
       "200"
      ]
     },
     "execution_count": 2,
     "metadata": {},
     "output_type": "execute_result"
    }
   ],
   "source": [
    "import requests \n",
    "res = requests.get('https://wpblog.x0y1.com')  #发起请求"
   ]
  },
  {
   "cell_type": "code",
   "execution_count": 5,
   "metadata": {},
   "outputs": [
    {
     "data": {
      "text/plain": [
       "'UTF-8'"
      ]
     },
     "execution_count": 5,
     "metadata": {},
     "output_type": "execute_result"
    }
   ],
   "source": [
    "res.status_code #HTTP状态码\n",
    "res.text     #响应内容的字符串形式\n",
    "res.content  #响应内容的二进制形式\n",
    "res.encoding  #响应内容的编码"
   ]
  },
  {
   "cell_type": "markdown",
   "metadata": {},
   "source": [
    "#### 常见响应状态码如下："
   ]
  },
  {
   "cell_type": "code",
   "execution_count": null,
   "metadata": {},
   "outputs": [],
   "source": [
    "# 1xx 消息       100 继续发出请求\n",
    "# 2xx 请求成功   200 请求成功\n",
    "# 3xx 重定向     301 永久重定向\n",
    "# 4xx 客户端错误 404 找不到资源\n",
    "# 5xx 服务端错误 503 服务器不可用"
   ]
  },
  {
   "cell_type": "markdown",
   "metadata": {},
   "source": [
    "##### with open()"
   ]
  },
  {
   "cell_type": "code",
   "execution_count": 10,
   "metadata": {},
   "outputs": [],
   "source": [
    "res = requests.get(\"https://apiv3.shanbay.com/codetime/articles/mnvdu\")\n",
    "with open(\"孔乙己.txt\",'w') as file:  #默认当前路径\n",
    "    file.write(res.text)             #在 w 和 a 模式下，如果你打开的文件不存在，那么 open() 函数会自动帮你创建一个。\n",
    "\n",
    "# rb 表示以二进制格式打开文件用于读取，wb 表示以二进制格式打开文件用于写入，ab 表示以二进制格式打开文件用于追加写入。\n",
    "\n",
    "res = requests.get(\"https://assets.baydn.com/baydn/public/codetime/xiaobei/info.jpg\")\n",
    "with open(\"小贝.jpg\", 'wb') as file:\n",
    "    file.write(res.content)    # res.content 用于图片、音频、视频等二进制内容的获取、下载。 res.text 用于文本内容的获取、下载"
   ]
  },
  {
   "cell_type": "code",
   "execution_count": 17,
   "metadata": {},
   "outputs": [
    {
     "name": "stdout",
     "output_type": "stream",
     "text": [
      "ISO-8859-1\n",
      "<!DOCTYPE html>\n",
      "<!--STATUS OK--><html> <head><meta http-equiv=content-type content=text/html;charset=utf-8><meta http-equiv=X-UA-Compatible content=IE=Edge><meta content=always name=referrer><link rel=stylesheet type=text/css href=https://ss1.bdstatic.com/5eN1bjq8AAUYm2zgoY3K/r/www/cache/bdorz/baidu.min.css><title>百度一下，你就知道</title></head> <body link=#0000cc> <div id=wrapper> <div id=head> <div class=head_wrapper> <div class=s_form> <div class=s_form_wrapper> <div id=lg> <img hidefocus=true src=//www.baidu.com/img/bd_logo1.png width=270 height=129> </div> <form id=form name=f action=//www.baidu.com/s class=fm> <input type=hidden name=bdorz_come value=1> <input type=hidden name=ie value=utf-8> <input type=hidden name=f value=8> <input type=hidden name=rsv_bp value=1> <input type=hidden name=rsv_idx value=1> <input type=hidden name=tn value=baidu><span class=\"bg s_ipt_wr\"><input id=kw name=wd class=s_ipt value maxlength=255 autocomplete=off autofocus=autofocus></span><span class=\"bg s_btn_wr\"><input type=submit id=su value=百度一下 class=\"bg s_btn\" autofocus></span> </form> </div> </div> <div id=u1> <a href=http://news.baidu.com name=tj_trnews class=mnav>新闻</a> <a href=https://www.hao123.com name=tj_trhao123 class=mnav>hao123</a> <a href=http://map.baidu.com name=tj_trmap class=mnav>地图</a> <a href=http://v.baidu.com name=tj_trvideo class=mnav>视频</a> <a href=http://tieba.baidu.com name=tj_trtieba class=mnav>贴吧</a> <noscript> <a href=http://www.baidu.com/bdorz/login.gif?login&amp;tpl=mn&amp;u=http%3A%2F%2Fwww.baidu.com%2f%3fbdorz_come%3d1 name=tj_login class=lb>登录</a> </noscript> <script>document.write('<a href=\"http://www.baidu.com/bdorz/login.gif?login&tpl=mn&u='+ encodeURIComponent(window.location.href+ (window.location.search === \"\" ? \"?\" : \"&\")+ \"bdorz_come=1\")+ '\" name=\"tj_login\" class=\"lb\">登录</a>');\n",
      "                </script> <a href=//www.baidu.com/more/ name=tj_briicon class=bri style=\"display: block;\">更多产品</a> </div> </div> </div> <div id=ftCon> <div id=ftConw> <p id=lh> <a href=http://home.baidu.com>关于百度</a> <a href=http://ir.baidu.com>About Baidu</a> </p> <p id=cp>&copy;2017&nbsp;Baidu&nbsp;<a href=http://www.baidu.com/duty/>使用百度前必读</a>&nbsp; <a href=http://jianyi.baidu.com/ class=cp-feedback>意见反馈</a>&nbsp;京ICP证030173号&nbsp; <img src=//www.baidu.com/img/gs.gif> </p> </div> </div> </div> </body> </html>\n",
      "\n"
     ]
    }
   ],
   "source": [
    "res = requests.get(\"https://www.baidu.com\")\n",
    "print(res.encoding)  # requests 库将编码错误地推测成了 ISO-8859-1 格式。国内网站的编码格式一般都是 UTF-8、GBK 或 GB2312。\n",
    "\n",
    "res.encoding = 'utf-8'\n",
    "print(res.text)"
   ]
  },
  {
   "cell_type": "markdown",
   "metadata": {},
   "source": [
    "**网址**：统一资源定位符，用于表示资源在网络上的位置。\n",
    "\n",
    "**格式为**——网络协议://服务器域名/资源在服务器中的位置\n",
    "\n",
    "URL 1\n",
    "chrome://settings/\n",
    "\n",
    "URL 2\n",
    "chrome://settings/defaultBrowser\n",
    "\n",
    "- 两个 URL 中域名部分均为 settings\n",
    "\n",
    "- URL 1 中 chrome 表示访问设置页时使用的是 Chrome 协议\n",
    "\n",
    "- URL 2 中 defaultBrowser 是以 路由 表示的资源位置 (由于该位置不含文件名、文件后缀，因此为 路由 形式。)\n",
    "\n",
    "- 因此 URL 1 所用网络协议为 chrome，域名为 settings，我们访问的是服务器根目录下内容。\n",
    "URL 2 所用网络协议、域名和 URL 1 相同，不同在于资源所处位置为 defaultBrowser。"
   ]
  },
  {
   "cell_type": "code",
   "execution_count": 18,
   "metadata": {},
   "outputs": [],
   "source": [
    "# 开发者工具\n",
    "# Network 面板主要功能介绍\n",
    "# - 清空按钮\n",
    "# - 保留请求记录 Preserve log\n",
    "# - 请求类型过滤器\n",
    "# - 请求列表"
   ]
  },
  {
   "cell_type": "markdown",
   "metadata": {},
   "source": [
    "##### HTML 负责为网页添加内容，CSS 负责美化网页，JavaScript 负责让网页动起来。"
   ]
  },
  {
   "cell_type": "markdown",
   "metadata": {},
   "source": [
    "#### 查找元素"
   ]
  },
  {
   "cell_type": "code",
   "execution_count": 23,
   "metadata": {},
   "outputs": [
    {
     "name": "stdout",
     "output_type": "stream",
     "text": [
      "<class 'bs4.BeautifulSoup'>\n",
      "<class 'str'>\n"
     ]
    }
   ],
   "source": [
    "import requests\n",
    "from bs4 import BeautifulSoup\n",
    "\n",
    "headers = {\n",
    "    'user-agent':'Mozilla/5.0 (Windows NT 10.0; Win64; x64) AppleWebKit/537.36 (KHTML, like Gecko) Chrome/102.0.0.0 Safari/537.36'\n",
    "}\n",
    "res = requests.get(\"https://book.douban.com/top250\",headers=headers)\n",
    "soup = BeautifulSoup(res.text, 'html.parser')\n",
    "print(type(soup))\n",
    "print(type(res.text)) # 两个看上去一样，但是类型是不一样的"
   ]
  },
  {
   "cell_type": "code",
   "execution_count": 30,
   "metadata": {},
   "outputs": [
    {
     "name": "stdout",
     "output_type": "stream",
     "text": [
      "<a class=\"nav-login\" href=\"https://accounts.douban.com/passport/login?source=book\" rel=\"nofollow\">登录/注册</a>\n",
      "\n"
     ]
    }
   ],
   "source": [
    "print(soup.find('a'))   # 除了传入 HTML 标签名称 外，这两个方法还支持传入 HTML 属性 \n",
    "print()\n",
    "# print(soup.find_all('a'))  "
   ]
  },
  {
   "cell_type": "code",
   "execution_count": 35,
   "metadata": {},
   "outputs": [
    {
     "name": "stdout",
     "output_type": "stream",
     "text": [
      "[<span class=\"inq\">都云作者痴，谁解其中味？</span>, <span class=\"inq\">生的苦难与伟大</span>, <span class=\"inq\">栗树荫下，我出卖你，你出卖我</span>, <span class=\"inq\">魔幻现实主义文学代表作</span>, <span class=\"inq\">地球往事三部曲</span>, <span class=\"inq\">革命时期的爱情，随风而逝</span>, <span class=\"inq\">从9¾站台开始的旅程</span>, <span class=\"inq\">向死而生的文学绝唱</span>, <span class=\"inq\">是非成败转头空</span>, <span class=\"inq\">太阳底下并无新事</span>, <span class=\"inq\">名侦探的代名词</span>, <span class=\"inq\">一宗离奇命案牵出跨度近20年步步惊心的故事</span>, <span class=\"inq\">献给长成了大人的孩子们</span>, <span class=\"inq\">有情皆孽，无人不冤</span>, <span class=\"inq\">为了争取未来的一代</span>, <span class=\"inq\">游荡的自由灵魂</span>, <span class=\"inq\">有一种东西不能遵循从众原则，那就是——人的良心</span>, <span class=\"inq\">新文学的第一声呐喊</span>, <span class=\"inq\">不拘一格的历史书写</span>, <span class=\"inq\">沉默是沉默者的通行证</span>, <span class=\"inq\">我的整个生命，只是一场为了提升社会地位的低俗斗争。</span>, <span class=\"inq\">一部简明的“中国政治制度史”</span>, <span class=\"inq\">人生在世，永远也不该演戏作假</span>, <span class=\"inq\">探索青年时代的激情、困惑、挣扎、背叛和失去</span>, <span class=\"inq\">跟着人类一同走过十万年</span>]\n"
     ]
    }
   ],
   "source": [
    "soup.find('div',id='doubanapp-tip')\n",
    "soup.find_all('span',class_='rating_nums')  #因为 class 是 Python 中定义类的关键字，因此用 class_ 表示 HTML 中的 class\n",
    "soup.find_all('div',id='doubanapp-tip',class_='rating_nums')  \n",
    "soup.find_all('div',id='content')  \n",
    "print(soup.find_all('span',class_='inq'))"
   ]
  },
  {
   "cell_type": "code",
   "execution_count": 48,
   "metadata": {},
   "outputs": [
    {
     "name": "stdout",
     "output_type": "stream",
     "text": [
      "都云作者痴，谁解其中味？\n",
      "生的苦难与伟大\n",
      "栗树荫下，我出卖你，你出卖我\n",
      "魔幻现实主义文学代表作\n",
      "地球往事三部曲\n",
      "革命时期的爱情，随风而逝\n",
      "从9¾站台开始的旅程\n",
      "向死而生的文学绝唱\n",
      "是非成败转头空\n",
      "太阳底下并无新事\n",
      "名侦探的代名词\n",
      "一宗离奇命案牵出跨度近20年步步惊心的故事\n",
      "献给长成了大人的孩子们\n",
      "有情皆孽，无人不冤\n",
      "为了争取未来的一代\n",
      "游荡的自由灵魂\n",
      "有一种东西不能遵循从众原则，那就是——人的良心\n",
      "新文学的第一声呐喊\n",
      "不拘一格的历史书写\n",
      "沉默是沉默者的通行证\n",
      "我的整个生命，只是一场为了提升社会地位的低俗斗争。\n",
      "一部简明的“中国政治制度史”\n",
      "人生在世，永远也不该演戏作假\n",
      "探索青年时代的激情、困惑、挣扎、背叛和失去\n",
      "跟着人类一同走过十万年\n"
     ]
    }
   ],
   "source": [
    "items = soup.find_all('span',class_='inq')\n",
    "for i in items:\n",
    "  # 找到 class_='item' 的 div 标签中的 a 标签\n",
    "  print(i.text)"
   ]
  },
  {
   "cell_type": "code",
   "execution_count": 56,
   "metadata": {},
   "outputs": [
    {
     "name": "stdout",
     "output_type": "stream",
     "text": [
      "\n",
      "                红楼梦\n",
      "\n",
      "                \n",
      "               https://book.douban.com/subject/1007305/\n",
      "\n",
      "                活着\n",
      "\n",
      "                \n",
      "               https://book.douban.com/subject/4913064/\n",
      "\n",
      "                1984\n",
      "\n",
      "                \n",
      "               https://book.douban.com/subject/4820710/\n",
      "\n",
      "                百年孤独\n",
      "\n",
      "                \n",
      "               https://book.douban.com/subject/6082808/\n",
      "\n",
      "                三体全集\n",
      "\n",
      "                \n",
      "                   : 地球往事三部曲 \n",
      " https://book.douban.com/subject/6518605/\n",
      "\n",
      "                飘\n",
      "\n",
      "                \n",
      "               https://book.douban.com/subject/1068920/\n",
      "\n",
      "                哈利·波特\n",
      "\n",
      "                \n",
      "               https://book.douban.com/subject/24531956/\n",
      "\n",
      "                房思琪的初恋乐园\n",
      "\n",
      "                \n",
      "               https://book.douban.com/subject/27614904/\n",
      "\n",
      "                三国演义（全二册）\n",
      "\n",
      "                \n",
      "               https://book.douban.com/subject/1019568/\n",
      "\n",
      "                动物农场\n",
      "\n",
      "                \n",
      "               https://book.douban.com/subject/2035179/\n",
      "\n",
      "                福尔摩斯探案全集（上中下）\n",
      "\n",
      "                \n",
      "               https://book.douban.com/subject/1040211/\n",
      "\n",
      "                白夜行\n",
      "\n",
      "                \n",
      "               https://book.douban.com/subject/10554308/\n",
      "\n",
      "                小王子\n",
      "\n",
      "                \n",
      "               https://book.douban.com/subject/1084336/\n",
      "\n",
      "                天龙八部\n",
      "\n",
      "                \n",
      "               https://book.douban.com/subject/1255625/\n",
      "\n",
      "                安徒生童话故事集\n",
      "\n",
      "                \n",
      "               https://book.douban.com/subject/1046209/\n",
      "\n",
      "                撒哈拉的故事\n",
      "\n",
      "                \n",
      "               https://book.douban.com/subject/1060068/\n",
      "\n",
      "                杀死一只知更鸟\n",
      "\n",
      "                \n",
      "               https://book.douban.com/subject/6781808/\n",
      "\n",
      "                呐喊\n",
      "\n",
      "                \n",
      "               https://book.douban.com/subject/1449351/\n",
      "\n",
      "                明朝那些事儿（1-9）\n",
      "\n",
      "                \n",
      "                   : 限量版 \n",
      " https://book.douban.com/subject/3674537/\n",
      "\n",
      "                沉默的大多数\n",
      "\n",
      "                \n",
      "                   : 王小波杂文随笔全编 \n",
      " https://book.douban.com/subject/1054685/\n",
      "\n",
      "                失踪的孩子\n",
      "\n",
      "                \n",
      "                   : 那不勒斯四部曲4 \n",
      " https://book.douban.com/subject/30172069/\n",
      "\n",
      "                中国历代政治得失\n",
      "\n",
      "                \n",
      "               https://book.douban.com/subject/1003479/\n",
      "\n",
      "                局外人\n",
      "\n",
      "                \n",
      "               https://book.douban.com/subject/4908885/\n",
      "\n",
      "                新名字的故事\n",
      "\n",
      "                \n",
      "                   : 那不勒斯四部曲2 \n",
      " https://book.douban.com/subject/26986954/\n",
      "\n",
      "                人类简史\n",
      "\n",
      "                \n",
      "                   : 从动物到上帝 \n",
      " https://book.douban.com/subject/25985021/\n"
     ]
    }
   ],
   "source": [
    "items = soup.find_all('div', class_=\"pl2\")\n",
    "for i in items:\n",
    "  tag = i.find('a')\n",
    "  # 获取 text 属性\n",
    "  name = tag.text\n",
    "  # 获取 href 属性值\n",
    "  link = tag['href']\n",
    "  print(name, link)"
   ]
  },
  {
   "cell_type": "code",
   "execution_count": 60,
   "metadata": {},
   "outputs": [
    {
     "data": {
      "text/plain": [
       "[]"
      ]
     },
     "execution_count": 60,
     "metadata": {},
     "output_type": "execute_result"
    }
   ],
   "source": [
    "soup.select('p.item')"
   ]
  }
 ],
 "metadata": {
  "kernelspec": {
   "display_name": "Python 3.6.13 ('tensorflow')",
   "language": "python",
   "name": "python3"
  },
  "language_info": {
   "codemirror_mode": {
    "name": "ipython",
    "version": 3
   },
   "file_extension": ".py",
   "mimetype": "text/x-python",
   "name": "python",
   "nbconvert_exporter": "python",
   "pygments_lexer": "ipython3",
   "version": "3.6.13"
  },
  "orig_nbformat": 4,
  "vscode": {
   "interpreter": {
    "hash": "74973848420d399980c11f16a640d467c2e8f2266629d1ddb4e03d028dbfee73"
   }
  }
 },
 "nbformat": 4,
 "nbformat_minor": 2
}
