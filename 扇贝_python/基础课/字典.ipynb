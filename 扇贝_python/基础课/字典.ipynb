{
 "cells": [
  {
   "cell_type": "markdown",
   "metadata": {},
   "source": [
    "字典元素的修改/添加/删除"
   ]
  },
  {
   "cell_type": "code",
   "execution_count": 1,
   "metadata": {},
   "outputs": [
    {
     "name": "stdout",
     "output_type": "stream",
     "text": [
      "{'林黛玉': 90, '薛宝钗': 93, '贾宝玉': 78}\n",
      "{'林黛玉': 90, '薛宝钗': 93, '贾宝玉': 78, '袭人': 85}\n",
      "{'薛宝钗': 93, '贾宝玉': 78, '袭人': 85}\n"
     ]
    }
   ],
   "source": [
    "scores = {\n",
    "  '林黛玉': 95,\n",
    "  '薛宝钗': 93,\n",
    "  '贾宝玉': 78\n",
    "}\n",
    "\n",
    "# 修改\n",
    "scores['林黛玉'] = 90\n",
    "print(scores)\n",
    "# 输出：{'林黛玉': 90, '薛宝钗': 93, '贾宝玉': 78}\n",
    "\n",
    "# 添加\n",
    "scores['袭人'] = 85\n",
    "print(scores)\n",
    "# 输出：{'林黛玉': 90, '薛宝钗': 93, '贾宝玉': 78, '袭人': 85}\n",
    "\n",
    "# 删除\n",
    "del scores['林黛玉']\n",
    "print(scores)\n",
    "# 输出：{'薛宝钗': 93, '贾宝玉': 78, '袭人': 85}"
   ]
  },
  {
   "cell_type": "code",
   "execution_count": null,
   "metadata": {},
   "outputs": [],
   "source": [
    "scores = students.values()\n",
    "for score in scores:\n",
    "  print(score)"
   ]
  }
 ],
 "metadata": {
  "kernelspec": {
   "display_name": "Python 3.6.13 ('tensorflow')",
   "language": "python",
   "name": "python3"
  },
  "language_info": {
   "codemirror_mode": {
    "name": "ipython",
    "version": 3
   },
   "file_extension": ".py",
   "mimetype": "text/x-python",
   "name": "python",
   "nbconvert_exporter": "python",
   "pygments_lexer": "ipython3",
   "version": "3.6.13"
  },
  "orig_nbformat": 4,
  "vscode": {
   "interpreter": {
    "hash": "74973848420d399980c11f16a640d467c2e8f2266629d1ddb4e03d028dbfee73"
   }
  }
 },
 "nbformat": 4,
 "nbformat_minor": 2
}
