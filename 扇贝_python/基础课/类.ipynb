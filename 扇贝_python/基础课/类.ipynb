{
 "cells": [
  {
   "cell_type": "markdown",
   "metadata": {},
   "source": [
    "在定义类方法时，一定要把 self 参数放在参数列表第一项 哦。"
   ]
  },
  {
   "cell_type": "markdown",
   "metadata": {},
   "source": [
    "__init__() 方法和程序入口 __main__ 一样，都以两个下划线 __ 开头、两个下划线结束。这意味着 __init__ 也是 Python 中内置的一个名称，有着特殊的功能。init 的全称是 initialize（初始化），会在我们实例化新的对象时 自动调用"
   ]
  },
  {
   "cell_type": "code",
   "execution_count": 2,
   "metadata": {},
   "outputs": [],
   "source": [
    "# 布偶猫\n",
    "class Dagdoll: pass\n",
    "kitty = Dagdoll()     # Kitty 是布偶猫"
   ]
  },
  {
   "cell_type": "markdown",
   "metadata": {},
   "source": [
    "isinstance()函数接受两个参数，第一个参数为某个实例对象，第二个参数为某个类,能够检查第一个参数是否是第二个参数的 实例，并返回 True 或 False。\n"
   ]
  },
  {
   "cell_type": "code",
   "execution_count": 4,
   "metadata": {},
   "outputs": [
    {
     "name": "stdout",
     "output_type": "stream",
     "text": [
      "True\n"
     ]
    }
   ],
   "source": [
    "print(isinstance(kitty,Dagdoll))"
   ]
  },
  {
   "cell_type": "markdown",
   "metadata": {},
   "source": [
    "类的继承"
   ]
  },
  {
   "cell_type": "code",
   "execution_count": 5,
   "metadata": {},
   "outputs": [],
   "source": [
    "# 狗狗\n",
    "class Dog: pass\n",
    "\n",
    "# 萨摩耶犬\n",
    "class Samoyed(Dog): pass \n",
    "#我接下来定义的 Samoyed 类 继承自 Dog 类，是它的 子类 哦。"
   ]
  },
  {
   "cell_type": "code",
   "execution_count": 6,
   "metadata": {},
   "outputs": [
    {
     "name": "stdout",
     "output_type": "stream",
     "text": [
      "True\n"
     ]
    }
   ],
   "source": [
    "dingding=Samoyed()\n",
    "print(isinstance(dingding,Dog))"
   ]
  },
  {
   "cell_type": "code",
   "execution_count": 7,
   "metadata": {},
   "outputs": [],
   "source": [
    "# 狗狗\n",
    "class Dog:\n",
    "  # 犬科动物有四条腿\n",
    "  leg_num = 4\n",
    "  # 能奔跑\n",
    "  def run(self):\n",
    "    print('🐕💨 狗狗快跑')\n",
    "  # 开心的时候会摇尾巴\n",
    "  def happy(self):\n",
    "    print('🐕💓 狗狗开心地摇起了尾巴')"
   ]
  },
  {
   "cell_type": "code",
   "execution_count": 8,
   "metadata": {},
   "outputs": [
    {
     "name": "stdout",
     "output_type": "stream",
     "text": [
      "丁丁：🐕💨 狗狗快跑\n",
      "小可：🐕💓 狗狗开心地摇起了尾巴\n"
     ]
    }
   ],
   "source": [
    "# 萨摩耶犬\n",
    "class Samoyed(Dog): pass\n",
    "\n",
    "# 柯基犬\n",
    "class Corgi(Dog): pass\n",
    "\n",
    "# 丁丁是一只萨摩耶犬\n",
    "dingding = Samoyed()\n",
    "print('丁丁：', end = '') # 输出“丁丁：”后不换行\n",
    "# 丁丁能奔跑\n",
    "dingding.run()\n",
    "\n",
    "# 小可是一只柯基犬\n",
    "xiaoke = Corgi()\n",
    "print('小可：', end = '')\n",
    "# 小可在快乐地摇尾巴\n",
    "xiaoke.happy()"
   ]
  },
  {
   "cell_type": "code",
   "execution_count": null,
   "metadata": {},
   "outputs": [],
   "source": []
  }
 ],
 "metadata": {
  "kernelspec": {
   "display_name": "Python 3.6.13 ('tensorflow')",
   "language": "python",
   "name": "python3"
  },
  "language_info": {
   "codemirror_mode": {
    "name": "ipython",
    "version": 3
   },
   "file_extension": ".py",
   "mimetype": "text/x-python",
   "name": "python",
   "nbconvert_exporter": "python",
   "pygments_lexer": "ipython3",
   "version": "3.6.13"
  },
  "orig_nbformat": 4,
  "vscode": {
   "interpreter": {
    "hash": "74973848420d399980c11f16a640d467c2e8f2266629d1ddb4e03d028dbfee73"
   }
  }
 },
 "nbformat": 4,
 "nbformat_minor": 2
}
